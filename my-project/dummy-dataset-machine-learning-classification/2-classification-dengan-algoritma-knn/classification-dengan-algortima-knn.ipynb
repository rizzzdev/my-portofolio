{
 "cells": [
  {
   "cell_type": "markdown",
   "metadata": {},
   "source": [
    "# Classification dengan Algoritma K-Nearest Neighbors (KNN)\n",
    "\n",
    "Sebelumnya telah dibuat sebuah dummy dataset yaitu `Dataset Pinjaman` yang akan digunakan untuk Classification. Di sini akan dilakukan proses Classification dengan dataset tersebut menggunakan algoritma K-Nearest Neighbors (KNN). Beberapa hal yang akan dilakukan adalah:\n",
    "- Import Modules dan Load Dataset\n",
    "- Data Preprocessing\n",
    "- Modelling dengan K-Nearest Neighbors (KNN)\n",
    "- Evaluasi Performa Model\n",
    "- Hyperparameter Tuning dan Cross Validation"
   ]
  },
  {
   "cell_type": "markdown",
   "metadata": {},
   "source": [
    "## Import Modules dan Load Dataset\n",
    "\n",
    "Hal pertama yang akan dilakukan adalah meng-import beberapa modules dan me-load dataset yang akan digunakan."
   ]
  },
  {
   "cell_type": "markdown",
   "metadata": {},
   "source": [
    "Beberapa modules yang akan digunakan adalah:\n",
    "- pandas, untuk me-load dan mengolah dataset\n",
    "- numpy, untuk melakukan operasi matematika dan transformasi data\n",
    "- seaborn & pyplot, untuk melakukan visualisasi data\n",
    "- resample, untuk melakukan peng-handle-an terhadap imbalanced data dengan teknik under sampling\n",
    "- LabelEncoder, untuk melakukan encoding terhadap data kategorik\n",
    "- MinMaxScaler, untuk melakukan scalling terhadap data numerik\n",
    "- train_test_split, untuk memisahkan dataset menjadi training dan testing data\n",
    "- KNeighborsClassifier, sebagai algoritma untuk melakukan proses Classification\n",
    "- classification_report, sebagai media untuk melakukan evaluasi performa model\n",
    "- GridSearchCV, untuk melakukan  cross validation dan hyperparameter tuning"
   ]
  },
  {
   "cell_type": "code",
   "execution_count": 32,
   "metadata": {},
   "outputs": [],
   "source": [
    "import pandas as pd\n",
    "import numpy as np\n",
    "import seaborn as sb\n",
    "import matplotlib.pyplot as plt\n",
    "from sklearn.utils import resample\n",
    "from sklearn.preprocessing import LabelEncoder, MinMaxScaler\n",
    "from sklearn.model_selection import train_test_split, GridSearchCV\n",
    "from sklearn.neighbors import KNeighborsClassifier\n",
    "from sklearn.metrics import confusion_matrix, classification_report"
   ]
  },
  {
   "cell_type": "markdown",
   "metadata": {},
   "source": [
    "Sedangkan dataset yang akan digunakan adalah `Dataset Pinjaman` yang merupakan dummy dataset yang sebelumnya telah dibuat. Kolom `id` pada dataset tidak akan digunakan dalam proses Classification, sehingga kolom tersebut akan dibuang (dropped). Dataset akan di-load menggunakan pandas dengan variable `df` dan akan dibuat dataset backup dengan variable `df_backup`."
   ]
  },
  {
   "cell_type": "code",
   "execution_count": 2,
   "metadata": {},
   "outputs": [],
   "source": [
    "df = pd.read_csv('../1-membuat-dummy-dataset/dataset/datasetPinjaman.csv')\n",
    "df_backup = df.copy(deep = True)\n",
    "df.drop(columns = ['id'], inplace = True)"
   ]
  },
  {
   "cell_type": "markdown",
   "metadata": {},
   "source": [
    "## Data Preprocessing\n",
    "\n",
    "Proses selanjutnya yaitu data preprocessing. Dataset yang telah di-load perlu melalui serangkaian proses terlebih dahulu sebelum digunakan untuk proses Classification. Serangkaian proses yang akan dilakukan adalah:\n",
    "- Deteksi dan Handle Outlier\n",
    "- Deteksi dan Handle Duplicated Data\n",
    "- Deteksi dan Handle Imbalanced Data\n",
    "- Encoding Data Kategorik\n",
    "- Normalization Data Numerik\n",
    "- Splitting Training dan Testing Data"
   ]
  },
  {
   "cell_type": "markdown",
   "metadata": {},
   "source": [
    "### Deteksi dan Handle Outlier\n",
    "\n",
    "Data outlier perlu dihandle karena dapat berpengaruh buruk terhadap performa model Classification. Deteksi dan peng-handle-an terhadap data outlier hanya dilakukan untuk data numerik. Peng-handle-an data outlier dilakukan dengan cara mengganti data outlier dengan suatu nilai tertentu."
   ]
  },
  {
   "cell_type": "markdown",
   "metadata": {},
   "source": [
    "Untuk melakukan deteksi terhadap outlier, dapat dilakukan dengan cara mem-plot data ke dalam boxplot. Data outlier akan terlihat sebagai titik-titik pada boxplot. Untuk melakukannya dapat dengan mengeksekusi perintah berikut ini."
   ]
  },
  {
   "cell_type": "code",
   "execution_count": 10,
   "metadata": {},
   "outputs": [
    {
     "data": {
      "image/png": "[encoded data removed]",
      "text/plain": [
       "<Figure size 1000x700 with 4 Axes>"
      ]
     },
     "metadata": {},
     "output_type": "display_data"
    }
   ],
   "source": [
    "fig, ax = plt.subplots(2, 2, figsize = (10, 7))\n",
    "for col, ax in zip(df.drop(columns = 'pinjamanDiTerima').select_dtypes(['int', 'float']).columns, ax.flatten()):\n",
    "    sb.boxplot(data = df, x = col, ax = ax)"
   ]
  },
  {
   "cell_type": "markdown",
   "metadata": {},
   "source": [
    "Terlihat bahwa tidak ada titik-titik pada boxplot. Artinya data yang digunakan telah bebas dari data outlier. Maka tidak perlu dilakukan peng-handle-an terhadap data outlier."
   ]
  },
  {
   "cell_type": "markdown",
   "metadata": {},
   "source": [
    "### Deteksi dan Handle Duplicated Data\n",
    "\n",
    "Duplicated data juga dapat berpengaruh buruk terhadap performa model Classification sehingga perlu dihandle. Peng-handle-an terhadap duplicated data dilakukan dengan cara membuang baris yang terindikasi sebagai duplicated data."
   ]
  },
  {
   "cell_type": "markdown",
   "metadata": {},
   "source": [
    "Untuk melakukan deteksi terhadap duplicated data, dapat mengeksekusi perintah berikut ini."
   ]
  },
  {
   "cell_type": "code",
   "execution_count": 12,
   "metadata": {},
   "outputs": [
    {
     "data": {
      "text/plain": [
       "False    1997\n",
       "True        3\n",
       "Name: count, dtype: int64"
      ]
     },
     "execution_count": 12,
     "metadata": {},
     "output_type": "execute_result"
    }
   ],
   "source": [
    "df.duplicated().value_counts()"
   ]
  },
  {
   "cell_type": "markdown",
   "metadata": {},
   "source": [
    "Index `True` di atas menyatakan jumlah baris yang terindikasi sebagai duplicated data. Untuk meng-handle-nya dapat mengeksekusi perintah berikut ini."
   ]
  },
  {
   "cell_type": "code",
   "execution_count": 13,
   "metadata": {},
   "outputs": [],
   "source": [
    "df.drop_duplicates(inplace = True)"
   ]
  },
  {
   "cell_type": "markdown",
   "metadata": {},
   "source": [
    "Untuk mengcek kembali apakah masih terdapat duplicated data, jalankan kembali perintah berikut ini."
   ]
  },
  {
   "cell_type": "code",
   "execution_count": 14,
   "metadata": {},
   "outputs": [
    {
     "data": {
      "text/plain": [
       "False    1997\n",
       "Name: count, dtype: int64"
      ]
     },
     "execution_count": 14,
     "metadata": {},
     "output_type": "execute_result"
    }
   ],
   "source": [
    "df.duplicated().value_counts()"
   ]
  },
  {
   "cell_type": "markdown",
   "metadata": {},
   "source": [
    "Terlihat bahwa sudah tidak ada duplicated data."
   ]
  },
  {
   "cell_type": "markdown",
   "metadata": {},
   "source": [
    "### Deteksi dan Handle Imbalanced Data\n",
    "\n",
    "Data target yang tidak seimbang (imbalanced data) perlu di-handle karena akan membuat model cenderung memprediksi terhadap data yang bersifat mayoritas, sehingga model menjadi bias. Peng-handle-an terhadap imbalanced data dilakukan dengan teknik resampling (dalam kasus ini, undersampling)."
   ]
  },
  {
   "cell_type": "markdown",
   "metadata": {},
   "source": [
    "Untuk mendeteksi adanya imbalanced data pada data target, dapat menjalankan perintah berikut ini."
   ]
  },
  {
   "cell_type": "code",
   "execution_count": 15,
   "metadata": {},
   "outputs": [
    {
     "data": {
      "text/plain": [
       "pinjamanDiTerima\n",
       "0    1176\n",
       "1     821\n",
       "Name: count, dtype: int64"
      ]
     },
     "execution_count": 15,
     "metadata": {},
     "output_type": "execute_result"
    }
   ],
   "source": [
    "df['pinjamanDiTerima'].value_counts()"
   ]
  },
  {
   "cell_type": "markdown",
   "metadata": {},
   "source": [
    "Terlihat bahwa data target bernilai 0 jumlahnya lebih besar (mayoritas) daripada data target bernilai 1, sehingga diperlukan peng-handle-an. Peng-handle-an dengan teknik undersampling dapat dilakukan dengan mengeksekusi perintah berikut ini."
   ]
  },
  {
   "cell_type": "code",
   "execution_count": 16,
   "metadata": {},
   "outputs": [],
   "source": [
    "df_minor = df[df['pinjamanDiTerima'] == 1]\n",
    "df_major = df[df['pinjamanDiTerima'] == 0]\n",
    "\n",
    "df_major_undersampling = resample(\n",
    "    df_major,\n",
    "    replace = False,\n",
    "    n_samples = len(df_minor),\n",
    "    random_state = 42\n",
    ")\n",
    "\n",
    "df = pd.concat([df_minor, df_major_undersampling])"
   ]
  },
  {
   "cell_type": "markdown",
   "metadata": {},
   "source": [
    "Untuk mengcek kembali apakah masih terdapat dimbalanced data, jalankan kembali perintah berikut ini."
   ]
  },
  {
   "cell_type": "code",
   "execution_count": 17,
   "metadata": {},
   "outputs": [
    {
     "data": {
      "text/plain": [
       "pinjamanDiTerima\n",
       "1    821\n",
       "0    821\n",
       "Name: count, dtype: int64"
      ]
     },
     "execution_count": 17,
     "metadata": {},
     "output_type": "execute_result"
    }
   ],
   "source": [
    "df['pinjamanDiTerima'].value_counts()"
   ]
  },
  {
   "cell_type": "markdown",
   "metadata": {},
   "source": [
    "Terlihat bahwa data target sudah seimbang, maka proses peng-handle-an berhasil dilakukan. Hanya saja, jumlah entri data berkurang. Ini perlu dipikirkan, bisa jadi berkurangnya jumlah entri data juga berpengaruh buruk terhadap performa model. Namun pada kesempatan kali ini, kita kesampingkan hal tersebut terlebih dahulu."
   ]
  },
  {
   "cell_type": "markdown",
   "metadata": {},
   "source": [
    "### Encoding Data Kategorik\n",
    "\n",
    "Algoritma Machine Learning hanya dapat memproses data yang bertipe numerik. Oleh karena itu, data dengan tipe kategorik harus dilakukan proses encoding terlebih dahulu untuk mengubah tipe data kategorik tersebut menjadi numerik."
   ]
  },
  {
   "cell_type": "markdown",
   "metadata": {},
   "source": [
    "Pada kesempatan ini, data kategorik akan diencode dengan Label Encoder. Untuk melakukannya dapat mengeksekusi perintah di bawah ini."
   ]
  },
  {
   "cell_type": "code",
   "execution_count": 24,
   "metadata": {},
   "outputs": [],
   "source": [
    "encoder = LabelEncoder()\n",
    "for col in df_backup.drop(columns = ['id', 'pinjamanDiTerima']).select_dtypes(['object']).columns:\n",
    "    df[col] = encoder.fit_transform(df[col])"
   ]
  },
  {
   "cell_type": "markdown",
   "metadata": {},
   "source": [
    "Untuk mengcek apakah proses encoding berhasil dilakukan, jalankan perintah di bawah ini."
   ]
  },
  {
   "cell_type": "code",
   "execution_count": 25,
   "metadata": {},
   "outputs": [
    {
     "data": {
      "text/html": [
       "<div>\n",
       "<style scoped>\n",
       "    .dataframe tbody tr th:only-of-type {\n",
       "        vertical-align: middle;\n",
       "    }\n",
       "\n",
       "    .dataframe tbody tr th {\n",
       "        vertical-align: top;\n",
       "    }\n",
       "\n",
       "    .dataframe thead th {\n",
       "        text-align: right;\n",
       "    }\n",
       "</style>\n",
       "<table border=\"1\" class=\"dataframe\">\n",
       "  <thead>\n",
       "    <tr style=\"text-align: right;\">\n",
       "      <th></th>\n",
       "      <th>jenisKelamin</th>\n",
       "      <th>umur</th>\n",
       "      <th>sudahMenikah</th>\n",
       "      <th>melampirkanKTP</th>\n",
       "      <th>penghasilanPerBulan</th>\n",
       "      <th>pengeluaranPerBulan</th>\n",
       "      <th>jumlahPinjaman</th>\n",
       "      <th>pinjamanDiTerima</th>\n",
       "    </tr>\n",
       "  </thead>\n",
       "  <tbody>\n",
       "    <tr>\n",
       "      <th>1</th>\n",
       "      <td>1</td>\n",
       "      <td>31</td>\n",
       "      <td>1</td>\n",
       "      <td>1</td>\n",
       "      <td>90000000</td>\n",
       "      <td>31000000</td>\n",
       "      <td>4000000</td>\n",
       "      <td>1</td>\n",
       "    </tr>\n",
       "    <tr>\n",
       "      <th>3</th>\n",
       "      <td>0</td>\n",
       "      <td>23</td>\n",
       "      <td>1</td>\n",
       "      <td>1</td>\n",
       "      <td>97000000</td>\n",
       "      <td>74000000</td>\n",
       "      <td>3000000</td>\n",
       "      <td>1</td>\n",
       "    </tr>\n",
       "    <tr>\n",
       "      <th>4</th>\n",
       "      <td>0</td>\n",
       "      <td>27</td>\n",
       "      <td>1</td>\n",
       "      <td>1</td>\n",
       "      <td>79000000</td>\n",
       "      <td>65000000</td>\n",
       "      <td>3000000</td>\n",
       "      <td>1</td>\n",
       "    </tr>\n",
       "    <tr>\n",
       "      <th>9</th>\n",
       "      <td>0</td>\n",
       "      <td>35</td>\n",
       "      <td>1</td>\n",
       "      <td>1</td>\n",
       "      <td>92000000</td>\n",
       "      <td>14000000</td>\n",
       "      <td>5000000</td>\n",
       "      <td>1</td>\n",
       "    </tr>\n",
       "    <tr>\n",
       "      <th>12</th>\n",
       "      <td>0</td>\n",
       "      <td>27</td>\n",
       "      <td>1</td>\n",
       "      <td>1</td>\n",
       "      <td>76000000</td>\n",
       "      <td>57000000</td>\n",
       "      <td>4000000</td>\n",
       "      <td>1</td>\n",
       "    </tr>\n",
       "  </tbody>\n",
       "</table>\n",
       "</div>"
      ],
      "text/plain": [
       "    jenisKelamin  umur  sudahMenikah  melampirkanKTP  penghasilanPerBulan  \\\n",
       "1              1    31             1               1             90000000   \n",
       "3              0    23             1               1             97000000   \n",
       "4              0    27             1               1             79000000   \n",
       "9              0    35             1               1             92000000   \n",
       "12             0    27             1               1             76000000   \n",
       "\n",
       "    pengeluaranPerBulan  jumlahPinjaman  pinjamanDiTerima  \n",
       "1              31000000         4000000                 1  \n",
       "3              74000000         3000000                 1  \n",
       "4              65000000         3000000                 1  \n",
       "9              14000000         5000000                 1  \n",
       "12             57000000         4000000                 1  "
      ]
     },
     "execution_count": 25,
     "metadata": {},
     "output_type": "execute_result"
    }
   ],
   "source": [
    "df.head()"
   ]
  },
  {
   "cell_type": "markdown",
   "metadata": {},
   "source": [
    "Terlihat bahwa data kategorik, yaitu kolom `jenisKelamin`, `sudahMenikah`, dan `melampirkanKTP` telah berhasil di-encode menjadi numerik."
   ]
  },
  {
   "cell_type": "markdown",
   "metadata": {},
   "source": [
    "### Normalization Data Numerik\n",
    "\n",
    "Terdapat algoritma Classification yang sensitif terhadap jarak, terutama jika kolom-kolom numerik pada suatu data memiliki orde yang berbeda (misalnya suatu kolom berorde satuan, deangkan kolom lainnya berorde jutaan). Maka data tersebut harus ditransformasikan. Terdapat dua jenis transformasi, yaitu Normalization dan Standardization. Pada kesempatan ini hanya akan dilakukan Normalization dengan Min Max Scaler."
   ]
  },
  {
   "cell_type": "markdown",
   "metadata": {},
   "source": [
    "Untuk melakukan proses normalization data numerik, dapat mengeksekusi perintah di bawah ini."
   ]
  },
  {
   "cell_type": "code",
   "execution_count": 26,
   "metadata": {},
   "outputs": [],
   "source": [
    "scaler = MinMaxScaler()\n",
    "for col in df_backup.drop(columns = ['id', 'pinjamanDiTerima']).select_dtypes(['int', 'float']).columns:\n",
    "    df[col] = scaler.fit_transform(np.array(df[col]).reshape(-1, 1))"
   ]
  },
  {
   "cell_type": "markdown",
   "metadata": {},
   "source": [
    "Untuk mengcek apakah proses normalization telah berhasil dilakukan, jalankan perintah di bawah ini."
   ]
  },
  {
   "cell_type": "code",
   "execution_count": 27,
   "metadata": {},
   "outputs": [
    {
     "data": {
      "text/html": [
       "<div>\n",
       "<style scoped>\n",
       "    .dataframe tbody tr th:only-of-type {\n",
       "        vertical-align: middle;\n",
       "    }\n",
       "\n",
       "    .dataframe tbody tr th {\n",
       "        vertical-align: top;\n",
       "    }\n",
       "\n",
       "    .dataframe thead th {\n",
       "        text-align: right;\n",
       "    }\n",
       "</style>\n",
       "<table border=\"1\" class=\"dataframe\">\n",
       "  <thead>\n",
       "    <tr style=\"text-align: right;\">\n",
       "      <th></th>\n",
       "      <th>jenisKelamin</th>\n",
       "      <th>umur</th>\n",
       "      <th>sudahMenikah</th>\n",
       "      <th>melampirkanKTP</th>\n",
       "      <th>penghasilanPerBulan</th>\n",
       "      <th>pengeluaranPerBulan</th>\n",
       "      <th>jumlahPinjaman</th>\n",
       "      <th>pinjamanDiTerima</th>\n",
       "    </tr>\n",
       "  </thead>\n",
       "  <tbody>\n",
       "    <tr>\n",
       "      <th>1</th>\n",
       "      <td>1</td>\n",
       "      <td>0.619048</td>\n",
       "      <td>1</td>\n",
       "      <td>1</td>\n",
       "      <td>0.898876</td>\n",
       "      <td>0.235955</td>\n",
       "      <td>0.75</td>\n",
       "      <td>1</td>\n",
       "    </tr>\n",
       "    <tr>\n",
       "      <th>3</th>\n",
       "      <td>0</td>\n",
       "      <td>0.238095</td>\n",
       "      <td>1</td>\n",
       "      <td>1</td>\n",
       "      <td>0.977528</td>\n",
       "      <td>0.719101</td>\n",
       "      <td>0.50</td>\n",
       "      <td>1</td>\n",
       "    </tr>\n",
       "    <tr>\n",
       "      <th>4</th>\n",
       "      <td>0</td>\n",
       "      <td>0.428571</td>\n",
       "      <td>1</td>\n",
       "      <td>1</td>\n",
       "      <td>0.775281</td>\n",
       "      <td>0.617978</td>\n",
       "      <td>0.50</td>\n",
       "      <td>1</td>\n",
       "    </tr>\n",
       "    <tr>\n",
       "      <th>9</th>\n",
       "      <td>0</td>\n",
       "      <td>0.809524</td>\n",
       "      <td>1</td>\n",
       "      <td>1</td>\n",
       "      <td>0.921348</td>\n",
       "      <td>0.044944</td>\n",
       "      <td>1.00</td>\n",
       "      <td>1</td>\n",
       "    </tr>\n",
       "    <tr>\n",
       "      <th>12</th>\n",
       "      <td>0</td>\n",
       "      <td>0.428571</td>\n",
       "      <td>1</td>\n",
       "      <td>1</td>\n",
       "      <td>0.741573</td>\n",
       "      <td>0.528090</td>\n",
       "      <td>0.75</td>\n",
       "      <td>1</td>\n",
       "    </tr>\n",
       "  </tbody>\n",
       "</table>\n",
       "</div>"
      ],
      "text/plain": [
       "    jenisKelamin      umur  sudahMenikah  melampirkanKTP  penghasilanPerBulan  \\\n",
       "1              1  0.619048             1               1             0.898876   \n",
       "3              0  0.238095             1               1             0.977528   \n",
       "4              0  0.428571             1               1             0.775281   \n",
       "9              0  0.809524             1               1             0.921348   \n",
       "12             0  0.428571             1               1             0.741573   \n",
       "\n",
       "    pengeluaranPerBulan  jumlahPinjaman  pinjamanDiTerima  \n",
       "1              0.235955            0.75                 1  \n",
       "3              0.719101            0.50                 1  \n",
       "4              0.617978            0.50                 1  \n",
       "9              0.044944            1.00                 1  \n",
       "12             0.528090            0.75                 1  "
      ]
     },
     "execution_count": 27,
     "metadata": {},
     "output_type": "execute_result"
    }
   ],
   "source": [
    "df.head()"
   ]
  },
  {
   "cell_type": "markdown",
   "metadata": {},
   "source": [
    "Terlihat bahwa data numerik, yaitu kolom `umur`, `penghasilanPerBulan`, `pengeluaranPerBulan `dan `jumlahPinjaman` telah berhasil dilakukan proses normalization."
   ]
  },
  {
   "cell_type": "markdown",
   "metadata": {},
   "source": [
    "### Splitting Training dan Testing Data\n",
    "\n",
    "Untuk melakukan proses Classification, sebuah data harus dipecah menjadi dua, yaitu training data dan testing data. Training data digunakan untuk melatih model Classification agar dapat melakukan prediksi terhadap data lain. Testing data digunakan untuk menguji dan mengevaluasi performa model Classification."
   ]
  },
  {
   "cell_type": "markdown",
   "metadata": {},
   "source": [
    "Untuk melakukan proses ini, dapat menjalankan perintah di bawah ini."
   ]
  },
  {
   "cell_type": "code",
   "execution_count": 28,
   "metadata": {},
   "outputs": [],
   "source": [
    "X = df.drop(columns = 'pinjamanDiTerima')\n",
    "y = df['pinjamanDiTerima']\n",
    "\n",
    "X_train, X_test, y_train, y_test = train_test_split(\n",
    "    X, y,\n",
    "    test_size = 0.2,\n",
    "    stratify = y,\n",
    "    random_state = 42\n",
    ")"
   ]
  },
  {
   "cell_type": "markdown",
   "metadata": {},
   "source": [
    "## Modelling dengan K-Nearest Neighbors (KNN)\n",
    "\n",
    "Di sinilah proses Classification dimulai. Model yang akan digunakan adalah K-Nearest Neighbors. Model akan dilatih menggunakan training data dan diuji serta dievaluasi menggunakan testing data."
   ]
  },
  {
   "cell_type": "markdown",
   "metadata": {},
   "source": [
    "Proses modelling dapat dilakukan dengan mengeksekusi perintah di bawah ini."
   ]
  },
  {
   "cell_type": "code",
   "execution_count": 29,
   "metadata": {},
   "outputs": [
    {
     "data": {
      "text/html": [
       "<style>#sk-container-id-1 {color: black;}#sk-container-id-1 pre{padding: 0;}#sk-container-id-1 div.sk-toggleable {background-color: white;}#sk-container-id-1 label.sk-toggleable__label {cursor: pointer;display: block;width: 100%;margin-bottom: 0;padding: 0.3em;box-sizing: border-box;text-align: center;}#sk-container-id-1 label.sk-toggleable__label-arrow:before {content: \"▸\";float: left;margin-right: 0.25em;color: #696969;}#sk-container-id-1 label.sk-toggleable__label-arrow:hover:before {color: black;}#sk-container-id-1 div.sk-estimator:hover label.sk-toggleable__label-arrow:before {color: black;}#sk-container-id-1 div.sk-toggleable__content {max-height: 0;max-width: 0;overflow: hidden;text-align: left;background-color: #f0f8ff;}#sk-container-id-1 div.sk-toggleable__content pre {margin: 0.2em;color: black;border-radius: 0.25em;background-color: #f0f8ff;}#sk-container-id-1 input.sk-toggleable__control:checked~div.sk-toggleable__content {max-height: 200px;max-width: 100%;overflow: auto;}#sk-container-id-1 input.sk-toggleable__control:checked~label.sk-toggleable__label-arrow:before {content: \"▾\";}#sk-container-id-1 div.sk-estimator input.sk-toggleable__control:checked~label.sk-toggleable__label {background-color: #d4ebff;}#sk-container-id-1 div.sk-label input.sk-toggleable__control:checked~label.sk-toggleable__label {background-color: #d4ebff;}#sk-container-id-1 input.sk-hidden--visually {border: 0;clip: rect(1px 1px 1px 1px);clip: rect(1px, 1px, 1px, 1px);height: 1px;margin: -1px;overflow: hidden;padding: 0;position: absolute;width: 1px;}#sk-container-id-1 div.sk-estimator {font-family: monospace;background-color: #f0f8ff;border: 1px dotted black;border-radius: 0.25em;box-sizing: border-box;margin-bottom: 0.5em;}#sk-container-id-1 div.sk-estimator:hover {background-color: #d4ebff;}#sk-container-id-1 div.sk-parallel-item::after {content: \"\";width: 100%;border-bottom: 1px solid gray;flex-grow: 1;}#sk-container-id-1 div.sk-label:hover label.sk-toggleable__label {background-color: #d4ebff;}#sk-container-id-1 div.sk-serial::before {content: \"\";position: absolute;border-left: 1px solid gray;box-sizing: border-box;top: 0;bottom: 0;left: 50%;z-index: 0;}#sk-container-id-1 div.sk-serial {display: flex;flex-direction: column;align-items: center;background-color: white;padding-right: 0.2em;padding-left: 0.2em;position: relative;}#sk-container-id-1 div.sk-item {position: relative;z-index: 1;}#sk-container-id-1 div.sk-parallel {display: flex;align-items: stretch;justify-content: center;background-color: white;position: relative;}#sk-container-id-1 div.sk-item::before, #sk-container-id-1 div.sk-parallel-item::before {content: \"\";position: absolute;border-left: 1px solid gray;box-sizing: border-box;top: 0;bottom: 0;left: 50%;z-index: -1;}#sk-container-id-1 div.sk-parallel-item {display: flex;flex-direction: column;z-index: 1;position: relative;background-color: white;}#sk-container-id-1 div.sk-parallel-item:first-child::after {align-self: flex-end;width: 50%;}#sk-container-id-1 div.sk-parallel-item:last-child::after {align-self: flex-start;width: 50%;}#sk-container-id-1 div.sk-parallel-item:only-child::after {width: 0;}#sk-container-id-1 div.sk-dashed-wrapped {border: 1px dashed gray;margin: 0 0.4em 0.5em 0.4em;box-sizing: border-box;padding-bottom: 0.4em;background-color: white;}#sk-container-id-1 div.sk-label label {font-family: monospace;font-weight: bold;display: inline-block;line-height: 1.2em;}#sk-container-id-1 div.sk-label-container {text-align: center;}#sk-container-id-1 div.sk-container {/* jupyter's `normalize.less` sets `[hidden] { display: none; }` but bootstrap.min.css set `[hidden] { display: none !important; }` so we also need the `!important` here to be able to override the default hidden behavior on the sphinx rendered scikit-learn.org. See: https://github.com/scikit-learn/scikit-learn/issues/21755 */display: inline-block !important;position: relative;}#sk-container-id-1 div.sk-text-repr-fallback {display: none;}</style><div id=\"sk-container-id-1\" class=\"sk-top-container\"><div class=\"sk-text-repr-fallback\"><pre>KNeighborsClassifier()</pre><b>In a Jupyter environment, please rerun this cell to show the HTML representation or trust the notebook. <br />On GitHub, the HTML representation is unable to render, please try loading this page with nbviewer.org.</b></div><div class=\"sk-container\" hidden><div class=\"sk-item\"><div class=\"sk-estimator sk-toggleable\"><input class=\"sk-toggleable__control sk-hidden--visually\" id=\"sk-estimator-id-1\" type=\"checkbox\" checked><label for=\"sk-estimator-id-1\" class=\"sk-toggleable__label sk-toggleable__label-arrow\">KNeighborsClassifier</label><div class=\"sk-toggleable__content\"><pre>KNeighborsClassifier()</pre></div></div></div></div></div>"
      ],
      "text/plain": [
       "KNeighborsClassifier()"
      ]
     },
     "execution_count": 29,
     "metadata": {},
     "output_type": "execute_result"
    }
   ],
   "source": [
    "model = KNeighborsClassifier()\n",
    "model.fit(X_train, y_train)"
   ]
  },
  {
   "cell_type": "markdown",
   "metadata": {},
   "source": [
    "Tampilan di atas mengindikasikan proses modelling telah berhasil dilakukan."
   ]
  },
  {
   "cell_type": "code",
   "execution_count": 31,
   "metadata": {},
   "outputs": [
    {
     "data": {
      "text/plain": [
       "(0.9558263518659559, 0.9209726443768997)"
      ]
     },
     "execution_count": 31,
     "metadata": {},
     "output_type": "execute_result"
    }
   ],
   "source": [
    "model.score(X_train, y_train), model.score(X_test, y_test)"
   ]
  },
  {
   "cell_type": "markdown",
   "metadata": {},
   "source": [
    "## Evaluasi Performa Model"
   ]
  },
  {
   "cell_type": "code",
   "execution_count": 37,
   "metadata": {},
   "outputs": [
    {
     "data": {
      "text/plain": [
       "(152, 13, 13, 151)"
      ]
     },
     "execution_count": 37,
     "metadata": {},
     "output_type": "execute_result"
    }
   ],
   "source": [
    "y_pred = model.predict(X_test)\n",
    "tn, fp, fn, tp = confusion_matrix(y_test, y_pred).ravel()\n",
    "tn, fp, fn, tp"
   ]
  },
  {
   "cell_type": "code",
   "execution_count": 46,
   "metadata": {},
   "outputs": [
    {
     "name": "stdout",
     "output_type": "stream",
     "text": [
      "0.9207317073170732\n",
      "              precision    recall  f1-score   support\n",
      "\n",
      "           0       0.92      0.92      0.92       165\n",
      "           1       0.92      0.92      0.92       164\n",
      "\n",
      "    accuracy                           0.92       329\n",
      "   macro avg       0.92      0.92      0.92       329\n",
      "weighted avg       0.92      0.92      0.92       329\n",
      "\n"
     ]
    }
   ],
   "source": [
    "print((tp) / (tp + fn))\n",
    "\n",
    "\n",
    "print(classification_report(y_test, y_pred))"
   ]
  },
  {
   "cell_type": "code",
   "execution_count": 76,
   "metadata": {},
   "outputs": [
    {
     "data": {
      "text/plain": [
       "[0, 0, 0, 1, 1, 0, 0, 1, 1, 0]"
      ]
     },
     "execution_count": 76,
     "metadata": {},
     "output_type": "execute_result"
    }
   ],
   "source": [
    "y_test.to_list()[:10]"
   ]
  },
  {
   "cell_type": "code",
   "execution_count": 81,
   "metadata": {},
   "outputs": [
    {
     "data": {
      "text/plain": [
       "[0, 0, 0, 1, 1, 0, 0, 1, 0, 0]"
      ]
     },
     "execution_count": 81,
     "metadata": {},
     "output_type": "execute_result"
    }
   ],
   "source": []
  },
  {
   "cell_type": "code",
   "execution_count": 78,
   "metadata": {},
   "outputs": [],
   "source": [
    "\n",
    "\n"
   ]
  },
  {
   "cell_type": "code",
   "execution_count": 79,
   "metadata": {},
   "outputs": [
    {
     "data": {
      "text/html": [
       "<div>\n",
       "<style scoped>\n",
       "    .dataframe tbody tr th:only-of-type {\n",
       "        vertical-align: middle;\n",
       "    }\n",
       "\n",
       "    .dataframe tbody tr th {\n",
       "        vertical-align: top;\n",
       "    }\n",
       "\n",
       "    .dataframe thead th {\n",
       "        text-align: right;\n",
       "    }\n",
       "</style>\n",
       "<table border=\"1\" class=\"dataframe\">\n",
       "  <thead>\n",
       "    <tr style=\"text-align: right;\">\n",
       "      <th></th>\n",
       "      <th>melampirkanKTP</th>\n",
       "      <th>penghasilanPerBulan</th>\n",
       "      <th>pengeluaranPerBulan</th>\n",
       "    </tr>\n",
       "  </thead>\n",
       "  <tbody>\n",
       "    <tr>\n",
       "      <th>pinjamanDiTerima</th>\n",
       "      <td>0.306968</td>\n",
       "      <td>0.529162</td>\n",
       "      <td>-0.543822</td>\n",
       "    </tr>\n",
       "  </tbody>\n",
       "</table>\n",
       "</div>"
      ],
      "text/plain": [
       "                  melampirkanKTP  penghasilanPerBulan  pengeluaranPerBulan\n",
       "pinjamanDiTerima        0.306968             0.529162            -0.543822"
      ]
     },
     "execution_count": 79,
     "metadata": {},
     "output_type": "execute_result"
    }
   ],
   "source": [
    "df.corr()[df.corr().index == 'pinjamanDiTerima'].drop(columns = 'pinjamanDiTerima')"
   ]
  },
  {
   "cell_type": "code",
   "execution_count": 101,
   "metadata": {},
   "outputs": [],
   "source": [
    "\n",
    "from sklearn.ensemble import RandomForestClassifier\n",
    "from sklearn.pipeline import Pipeline\n",
    "\n",
    "clf1 = KNeighborsClassifier()\n",
    "clf2 = RandomForestClassifier()\n",
    "\n",
    "pipeline = Pipeline([\n",
    "    ('classifier', clf1)\n",
    "])\n",
    "\n",
    "params_grid = [\n",
    "    {\n",
    "    'classifier__n_neighbors' : [x for x in range(1, 6, 2)],\n",
    "    'classifier__weights'     : ['uniform', 'distance'],\n",
    "    'classifier__p'           : [1, 2],\n",
    "    'classifier'              : [clf1]\n",
    "},\n",
    "    {\n",
    "    'classifier__n_estimators' : [50, 100],\n",
    "    'classifier'               : [clf2]\n",
    "}\n",
    "]\n",
    "\n",
    "model_tuning   = GridSearchCV(\n",
    "    estimator  = pipeline,\n",
    "    param_grid = params_grid,\n",
    "    cv         = 3,\n",
    "    n_jobs     = -1,\n",
    "    verbose    = 1\n",
    "\n",
    ")"
   ]
  },
  {
   "cell_type": "code",
   "execution_count": 102,
   "metadata": {},
   "outputs": [
    {
     "name": "stdout",
     "output_type": "stream",
     "text": [
      "Fitting 3 folds for each of 14 candidates, totalling 42 fits\n"
     ]
    },
    {
     "data": {
      "text/html": [
       "<style>#sk-container-id-7 {color: black;}#sk-container-id-7 pre{padding: 0;}#sk-container-id-7 div.sk-toggleable {background-color: white;}#sk-container-id-7 label.sk-toggleable__label {cursor: pointer;display: block;width: 100%;margin-bottom: 0;padding: 0.3em;box-sizing: border-box;text-align: center;}#sk-container-id-7 label.sk-toggleable__label-arrow:before {content: \"▸\";float: left;margin-right: 0.25em;color: #696969;}#sk-container-id-7 label.sk-toggleable__label-arrow:hover:before {color: black;}#sk-container-id-7 div.sk-estimator:hover label.sk-toggleable__label-arrow:before {color: black;}#sk-container-id-7 div.sk-toggleable__content {max-height: 0;max-width: 0;overflow: hidden;text-align: left;background-color: #f0f8ff;}#sk-container-id-7 div.sk-toggleable__content pre {margin: 0.2em;color: black;border-radius: 0.25em;background-color: #f0f8ff;}#sk-container-id-7 input.sk-toggleable__control:checked~div.sk-toggleable__content {max-height: 200px;max-width: 100%;overflow: auto;}#sk-container-id-7 input.sk-toggleable__control:checked~label.sk-toggleable__label-arrow:before {content: \"▾\";}#sk-container-id-7 div.sk-estimator input.sk-toggleable__control:checked~label.sk-toggleable__label {background-color: #d4ebff;}#sk-container-id-7 div.sk-label input.sk-toggleable__control:checked~label.sk-toggleable__label {background-color: #d4ebff;}#sk-container-id-7 input.sk-hidden--visually {border: 0;clip: rect(1px 1px 1px 1px);clip: rect(1px, 1px, 1px, 1px);height: 1px;margin: -1px;overflow: hidden;padding: 0;position: absolute;width: 1px;}#sk-container-id-7 div.sk-estimator {font-family: monospace;background-color: #f0f8ff;border: 1px dotted black;border-radius: 0.25em;box-sizing: border-box;margin-bottom: 0.5em;}#sk-container-id-7 div.sk-estimator:hover {background-color: #d4ebff;}#sk-container-id-7 div.sk-parallel-item::after {content: \"\";width: 100%;border-bottom: 1px solid gray;flex-grow: 1;}#sk-container-id-7 div.sk-label:hover label.sk-toggleable__label {background-color: #d4ebff;}#sk-container-id-7 div.sk-serial::before {content: \"\";position: absolute;border-left: 1px solid gray;box-sizing: border-box;top: 0;bottom: 0;left: 50%;z-index: 0;}#sk-container-id-7 div.sk-serial {display: flex;flex-direction: column;align-items: center;background-color: white;padding-right: 0.2em;padding-left: 0.2em;position: relative;}#sk-container-id-7 div.sk-item {position: relative;z-index: 1;}#sk-container-id-7 div.sk-parallel {display: flex;align-items: stretch;justify-content: center;background-color: white;position: relative;}#sk-container-id-7 div.sk-item::before, #sk-container-id-7 div.sk-parallel-item::before {content: \"\";position: absolute;border-left: 1px solid gray;box-sizing: border-box;top: 0;bottom: 0;left: 50%;z-index: -1;}#sk-container-id-7 div.sk-parallel-item {display: flex;flex-direction: column;z-index: 1;position: relative;background-color: white;}#sk-container-id-7 div.sk-parallel-item:first-child::after {align-self: flex-end;width: 50%;}#sk-container-id-7 div.sk-parallel-item:last-child::after {align-self: flex-start;width: 50%;}#sk-container-id-7 div.sk-parallel-item:only-child::after {width: 0;}#sk-container-id-7 div.sk-dashed-wrapped {border: 1px dashed gray;margin: 0 0.4em 0.5em 0.4em;box-sizing: border-box;padding-bottom: 0.4em;background-color: white;}#sk-container-id-7 div.sk-label label {font-family: monospace;font-weight: bold;display: inline-block;line-height: 1.2em;}#sk-container-id-7 div.sk-label-container {text-align: center;}#sk-container-id-7 div.sk-container {/* jupyter's `normalize.less` sets `[hidden] { display: none; }` but bootstrap.min.css set `[hidden] { display: none !important; }` so we also need the `!important` here to be able to override the default hidden behavior on the sphinx rendered scikit-learn.org. See: https://github.com/scikit-learn/scikit-learn/issues/21755 */display: inline-block !important;position: relative;}#sk-container-id-7 div.sk-text-repr-fallback {display: none;}</style><div id=\"sk-container-id-7\" class=\"sk-top-container\"><div class=\"sk-text-repr-fallback\"><pre>GridSearchCV(cv=3,\n",
       "             estimator=Pipeline(steps=[(&#x27;classifier&#x27;, KNeighborsClassifier())]),\n",
       "             n_jobs=-1,\n",
       "             param_grid=[{&#x27;classifier&#x27;: [KNeighborsClassifier()],\n",
       "                          &#x27;classifier__n_neighbors&#x27;: [1, 3, 5],\n",
       "                          &#x27;classifier__p&#x27;: [1, 2],\n",
       "                          &#x27;classifier__weights&#x27;: [&#x27;uniform&#x27;, &#x27;distance&#x27;]},\n",
       "                         {&#x27;classifier&#x27;: [RandomForestClassifier()],\n",
       "                          &#x27;classifier__n_estimators&#x27;: [50, 100]}],\n",
       "             verbose=1)</pre><b>In a Jupyter environment, please rerun this cell to show the HTML representation or trust the notebook. <br />On GitHub, the HTML representation is unable to render, please try loading this page with nbviewer.org.</b></div><div class=\"sk-container\" hidden><div class=\"sk-item sk-dashed-wrapped\"><div class=\"sk-label-container\"><div class=\"sk-label sk-toggleable\"><input class=\"sk-toggleable__control sk-hidden--visually\" id=\"sk-estimator-id-9\" type=\"checkbox\" ><label for=\"sk-estimator-id-9\" class=\"sk-toggleable__label sk-toggleable__label-arrow\">GridSearchCV</label><div class=\"sk-toggleable__content\"><pre>GridSearchCV(cv=3,\n",
       "             estimator=Pipeline(steps=[(&#x27;classifier&#x27;, KNeighborsClassifier())]),\n",
       "             n_jobs=-1,\n",
       "             param_grid=[{&#x27;classifier&#x27;: [KNeighborsClassifier()],\n",
       "                          &#x27;classifier__n_neighbors&#x27;: [1, 3, 5],\n",
       "                          &#x27;classifier__p&#x27;: [1, 2],\n",
       "                          &#x27;classifier__weights&#x27;: [&#x27;uniform&#x27;, &#x27;distance&#x27;]},\n",
       "                         {&#x27;classifier&#x27;: [RandomForestClassifier()],\n",
       "                          &#x27;classifier__n_estimators&#x27;: [50, 100]}],\n",
       "             verbose=1)</pre></div></div></div><div class=\"sk-parallel\"><div class=\"sk-parallel-item\"><div class=\"sk-item\"><div class=\"sk-label-container\"><div class=\"sk-label sk-toggleable\"><input class=\"sk-toggleable__control sk-hidden--visually\" id=\"sk-estimator-id-10\" type=\"checkbox\" ><label for=\"sk-estimator-id-10\" class=\"sk-toggleable__label sk-toggleable__label-arrow\">estimator: Pipeline</label><div class=\"sk-toggleable__content\"><pre>Pipeline(steps=[(&#x27;classifier&#x27;, KNeighborsClassifier())])</pre></div></div></div><div class=\"sk-serial\"><div class=\"sk-item\"><div class=\"sk-serial\"><div class=\"sk-item\"><div class=\"sk-estimator sk-toggleable\"><input class=\"sk-toggleable__control sk-hidden--visually\" id=\"sk-estimator-id-11\" type=\"checkbox\" ><label for=\"sk-estimator-id-11\" class=\"sk-toggleable__label sk-toggleable__label-arrow\">KNeighborsClassifier</label><div class=\"sk-toggleable__content\"><pre>KNeighborsClassifier()</pre></div></div></div></div></div></div></div></div></div></div></div></div>"
      ],
      "text/plain": [
       "GridSearchCV(cv=3,\n",
       "             estimator=Pipeline(steps=[('classifier', KNeighborsClassifier())]),\n",
       "             n_jobs=-1,\n",
       "             param_grid=[{'classifier': [KNeighborsClassifier()],\n",
       "                          'classifier__n_neighbors': [1, 3, 5],\n",
       "                          'classifier__p': [1, 2],\n",
       "                          'classifier__weights': ['uniform', 'distance']},\n",
       "                         {'classifier': [RandomForestClassifier()],\n",
       "                          'classifier__n_estimators': [50, 100]}],\n",
       "             verbose=1)"
      ]
     },
     "execution_count": 102,
     "metadata": {},
     "output_type": "execute_result"
    }
   ],
   "source": [
    "model_tuning.fit(X_train, y_train)"
   ]
  },
  {
   "cell_type": "code",
   "execution_count": 111,
   "metadata": {},
   "outputs": [
    {
     "data": {
      "text/html": [
       "<div>\n",
       "<style scoped>\n",
       "    .dataframe tbody tr th:only-of-type {\n",
       "        vertical-align: middle;\n",
       "    }\n",
       "\n",
       "    .dataframe tbody tr th {\n",
       "        vertical-align: top;\n",
       "    }\n",
       "\n",
       "    .dataframe thead th {\n",
       "        text-align: right;\n",
       "    }\n",
       "</style>\n",
       "<table border=\"1\" class=\"dataframe\">\n",
       "  <thead>\n",
       "    <tr style=\"text-align: right;\">\n",
       "      <th></th>\n",
       "      <th>mean_fit_time</th>\n",
       "      <th>std_fit_time</th>\n",
       "      <th>mean_score_time</th>\n",
       "      <th>std_score_time</th>\n",
       "      <th>param_classifier</th>\n",
       "      <th>param_classifier__n_neighbors</th>\n",
       "      <th>param_classifier__p</th>\n",
       "      <th>param_classifier__weights</th>\n",
       "      <th>param_classifier__n_estimators</th>\n",
       "      <th>params</th>\n",
       "      <th>split0_test_score</th>\n",
       "      <th>split1_test_score</th>\n",
       "      <th>split2_test_score</th>\n",
       "      <th>mean_test_score</th>\n",
       "      <th>std_test_score</th>\n",
       "      <th>rank_test_score</th>\n",
       "    </tr>\n",
       "  </thead>\n",
       "  <tbody>\n",
       "    <tr>\n",
       "      <th>13</th>\n",
       "      <td>0.421648</td>\n",
       "      <td>0.130143</td>\n",
       "      <td>0.027104</td>\n",
       "      <td>0.001043</td>\n",
       "      <td>RandomForestClassifier()</td>\n",
       "      <td>NaN</td>\n",
       "      <td>NaN</td>\n",
       "      <td>NaN</td>\n",
       "      <td>100</td>\n",
       "      <td>{'classifier': RandomForestClassifier(), 'clas...</td>\n",
       "      <td>0.949772</td>\n",
       "      <td>0.974886</td>\n",
       "      <td>0.970252</td>\n",
       "      <td>0.964970</td>\n",
       "      <td>0.010912</td>\n",
       "      <td>1</td>\n",
       "    </tr>\n",
       "    <tr>\n",
       "      <th>12</th>\n",
       "      <td>0.464611</td>\n",
       "      <td>0.015435</td>\n",
       "      <td>0.039244</td>\n",
       "      <td>0.001411</td>\n",
       "      <td>RandomForestClassifier()</td>\n",
       "      <td>NaN</td>\n",
       "      <td>NaN</td>\n",
       "      <td>NaN</td>\n",
       "      <td>50</td>\n",
       "      <td>{'classifier': RandomForestClassifier(), 'clas...</td>\n",
       "      <td>0.942922</td>\n",
       "      <td>0.974886</td>\n",
       "      <td>0.972540</td>\n",
       "      <td>0.963449</td>\n",
       "      <td>0.014546</td>\n",
       "      <td>2</td>\n",
       "    </tr>\n",
       "    <tr>\n",
       "      <th>9</th>\n",
       "      <td>0.003326</td>\n",
       "      <td>0.002353</td>\n",
       "      <td>0.014973</td>\n",
       "      <td>0.002554</td>\n",
       "      <td>KNeighborsClassifier()</td>\n",
       "      <td>5</td>\n",
       "      <td>1</td>\n",
       "      <td>distance</td>\n",
       "      <td>NaN</td>\n",
       "      <td>{'classifier': KNeighborsClassifier(), 'classi...</td>\n",
       "      <td>0.906393</td>\n",
       "      <td>0.901826</td>\n",
       "      <td>0.913043</td>\n",
       "      <td>0.907088</td>\n",
       "      <td>0.004606</td>\n",
       "      <td>3</td>\n",
       "    </tr>\n",
       "    <tr>\n",
       "      <th>10</th>\n",
       "      <td>0.008729</td>\n",
       "      <td>0.001106</td>\n",
       "      <td>0.069690</td>\n",
       "      <td>0.003016</td>\n",
       "      <td>KNeighborsClassifier()</td>\n",
       "      <td>5</td>\n",
       "      <td>2</td>\n",
       "      <td>uniform</td>\n",
       "      <td>NaN</td>\n",
       "      <td>{'classifier': KNeighborsClassifier(), 'classi...</td>\n",
       "      <td>0.904110</td>\n",
       "      <td>0.904110</td>\n",
       "      <td>0.908467</td>\n",
       "      <td>0.905562</td>\n",
       "      <td>0.002054</td>\n",
       "      <td>4</td>\n",
       "    </tr>\n",
       "    <tr>\n",
       "      <th>11</th>\n",
       "      <td>0.006255</td>\n",
       "      <td>0.003097</td>\n",
       "      <td>0.013635</td>\n",
       "      <td>0.001620</td>\n",
       "      <td>KNeighborsClassifier()</td>\n",
       "      <td>5</td>\n",
       "      <td>2</td>\n",
       "      <td>distance</td>\n",
       "      <td>NaN</td>\n",
       "      <td>{'classifier': KNeighborsClassifier(), 'classi...</td>\n",
       "      <td>0.899543</td>\n",
       "      <td>0.906393</td>\n",
       "      <td>0.908467</td>\n",
       "      <td>0.904801</td>\n",
       "      <td>0.003813</td>\n",
       "      <td>5</td>\n",
       "    </tr>\n",
       "    <tr>\n",
       "      <th>8</th>\n",
       "      <td>0.008758</td>\n",
       "      <td>0.001717</td>\n",
       "      <td>0.071377</td>\n",
       "      <td>0.002826</td>\n",
       "      <td>KNeighborsClassifier()</td>\n",
       "      <td>5</td>\n",
       "      <td>1</td>\n",
       "      <td>uniform</td>\n",
       "      <td>NaN</td>\n",
       "      <td>{'classifier': KNeighborsClassifier(), 'classi...</td>\n",
       "      <td>0.904110</td>\n",
       "      <td>0.899543</td>\n",
       "      <td>0.906178</td>\n",
       "      <td>0.903277</td>\n",
       "      <td>0.002772</td>\n",
       "      <td>6</td>\n",
       "    </tr>\n",
       "    <tr>\n",
       "      <th>7</th>\n",
       "      <td>0.006073</td>\n",
       "      <td>0.004307</td>\n",
       "      <td>0.015070</td>\n",
       "      <td>0.002193</td>\n",
       "      <td>KNeighborsClassifier()</td>\n",
       "      <td>3</td>\n",
       "      <td>2</td>\n",
       "      <td>distance</td>\n",
       "      <td>NaN</td>\n",
       "      <td>{'classifier': KNeighborsClassifier(), 'classi...</td>\n",
       "      <td>0.890411</td>\n",
       "      <td>0.913242</td>\n",
       "      <td>0.903890</td>\n",
       "      <td>0.902514</td>\n",
       "      <td>0.009371</td>\n",
       "      <td>7</td>\n",
       "    </tr>\n",
       "    <tr>\n",
       "      <th>2</th>\n",
       "      <td>0.026652</td>\n",
       "      <td>0.004712</td>\n",
       "      <td>0.086288</td>\n",
       "      <td>0.004712</td>\n",
       "      <td>KNeighborsClassifier()</td>\n",
       "      <td>1</td>\n",
       "      <td>2</td>\n",
       "      <td>uniform</td>\n",
       "      <td>NaN</td>\n",
       "      <td>{'classifier': KNeighborsClassifier(), 'classi...</td>\n",
       "      <td>0.881279</td>\n",
       "      <td>0.899543</td>\n",
       "      <td>0.910755</td>\n",
       "      <td>0.897192</td>\n",
       "      <td>0.012148</td>\n",
       "      <td>8</td>\n",
       "    </tr>\n",
       "    <tr>\n",
       "      <th>3</th>\n",
       "      <td>0.012640</td>\n",
       "      <td>0.008977</td>\n",
       "      <td>0.013900</td>\n",
       "      <td>0.008610</td>\n",
       "      <td>KNeighborsClassifier()</td>\n",
       "      <td>1</td>\n",
       "      <td>2</td>\n",
       "      <td>distance</td>\n",
       "      <td>NaN</td>\n",
       "      <td>{'classifier': KNeighborsClassifier(), 'classi...</td>\n",
       "      <td>0.881279</td>\n",
       "      <td>0.899543</td>\n",
       "      <td>0.910755</td>\n",
       "      <td>0.897192</td>\n",
       "      <td>0.012148</td>\n",
       "      <td>8</td>\n",
       "    </tr>\n",
       "    <tr>\n",
       "      <th>5</th>\n",
       "      <td>0.006233</td>\n",
       "      <td>0.003292</td>\n",
       "      <td>0.016580</td>\n",
       "      <td>0.007891</td>\n",
       "      <td>KNeighborsClassifier()</td>\n",
       "      <td>3</td>\n",
       "      <td>1</td>\n",
       "      <td>distance</td>\n",
       "      <td>NaN</td>\n",
       "      <td>{'classifier': KNeighborsClassifier(), 'classi...</td>\n",
       "      <td>0.881279</td>\n",
       "      <td>0.910959</td>\n",
       "      <td>0.897025</td>\n",
       "      <td>0.896421</td>\n",
       "      <td>0.012124</td>\n",
       "      <td>10</td>\n",
       "    </tr>\n",
       "    <tr>\n",
       "      <th>6</th>\n",
       "      <td>0.005561</td>\n",
       "      <td>0.004047</td>\n",
       "      <td>0.064226</td>\n",
       "      <td>0.003379</td>\n",
       "      <td>KNeighborsClassifier()</td>\n",
       "      <td>3</td>\n",
       "      <td>2</td>\n",
       "      <td>uniform</td>\n",
       "      <td>NaN</td>\n",
       "      <td>{'classifier': KNeighborsClassifier(), 'classi...</td>\n",
       "      <td>0.885845</td>\n",
       "      <td>0.908676</td>\n",
       "      <td>0.894737</td>\n",
       "      <td>0.896419</td>\n",
       "      <td>0.009396</td>\n",
       "      <td>11</td>\n",
       "    </tr>\n",
       "    <tr>\n",
       "      <th>0</th>\n",
       "      <td>0.094458</td>\n",
       "      <td>0.005486</td>\n",
       "      <td>0.135782</td>\n",
       "      <td>0.005975</td>\n",
       "      <td>KNeighborsClassifier()</td>\n",
       "      <td>1</td>\n",
       "      <td>1</td>\n",
       "      <td>uniform</td>\n",
       "      <td>NaN</td>\n",
       "      <td>{'classifier': KNeighborsClassifier(), 'classi...</td>\n",
       "      <td>0.865297</td>\n",
       "      <td>0.906393</td>\n",
       "      <td>0.908467</td>\n",
       "      <td>0.893385</td>\n",
       "      <td>0.019880</td>\n",
       "      <td>12</td>\n",
       "    </tr>\n",
       "    <tr>\n",
       "      <th>1</th>\n",
       "      <td>0.036388</td>\n",
       "      <td>0.044902</td>\n",
       "      <td>0.044846</td>\n",
       "      <td>0.049271</td>\n",
       "      <td>KNeighborsClassifier()</td>\n",
       "      <td>1</td>\n",
       "      <td>1</td>\n",
       "      <td>distance</td>\n",
       "      <td>NaN</td>\n",
       "      <td>{'classifier': KNeighborsClassifier(), 'classi...</td>\n",
       "      <td>0.865297</td>\n",
       "      <td>0.906393</td>\n",
       "      <td>0.908467</td>\n",
       "      <td>0.893385</td>\n",
       "      <td>0.019880</td>\n",
       "      <td>12</td>\n",
       "    </tr>\n",
       "    <tr>\n",
       "      <th>4</th>\n",
       "      <td>0.003332</td>\n",
       "      <td>0.004712</td>\n",
       "      <td>0.076713</td>\n",
       "      <td>0.004131</td>\n",
       "      <td>KNeighborsClassifier()</td>\n",
       "      <td>3</td>\n",
       "      <td>1</td>\n",
       "      <td>uniform</td>\n",
       "      <td>NaN</td>\n",
       "      <td>{'classifier': KNeighborsClassifier(), 'classi...</td>\n",
       "      <td>0.874429</td>\n",
       "      <td>0.906393</td>\n",
       "      <td>0.892449</td>\n",
       "      <td>0.891090</td>\n",
       "      <td>0.013084</td>\n",
       "      <td>14</td>\n",
       "    </tr>\n",
       "  </tbody>\n",
       "</table>\n",
       "</div>"
      ],
      "text/plain": [
       "    mean_fit_time  std_fit_time  mean_score_time  std_score_time  \\\n",
       "13       0.421648      0.130143         0.027104        0.001043   \n",
       "12       0.464611      0.015435         0.039244        0.001411   \n",
       "9        0.003326      0.002353         0.014973        0.002554   \n",
       "10       0.008729      0.001106         0.069690        0.003016   \n",
       "11       0.006255      0.003097         0.013635        0.001620   \n",
       "8        0.008758      0.001717         0.071377        0.002826   \n",
       "7        0.006073      0.004307         0.015070        0.002193   \n",
       "2        0.026652      0.004712         0.086288        0.004712   \n",
       "3        0.012640      0.008977         0.013900        0.008610   \n",
       "5        0.006233      0.003292         0.016580        0.007891   \n",
       "6        0.005561      0.004047         0.064226        0.003379   \n",
       "0        0.094458      0.005486         0.135782        0.005975   \n",
       "1        0.036388      0.044902         0.044846        0.049271   \n",
       "4        0.003332      0.004712         0.076713        0.004131   \n",
       "\n",
       "            param_classifier param_classifier__n_neighbors  \\\n",
       "13  RandomForestClassifier()                           NaN   \n",
       "12  RandomForestClassifier()                           NaN   \n",
       "9     KNeighborsClassifier()                             5   \n",
       "10    KNeighborsClassifier()                             5   \n",
       "11    KNeighborsClassifier()                             5   \n",
       "8     KNeighborsClassifier()                             5   \n",
       "7     KNeighborsClassifier()                             3   \n",
       "2     KNeighborsClassifier()                             1   \n",
       "3     KNeighborsClassifier()                             1   \n",
       "5     KNeighborsClassifier()                             3   \n",
       "6     KNeighborsClassifier()                             3   \n",
       "0     KNeighborsClassifier()                             1   \n",
       "1     KNeighborsClassifier()                             1   \n",
       "4     KNeighborsClassifier()                             3   \n",
       "\n",
       "   param_classifier__p param_classifier__weights  \\\n",
       "13                 NaN                       NaN   \n",
       "12                 NaN                       NaN   \n",
       "9                    1                  distance   \n",
       "10                   2                   uniform   \n",
       "11                   2                  distance   \n",
       "8                    1                   uniform   \n",
       "7                    2                  distance   \n",
       "2                    2                   uniform   \n",
       "3                    2                  distance   \n",
       "5                    1                  distance   \n",
       "6                    2                   uniform   \n",
       "0                    1                   uniform   \n",
       "1                    1                  distance   \n",
       "4                    1                   uniform   \n",
       "\n",
       "   param_classifier__n_estimators  \\\n",
       "13                            100   \n",
       "12                             50   \n",
       "9                             NaN   \n",
       "10                            NaN   \n",
       "11                            NaN   \n",
       "8                             NaN   \n",
       "7                             NaN   \n",
       "2                             NaN   \n",
       "3                             NaN   \n",
       "5                             NaN   \n",
       "6                             NaN   \n",
       "0                             NaN   \n",
       "1                             NaN   \n",
       "4                             NaN   \n",
       "\n",
       "                                               params  split0_test_score  \\\n",
       "13  {'classifier': RandomForestClassifier(), 'clas...           0.949772   \n",
       "12  {'classifier': RandomForestClassifier(), 'clas...           0.942922   \n",
       "9   {'classifier': KNeighborsClassifier(), 'classi...           0.906393   \n",
       "10  {'classifier': KNeighborsClassifier(), 'classi...           0.904110   \n",
       "11  {'classifier': KNeighborsClassifier(), 'classi...           0.899543   \n",
       "8   {'classifier': KNeighborsClassifier(), 'classi...           0.904110   \n",
       "7   {'classifier': KNeighborsClassifier(), 'classi...           0.890411   \n",
       "2   {'classifier': KNeighborsClassifier(), 'classi...           0.881279   \n",
       "3   {'classifier': KNeighborsClassifier(), 'classi...           0.881279   \n",
       "5   {'classifier': KNeighborsClassifier(), 'classi...           0.881279   \n",
       "6   {'classifier': KNeighborsClassifier(), 'classi...           0.885845   \n",
       "0   {'classifier': KNeighborsClassifier(), 'classi...           0.865297   \n",
       "1   {'classifier': KNeighborsClassifier(), 'classi...           0.865297   \n",
       "4   {'classifier': KNeighborsClassifier(), 'classi...           0.874429   \n",
       "\n",
       "    split1_test_score  split2_test_score  mean_test_score  std_test_score  \\\n",
       "13           0.974886           0.970252         0.964970        0.010912   \n",
       "12           0.974886           0.972540         0.963449        0.014546   \n",
       "9            0.901826           0.913043         0.907088        0.004606   \n",
       "10           0.904110           0.908467         0.905562        0.002054   \n",
       "11           0.906393           0.908467         0.904801        0.003813   \n",
       "8            0.899543           0.906178         0.903277        0.002772   \n",
       "7            0.913242           0.903890         0.902514        0.009371   \n",
       "2            0.899543           0.910755         0.897192        0.012148   \n",
       "3            0.899543           0.910755         0.897192        0.012148   \n",
       "5            0.910959           0.897025         0.896421        0.012124   \n",
       "6            0.908676           0.894737         0.896419        0.009396   \n",
       "0            0.906393           0.908467         0.893385        0.019880   \n",
       "1            0.906393           0.908467         0.893385        0.019880   \n",
       "4            0.906393           0.892449         0.891090        0.013084   \n",
       "\n",
       "    rank_test_score  \n",
       "13                1  \n",
       "12                2  \n",
       "9                 3  \n",
       "10                4  \n",
       "11                5  \n",
       "8                 6  \n",
       "7                 7  \n",
       "2                 8  \n",
       "3                 8  \n",
       "5                10  \n",
       "6                11  \n",
       "0                12  \n",
       "1                12  \n",
       "4                14  "
      ]
     },
     "execution_count": 111,
     "metadata": {},
     "output_type": "execute_result"
    }
   ],
   "source": [
    "pd.DataFrame(model_tuning.cv_results_).sort_values('rank_test_score')"
   ]
  },
  {
   "cell_type": "code",
   "execution_count": 104,
   "metadata": {},
   "outputs": [
    {
     "data": {
      "text/plain": [
       "0.9756838905775076"
      ]
     },
     "execution_count": 104,
     "metadata": {},
     "output_type": "execute_result"
    }
   ],
   "source": [
    "model_tuning.score(X_test, y_test)"
   ]
  },
  {
   "cell_type": "code",
   "execution_count": 106,
   "metadata": {},
   "outputs": [
    {
     "data": {
      "text/plain": [
       "[0, 0, 0, 1, 1, 0, 0, 1, 1, 0]"
      ]
     },
     "execution_count": 106,
     "metadata": {},
     "output_type": "execute_result"
    }
   ],
   "source": [
    "y_test.to_list()[:10]"
   ]
  },
  {
   "cell_type": "code",
   "execution_count": 107,
   "metadata": {},
   "outputs": [
    {
     "data": {
      "text/plain": [
       "[0, 0, 0, 1, 1, 0, 0, 1, 1, 0]"
      ]
     },
     "execution_count": 107,
     "metadata": {},
     "output_type": "execute_result"
    }
   ],
   "source": [
    "y_pred = model_tuning.predict(X_test)\n",
    "list(y_pred[:10])"
   ]
  },
  {
   "cell_type": "code",
   "execution_count": 108,
   "metadata": {},
   "outputs": [
    {
     "data": {
      "text/plain": [
       "1.0"
      ]
     },
     "execution_count": 108,
     "metadata": {},
     "output_type": "execute_result"
    }
   ],
   "source": [
    "model_tuning.score(X_train, y_train)"
   ]
  },
  {
   "cell_type": "code",
   "execution_count": null,
   "metadata": {},
   "outputs": [],
   "source": []
  }
 ],
 "metadata": {
  "kernelspec": {
   "display_name": "Python 3",
   "language": "python",
   "name": "python3"
  },
  "language_info": {
   "codemirror_mode": {
    "name": "ipython",
    "version": 3
   },
   "file_extension": ".py",
   "mimetype": "text/x-python",
   "name": "python",
   "nbconvert_exporter": "python",
   "pygments_lexer": "ipython3",
   "version": "3.11.8"
  }
 },
 "nbformat": 4,
 "nbformat_minor": 2
}

{
 "cells": [
  {
   "cell_type": "markdown",
   "metadata": {},
   "source": [
    "# Membuat Dummy Dataset\n",
    "\n",
    "Di sini akan dibuat sebuah dummy dataset yang nantinya akan digunakan untuk melakukan proses Classification dalam Machine Learning. Dummy dataset yang akan dibuat di sini adalah 'Dataset Pengajuan Pinjaman'. Dataset ini akan terdiri dari beberapa features dan sebuah target. Features yang ada pada dataset ini di antaranya adalah `id`, `jenisKelamin`, `umur`, `melampirkanKTP`, `penghasilanPerBulan`, `pengeluaranPerBulan`, dan `jumlahPinjaman`. Sedangkan target pada dataset ini adalah `pinjamanDiTerima`."
   ]
  },
  {
   "cell_type": "markdown",
   "metadata": {},
   "source": [
    "## Import Modules\n",
    "\n",
    "Hal pertama yang dilakukan adalah mengimport beberapa modules yang akan digunakan, di antaranya adalah:\n",
    "- pandas, untuk mengkonversi data dengan tipe dictionary menjadi dataframe\n",
    "- numpy, untuk melakukan randomisasi data."
   ]
  },
  {
   "cell_type": "code",
   "execution_count": 1,
   "metadata": {},
   "outputs": [],
   "source": [
    "import pandas as pd\n",
    "import numpy as np"
   ]
  },
  {
   "cell_type": "markdown",
   "metadata": {},
   "source": [
    "## Features\n",
    "\n",
    "Seperti yang telah disinggung di atas, pada dataset ini akan terdiri dari beberapa features yaitu `id`, `jenisKelamin`, `melampirkanKTP`, `penghasilanPerBulan`, `pengeluaranPerBulan`, dan `jumlahPinjaman`."
   ]
  },
  {
   "cell_type": "markdown",
   "metadata": {},
   "source": [
    "### `id`\n",
    "\n",
    "Features ini menunjukkan nomor identitas dari seseorang yang akan mengajukan pinjaman. Features ini dihasilkan dengan cara melakukan generate data integer dari 1 hingga 2000."
   ]
  },
  {
   "cell_type": "code",
   "execution_count": 2,
   "metadata": {},
   "outputs": [],
   "source": [
    "id = [i for i in range(1, 2001)]"
   ]
  },
  {
   "cell_type": "markdown",
   "metadata": {},
   "source": [
    "### `jenisKelamin`\n",
    "\n",
    "Features ini menunjukkan jenis kelamin dari seseorang yang akan mengajukan pinjaman. Features ini dihasilkan dengan cara melakukan pengambilan secara acak dari jenis kelamin \"pria\" dan \"wanita\" dengan peletakkan kembali (random with replacement) yang dilakukan sebanyak 2000 kali."
   ]
  },
  {
   "cell_type": "code",
   "execution_count": 3,
   "metadata": {},
   "outputs": [],
   "source": [
    "jenisKelamin = [np.random.choice(['pria', 'wanita']) for i in range(2000)]"
   ]
  },
  {
   "cell_type": "markdown",
   "metadata": {},
   "source": [
    "### `umur`\n",
    "\n",
    "Features ini menunjukkan umur dari seseorang yang akan mengajukan pinjaman. Features ini dihasilkan dengan cara melakukan generate data integer secara random dengan rentang dari 18 tahun hingga 40 tahun."
   ]
  },
  {
   "cell_type": "code",
   "execution_count": 4,
   "metadata": {},
   "outputs": [],
   "source": [
    "umur = [np.random.randint(18, 40) for i in range(2000)]"
   ]
  },
  {
   "cell_type": "markdown",
   "metadata": {},
   "source": [
    "### `sudahMenikah`\n",
    "\n",
    "Features ini menunjukkan status pernikahan dari seseorang yang akan mengajukan pinjaman. Features ini dihasilkan dengan cara melakukan pengambilan secara acak dari status pernikahan yang bernilai \"ya\" atau \"tidak\" dengan peletakkan kembali (random with replacement) yang dilakukan sebanyak 2000 kali. Pengacakkan dilakukan sedemikian rupa agar lebih banyak status pernikahan yang bernilai \"ya\"."
   ]
  },
  {
   "cell_type": "code",
   "execution_count": 5,
   "metadata": {},
   "outputs": [],
   "source": [
    "sudahMenikah = [np.random.choice(['tidak'] + ['ya'] * 10) for i in range(2000)]"
   ]
  },
  {
   "cell_type": "markdown",
   "metadata": {},
   "source": [
    "### `melampirkanKTP`\n",
    "\n",
    "Features ini menunjukkan apakah seseorang yang akan mengajukan pinjaman melampirkan KTP atau tidak. Features ini dihasilkan dengan cara melakukan pengambilan secara acak dari status melampirkan KTP yang bernilai \"ya\" atau \"tidak\" dengan peletakkan kembali (random with replacement) yang dilakukan sebanyak 2000 kali. Pengacakkan dilakukan sedemikian rupa agar lebih banyak status pernikahan yang bernilai \"ya\"."
   ]
  },
  {
   "cell_type": "code",
   "execution_count": 6,
   "metadata": {},
   "outputs": [],
   "source": [
    "melampirkanKTP = [np.random.choice(['tidak'] + ['ya'] * 10) for i in range(2000)]"
   ]
  },
  {
   "cell_type": "markdown",
   "metadata": {},
   "source": [
    "### `penghasilanPerBulan`\n",
    "\n",
    "Features ini menunjukkan penghasilan per bulan dari seseorang yang akan mengajukan pinjaman. Features ini dihasilkan dengan cara melakukan generate data integer secara random dengan rentang dari 10 juta hingga 100 juta."
   ]
  },
  {
   "cell_type": "code",
   "execution_count": 7,
   "metadata": {},
   "outputs": [],
   "source": [
    "penghasilanPerBulan = [np.random.randint(10, 100) * 1_000_000 for i in range(2000)]"
   ]
  },
  {
   "cell_type": "markdown",
   "metadata": {},
   "source": [
    "### `pengeluaranPerBulan`\n",
    "\n",
    "Features ini menunjukkan pengeluaran per bulan dari seseorang yang akan mengajukan pinjaman. Features ini dihasilkan dengan cara melakukan generate data integer secara random dengan rentang dari 10 juta hingga 100 juta."
   ]
  },
  {
   "cell_type": "code",
   "execution_count": 8,
   "metadata": {},
   "outputs": [],
   "source": [
    "pengeluaranPerBulan = [np.random.randint(10, 100) * 1_000_000 for i in range(2000)]"
   ]
  },
  {
   "cell_type": "markdown",
   "metadata": {},
   "source": [
    "### `jumlahPinjaman`\n",
    "\n",
    "Features ini menunjukkan jumlah pinjaman dari seseorang yang akan mengajukan pinjaman. Features ini dihasilkan dengan cara melakukan generate data integer secara random dengan rentang dari 1 juta hingga 6 juta."
   ]
  },
  {
   "cell_type": "code",
   "execution_count": 9,
   "metadata": {},
   "outputs": [],
   "source": [
    "jumlahPinjaman = [np.random.randint(1, 6) * 1_000_000 for i in range(2000)]"
   ]
  },
  {
   "cell_type": "markdown",
   "metadata": {},
   "source": [
    "## Target\n",
    "\n",
    "Seperti yang telah disinggung di atas, pada dataset ini akan terdiri dari satu target yaitu `pinjamanDiTerima`."
   ]
  },
  {
   "cell_type": "markdown",
   "metadata": {},
   "source": [
    "### `pinjamanDiTerima`\n",
    "\n",
    "Target ini menunjukkan status peminjaman dari seseorang yang akan mengajukan pinjaman. Features ini dihasilkan dengan cara sebagai berikut:\n",
    "\n",
    "Peminjaman akan diterima jika memenuhi beberapa syarat, yaitu:\n",
    "- Peminjam sudah menikah atau berusia minimal 21 tahun untuk wanita dan 25 tahun untuk pria.\n",
    "- Peminjam melampirkan KTP.\n",
    "- Jumlah pinjaman yang diajukan tidak boleh lebih dari penghasilan per bulan dikurangi pengeluaran perbulan.\n",
    "Ketiga syarat harus dipenuhi, jika tidak maka peminjaman tidak akan diterima.\n",
    "\n",
    "Nilai 0 berkorespondensi dengan nilai \"tidak\" (peminjaman ditolak) dan nilai 1 berkorespondensi dengan nilai \"ya\" (peminjaman diterima)."
   ]
  },
  {
   "cell_type": "code",
   "execution_count": 10,
   "metadata": {},
   "outputs": [],
   "source": [
    "pinjamanDiTerima = []\n",
    "for i in range(2000):\n",
    "    if jenisKelamin[i] == 'pria':\n",
    "        if (sudahMenikah[i] == 'ya' or umur[i] >= 25) and melampirkanKTP[i] == 'ya' and jumlahPinjaman[i] <= (penghasilanPerBulan[i] - pengeluaranPerBulan[i]):\n",
    "            pinjamanDiTerima.append(1)\n",
    "        else:\n",
    "            pinjamanDiTerima.append(0)\n",
    "    else:\n",
    "        if (sudahMenikah[i] == 'ya' or umur[i] >= 21) and melampirkanKTP[i] == 'ya' and jumlahPinjaman[i] <= (penghasilanPerBulan[i] - pengeluaranPerBulan[i]):\n",
    "            pinjamanDiTerima.append(1)\n",
    "        else:\n",
    "            pinjamanDiTerima.append(0)"
   ]
  },
  {
   "cell_type": "markdown",
   "metadata": {},
   "source": [
    "## Menyusun Features dan Target Menjadi Dataset\n",
    "\n",
    "Features dan target diatas belum lah berbentuk sebuah dataset. Untuk itu, perlu disusun terlebih dahulu menjadi dataset dengan bantuan `pandas."
   ]
  },
  {
   "cell_type": "code",
   "execution_count": 11,
   "metadata": {},
   "outputs": [
    {
     "data": {
      "text/html": [
       "<div>\n",
       "<style scoped>\n",
       "    .dataframe tbody tr th:only-of-type {\n",
       "        vertical-align: middle;\n",
       "    }\n",
       "\n",
       "    .dataframe tbody tr th {\n",
       "        vertical-align: top;\n",
       "    }\n",
       "\n",
       "    .dataframe thead th {\n",
       "        text-align: right;\n",
       "    }\n",
       "</style>\n",
       "<table border=\"1\" class=\"dataframe\">\n",
       "  <thead>\n",
       "    <tr style=\"text-align: right;\">\n",
       "      <th></th>\n",
       "      <th>id</th>\n",
       "      <th>jenisKelamin</th>\n",
       "      <th>umur</th>\n",
       "      <th>sudahMenikah</th>\n",
       "      <th>melampirkanKTP</th>\n",
       "      <th>penghasilanPerBulan</th>\n",
       "      <th>pengeluaranPerBulan</th>\n",
       "      <th>jumlahPinjaman</th>\n",
       "      <th>pinjamanDiTerima</th>\n",
       "    </tr>\n",
       "  </thead>\n",
       "  <tbody>\n",
       "    <tr>\n",
       "      <th>0</th>\n",
       "      <td>1</td>\n",
       "      <td>wanita</td>\n",
       "      <td>30</td>\n",
       "      <td>ya</td>\n",
       "      <td>tidak</td>\n",
       "      <td>53000000</td>\n",
       "      <td>80000000</td>\n",
       "      <td>3000000</td>\n",
       "      <td>0</td>\n",
       "    </tr>\n",
       "    <tr>\n",
       "      <th>1</th>\n",
       "      <td>2</td>\n",
       "      <td>wanita</td>\n",
       "      <td>31</td>\n",
       "      <td>ya</td>\n",
       "      <td>ya</td>\n",
       "      <td>90000000</td>\n",
       "      <td>31000000</td>\n",
       "      <td>4000000</td>\n",
       "      <td>1</td>\n",
       "    </tr>\n",
       "    <tr>\n",
       "      <th>2</th>\n",
       "      <td>3</td>\n",
       "      <td>wanita</td>\n",
       "      <td>18</td>\n",
       "      <td>ya</td>\n",
       "      <td>ya</td>\n",
       "      <td>14000000</td>\n",
       "      <td>17000000</td>\n",
       "      <td>1000000</td>\n",
       "      <td>0</td>\n",
       "    </tr>\n",
       "    <tr>\n",
       "      <th>3</th>\n",
       "      <td>4</td>\n",
       "      <td>pria</td>\n",
       "      <td>23</td>\n",
       "      <td>ya</td>\n",
       "      <td>ya</td>\n",
       "      <td>97000000</td>\n",
       "      <td>74000000</td>\n",
       "      <td>3000000</td>\n",
       "      <td>1</td>\n",
       "    </tr>\n",
       "    <tr>\n",
       "      <th>4</th>\n",
       "      <td>5</td>\n",
       "      <td>pria</td>\n",
       "      <td>27</td>\n",
       "      <td>ya</td>\n",
       "      <td>ya</td>\n",
       "      <td>79000000</td>\n",
       "      <td>65000000</td>\n",
       "      <td>3000000</td>\n",
       "      <td>1</td>\n",
       "    </tr>\n",
       "  </tbody>\n",
       "</table>\n",
       "</div>"
      ],
      "text/plain": [
       "   id jenisKelamin  umur sudahMenikah melampirkanKTP  penghasilanPerBulan  \\\n",
       "0   1       wanita    30           ya          tidak             53000000   \n",
       "1   2       wanita    31           ya             ya             90000000   \n",
       "2   3       wanita    18           ya             ya             14000000   \n",
       "3   4         pria    23           ya             ya             97000000   \n",
       "4   5         pria    27           ya             ya             79000000   \n",
       "\n",
       "   pengeluaranPerBulan  jumlahPinjaman  pinjamanDiTerima  \n",
       "0             80000000         3000000                 0  \n",
       "1             31000000         4000000                 1  \n",
       "2             17000000         1000000                 0  \n",
       "3             74000000         3000000                 1  \n",
       "4             65000000         3000000                 1  "
      ]
     },
     "execution_count": 11,
     "metadata": {},
     "output_type": "execute_result"
    }
   ],
   "source": [
    "df = pd.DataFrame(\n",
    "    {\n",
    "    'id' : id,\n",
    "    'jenisKelamin' : jenisKelamin,\n",
    "    'umur' : umur,\n",
    "    'sudahMenikah' : sudahMenikah,\n",
    "    'melampirkanKTP' : melampirkanKTP,\n",
    "    'penghasilanPerBulan' : penghasilanPerBulan,\n",
    "    'pengeluaranPerBulan' : pengeluaranPerBulan,\n",
    "    'jumlahPinjaman' : jumlahPinjaman,\n",
    "    'pinjamanDiTerima' : pinjamanDiTerima\n",
    "}\n",
    ")\n",
    "df.head()"
   ]
  },
  {
   "cell_type": "markdown",
   "metadata": {},
   "source": [
    "## Menyimpan Dataset\n",
    "\n",
    "Langkah terakhir adalah menyimpan dataset yang telah dibuat. Dataset akan disimpan pada folder \"dataset\" dan akan diberi nama \"datasetPinjaman.csv\". Dataset disimpan dalam format csv. Setelah disimpan, dataset siap digunakan untuk Machine Learning."
   ]
  },
  {
   "cell_type": "code",
   "execution_count": 12,
   "metadata": {},
   "outputs": [],
   "source": [
    "df.to_csv('./dataset/datasetPinjaman.csv', index = False)"
   ]
  }
 ],
 "metadata": {
  "kernelspec": {
   "display_name": "project_rizzz",
   "language": "python",
   "name": "python3"
  },
  "language_info": {
   "codemirror_mode": {
    "name": "ipython",
    "version": 3
   },
   "file_extension": ".py",
   "mimetype": "text/x-python",
   "name": "python",
   "nbconvert_exporter": "python",
   "pygments_lexer": "ipython3",
   "version": "3.11.8"
  }
 },
 "nbformat": 4,
 "nbformat_minor": 2
}

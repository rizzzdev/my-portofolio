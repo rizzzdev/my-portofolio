{
 "cells": [
  {
   "cell_type": "markdown",
   "id": "0e3ca33a",
   "metadata": {},
   "source": [
    "# Membuat Database MySQL Berbantuan Python"
   ]
  },
  {
   "cell_type": "markdown",
   "id": "ec907feb",
   "metadata": {},
   "source": [
    "## Pengantar\n",
    "MySQL adalah sebuah DBMS (Database Management System) menggunakan perintah SQL (Structured Query Language) yang banyak digunakan saat ini dalam pembuatan aplikasi berbasis website. MySQL dibagi menjadi dua lisensi, pertama adalah Free Software dimana perangkat lunak dapat diakses oleh siapa saja. Kedua adalah Shareware dimana perangkat lunak berpemilik memiliki batasan dalam penggunaannya. MySQL termasuk ke dalam RDBMS (Relational Database Management System). Sehingga, menggunakan tabel, kolom, baris, di dalam struktur database-nya. Jadi, dalam proses pengambilan data menggunakan metode relational database serta menjadi penghubung antara perangkat lunak dan database server."
   ]
  },
  {
   "cell_type": "markdown",
   "id": "0576c1f8",
   "metadata": {},
   "source": [
    "## Objektif \n",
    "Database dapat dianalogikan sebuah folder dalam komputer kita, yang didalamnya berisi file-file yang dapat menyimpan informasi. Dalam konteks database, file-file tersebut kita kenal dengan istilah table. Misal saja kita dihadapkan dengan suatu kebutuhan untuk membuat sebuah database untuk suatu usaha atau toko, kita sebut saja database yang akan kita buat dengan `toko_rizzz`. Dalam database tersebut akan terdapat beberapa table, yaitu `pelanggan`, `barang`, `transaksi`, dan `pengiriman`. Di dalam table-table tersebut akan terdapat kolom-kolom yang digunakan untuk menyimpan informasi. Informasi tersebut dapat diakses jika suatu saat dibutuhkan. "
   ]
  },
  {
   "cell_type": "markdown",
   "id": "41e903d6",
   "metadata": {},
   "source": [
    "## Proses Pembuatan Database "
   ]
  },
  {
   "cell_type": "markdown",
   "id": "d5f5ca80",
   "metadata": {},
   "source": [
    "### Membuat Database baru di MySQL\n",
    "Untuk membuat database baru, disini kita akan memanfaatkan bantuan dari python dengan menggunakan package `mysql-connector`."
   ]
  },
  {
   "cell_type": "code",
   "execution_count": 1,
   "id": "80551c5b",
   "metadata": {},
   "outputs": [],
   "source": [
    "import mysql.connector as mysql"
   ]
  },
  {
   "cell_type": "markdown",
   "id": "2dc6a916",
   "metadata": {},
   "source": [
    "Jika belum memiliki package di atas, silahkan uncomment dan eksekusi statement di bawah ini!"
   ]
  },
  {
   "cell_type": "code",
   "execution_count": 2,
   "id": "bcacb1d1",
   "metadata": {},
   "outputs": [],
   "source": [
    "# !pip install mysql-connector-python"
   ]
  },
  {
   "cell_type": "markdown",
   "id": "9f1b4e77",
   "metadata": {},
   "source": [
    "Kemudian kita menghubungkan server MySQL dengan python dengan memasukkan user, password, host, port, dan databases yang akan kita bungkus dalam object `db` dengan cara seperti di bawah ini:"
   ]
  },
  {
   "cell_type": "code",
   "execution_count": 3,
   "id": "f558a78d",
   "metadata": {},
   "outputs": [],
   "source": [
    "db = mysql.connect(\n",
    "    user = 'root',\n",
    "    password = '1234',\n",
    "    host     = 'localhost',\n",
    "    port     = 3306,\n",
    "    database = ''\n",
    "    )"
   ]
  },
  {
   "cell_type": "markdown",
   "id": "fa9eade9",
   "metadata": {},
   "source": [
    "Disini nama user kita adalah `root` dengan password `1234` dengan host `localhost` dan port `3306`. Untuk database kita kosongkan karena kita akan membuat database baru. Dalam MySQL, jika kita ingin membuat database baru (dalam kasus ini, kita akan membuat database `toko_rizzz`), kita dapat mengeksekusi QUERY berikut:\n",
    "\n",
    "> CREATE DATABASE toko_rizzz\n",
    "\n",
    "Untuk mengeksekusi QUERY tersebut dengan python, kita perlu menggunakan method `cursor()` dari object `db` yang akan kita tampung dalam variable `cursor` seperti di bawah ini:"
   ]
  },
  {
   "cell_type": "code",
   "execution_count": 4,
   "id": "3580b6cc",
   "metadata": {},
   "outputs": [],
   "source": [
    "cursor = db.cursor()"
   ]
  },
  {
   "cell_type": "markdown",
   "id": "85acee3b",
   "metadata": {},
   "source": [
    "Setelah itu kita dapat mengeksekusi QUERY di atas dengan method `execute()` dari object `cursor` seperti berikut ini:"
   ]
  },
  {
   "cell_type": "code",
   "execution_count": 5,
   "id": "11212873",
   "metadata": {},
   "outputs": [],
   "source": [
    "query = '''\n",
    "        CREATE DATABASE toko_rizzz\n",
    "'''\n",
    "\n",
    "cursor.execute(query)"
   ]
  },
  {
   "cell_type": "markdown",
   "id": "08633580",
   "metadata": {},
   "source": [
    "Setelah dieksekusi, maka kita telah berhasil membuat database baru bernama `toko_rizzz`."
   ]
  },
  {
   "cell_type": "markdown",
   "id": "5074ffc7",
   "metadata": {},
   "source": [
    "### Membuat Table dalam Database \n",
    "Database yang telah kita buat di atas masih kosong, belum terdapat satu table pun. Disini kita perlu membuat table untuk mengisi database kita. Seperti yang kita telah disebutkan di atas, kita akan membuat beberapa table, yaitu `pelanggan`, `barang`, dan `transaksi`. Namun sebelum itu, kita perlu menghubungkan python dengan database `toko_rizzz` kita."
   ]
  },
  {
   "cell_type": "code",
   "execution_count": 6,
   "id": "457f42ca",
   "metadata": {},
   "outputs": [],
   "source": [
    "db = mysql.connect(\n",
    "    user = 'root',\n",
    "    password = '1234',\n",
    "    host     = 'localhost',\n",
    "    port     = 3306,\n",
    "    database = 'toko_rizzz'\n",
    "    )\n",
    "\n",
    "cursor = db.cursor()"
   ]
  },
  {
   "cell_type": "markdown",
   "id": "6ad75d18",
   "metadata": {},
   "source": [
    "parameter `database` yang tadi kita kosongkan, sekarang kita isi dengan nama database kita, yaitu `toko_rizzz`."
   ]
  },
  {
   "cell_type": "markdown",
   "id": "9637b274",
   "metadata": {},
   "source": [
    "#### Membuat Table `pelanggan` \n",
    "Kita akan membuat table pelanggan yang di dalamnya berisi beberapa kolom informasi yaitu `id_pelanggan`, `nama_pelanggan`, dan `email_pelanggan`, maka kita perlu mengeksekusi QUERY berikut ini:"
   ]
  },
  {
   "cell_type": "code",
   "execution_count": 7,
   "id": "add5460d",
   "metadata": {},
   "outputs": [],
   "source": [
    "query = '''\n",
    "    create table pelanggan(\n",
    "        id_pelanggan varchar(20) not null,\n",
    "        nama_pelanggan varchar(40),\n",
    "        email_pelanggan varchar(50),\n",
    "        primary key(id_pelanggan)\n",
    "    )\n",
    "'''\n",
    "\n",
    "cursor.execute(query)"
   ]
  },
  {
   "cell_type": "markdown",
   "id": "884c77b1",
   "metadata": {},
   "source": [
    "#### Membuat Table `barang` \n",
    "Kita akan membuat table barang yang di dalamnya berisi beberapa kolom informasi yaitu `id_barang`, `nama_barang`, `jenis_barang` dan `harga_barang`, maka kita perlu mengeksekusi QUERY berikut ini:"
   ]
  },
  {
   "cell_type": "code",
   "execution_count": 8,
   "id": "5eebbe51",
   "metadata": {},
   "outputs": [],
   "source": [
    "query = '''\n",
    "    create table barang(\n",
    "        id_barang varchar(20) not null,\n",
    "        nama_barang varchar(40),\n",
    "        jenis_barang varchar(50),\n",
    "        harga_barang int,\n",
    "        primary key(id_barang)\n",
    "    )\n",
    "'''\n",
    "\n",
    "cursor.execute(query)"
   ]
  },
  {
   "cell_type": "markdown",
   "id": "374b4c5f",
   "metadata": {},
   "source": [
    "#### Membuat Table `transaksi` \n",
    "Kita akan membuat table transaksi yang di dalamnya berisi beberapa kolom informasi yaitu `id_transaksi`, `tanggal_transaksi`, `id_pelanggan`, `id_barang`, `jumlah_pembelian` dan `total_harga`, maka kita perlu mengeksekusi QUERY berikut ini:"
   ]
  },
  {
   "cell_type": "code",
   "execution_count": 9,
   "id": "2af31ed6",
   "metadata": {},
   "outputs": [],
   "source": [
    "query = '''\n",
    "    create table transaksi(\n",
    "        id_transaksi varchar(20) not null,\n",
    "        tanggal_transaksi date,\n",
    "        id_pelanggan varchar(20),\n",
    "        id_barang varchar(20),\n",
    "        jumlah_pembelian int,\n",
    "        total_harga int,\n",
    "        primary key(id_transaksi)\n",
    "    )\n",
    "'''\n",
    "\n",
    "cursor.execute(query)"
   ]
  },
  {
   "cell_type": "markdown",
   "id": "22489d55",
   "metadata": {},
   "source": [
    "### Memasukkan Nilai Pada Table \n",
    "Kita telah selesai membuat database dan dalam database tersebut sudah kita isikan beberapa table. Namun table-table tersebut masih kosong, belum terdapat nilai di dalamnya. Kita akan memasukan nilai ke dalam masing-masing table dengan nilai yang kita hasilkan secara random menggunakan bantuan package `random`. Kita juga akan menggunakan bantuan package `pandas` untuk melihat secara sekilas bagaimana tampilan isi table."
   ]
  },
  {
   "cell_type": "code",
   "execution_count": 10,
   "id": "7e27ebf4",
   "metadata": {},
   "outputs": [],
   "source": [
    "import random as r\n",
    "import pandas as pd"
   ]
  },
  {
   "cell_type": "markdown",
   "id": "d2ce8db1",
   "metadata": {},
   "source": [
    "#### Memasukkan Nilai pada Table `pelanggan`\n",
    "Table pelanggan  berisi beberapa kolom informasi yaitu `id_pelanggan`, `nama_pelanggan`, dan `email_pelanggan`. Kolom `nama_pelanggan` akan diisi dengan beberapa sample nama di bawah ini, kolom `email_pelanggan` akan dihasilkan nilai berdasarkan nama pelanggan yang disusun tanpa spasi dengan huruf non kapital diikuti string \"@email.com\", sedangkan kolom `id_pelanggan` akan dihasilkan dengan string berpola \"PELANGGAN-000[INT]\"."
   ]
  },
  {
   "cell_type": "code",
   "execution_count": 11,
   "id": "e501896b",
   "metadata": {},
   "outputs": [],
   "source": [
    "nama_pelanggan_unik = ['Julia Robertson', 'Michael Bow', 'Sisca Johanson', 'Frank Yhou', 'Stephen Lambert', 'Johnny Ward', 'Rafael Bautista', 'Jeremy Gusto', 'Vladimir Cheysev', 'Robin Powell']"
   ]
  },
  {
   "cell_type": "code",
   "execution_count": 12,
   "id": "931cab43",
   "metadata": {},
   "outputs": [],
   "source": [
    "id_pelanggan_unik = [f'PELANGGAN-000{i}' for i in range(len(nama_pelanggan_unik))]\n"
   ]
  },
  {
   "cell_type": "code",
   "execution_count": 13,
   "id": "a4338581-45de-4807-a8d4-e9acd40c02ca",
   "metadata": {},
   "outputs": [],
   "source": [
    "# nama_pelanggan = [r.choice(nama_pelanggan_unik) for i in range(10000)]\n",
    "\n",
    "# email_pelanggan = [email_pelanggan_unik[nama_pelanggan_unik.index(nama_pelanggan[i])] for i in range(10000)]"
   ]
  },
  {
   "cell_type": "code",
   "execution_count": 14,
   "id": "8a3aea2c",
   "metadata": {},
   "outputs": [],
   "source": [
    "email_pelanggan_unik = [f'{(nama_pelanggan_unik[i].lower()).replace(\" \", \"\")}@email.com' for i in range(len(nama_pelanggan_unik))]\n"
   ]
  },
  {
   "cell_type": "markdown",
   "id": "3f233194",
   "metadata": {},
   "source": [
    "Data tersebut akan kita jadikan dictionary kemudian kita convert menjadi pandas dataframe seperti pada berikut ini:"
   ]
  },
  {
   "cell_type": "code",
   "execution_count": 15,
   "id": "ed0ad953",
   "metadata": {},
   "outputs": [
    {
     "data": {
      "text/html": [
       "<div>\n",
       "<style scoped>\n",
       "    .dataframe tbody tr th:only-of-type {\n",
       "        vertical-align: middle;\n",
       "    }\n",
       "\n",
       "    .dataframe tbody tr th {\n",
       "        vertical-align: top;\n",
       "    }\n",
       "\n",
       "    .dataframe thead th {\n",
       "        text-align: right;\n",
       "    }\n",
       "</style>\n",
       "<table border=\"1\" class=\"dataframe\">\n",
       "  <thead>\n",
       "    <tr style=\"text-align: right;\">\n",
       "      <th></th>\n",
       "      <th>id_pelanggan</th>\n",
       "      <th>nama_pelanggan</th>\n",
       "      <th>email_pelanggan</th>\n",
       "    </tr>\n",
       "  </thead>\n",
       "  <tbody>\n",
       "    <tr>\n",
       "      <th>0</th>\n",
       "      <td>PELANGGAN-0000</td>\n",
       "      <td>Julia Robertson</td>\n",
       "      <td>juliarobertson@email.com</td>\n",
       "    </tr>\n",
       "    <tr>\n",
       "      <th>1</th>\n",
       "      <td>PELANGGAN-0001</td>\n",
       "      <td>Michael Bow</td>\n",
       "      <td>michaelbow@email.com</td>\n",
       "    </tr>\n",
       "    <tr>\n",
       "      <th>2</th>\n",
       "      <td>PELANGGAN-0002</td>\n",
       "      <td>Sisca Johanson</td>\n",
       "      <td>siscajohanson@email.com</td>\n",
       "    </tr>\n",
       "    <tr>\n",
       "      <th>3</th>\n",
       "      <td>PELANGGAN-0003</td>\n",
       "      <td>Frank Yhou</td>\n",
       "      <td>frankyhou@email.com</td>\n",
       "    </tr>\n",
       "    <tr>\n",
       "      <th>4</th>\n",
       "      <td>PELANGGAN-0004</td>\n",
       "      <td>Stephen Lambert</td>\n",
       "      <td>stephenlambert@email.com</td>\n",
       "    </tr>\n",
       "    <tr>\n",
       "      <th>5</th>\n",
       "      <td>PELANGGAN-0005</td>\n",
       "      <td>Johnny Ward</td>\n",
       "      <td>johnnyward@email.com</td>\n",
       "    </tr>\n",
       "    <tr>\n",
       "      <th>6</th>\n",
       "      <td>PELANGGAN-0006</td>\n",
       "      <td>Rafael Bautista</td>\n",
       "      <td>rafaelbautista@email.com</td>\n",
       "    </tr>\n",
       "    <tr>\n",
       "      <th>7</th>\n",
       "      <td>PELANGGAN-0007</td>\n",
       "      <td>Jeremy Gusto</td>\n",
       "      <td>jeremygusto@email.com</td>\n",
       "    </tr>\n",
       "    <tr>\n",
       "      <th>8</th>\n",
       "      <td>PELANGGAN-0008</td>\n",
       "      <td>Vladimir Cheysev</td>\n",
       "      <td>vladimircheysev@email.com</td>\n",
       "    </tr>\n",
       "    <tr>\n",
       "      <th>9</th>\n",
       "      <td>PELANGGAN-0009</td>\n",
       "      <td>Robin Powell</td>\n",
       "      <td>robinpowell@email.com</td>\n",
       "    </tr>\n",
       "  </tbody>\n",
       "</table>\n",
       "</div>"
      ],
      "text/plain": [
       "     id_pelanggan    nama_pelanggan            email_pelanggan\n",
       "0  PELANGGAN-0000   Julia Robertson   juliarobertson@email.com\n",
       "1  PELANGGAN-0001       Michael Bow       michaelbow@email.com\n",
       "2  PELANGGAN-0002    Sisca Johanson    siscajohanson@email.com\n",
       "3  PELANGGAN-0003        Frank Yhou        frankyhou@email.com\n",
       "4  PELANGGAN-0004   Stephen Lambert   stephenlambert@email.com\n",
       "5  PELANGGAN-0005       Johnny Ward       johnnyward@email.com\n",
       "6  PELANGGAN-0006   Rafael Bautista   rafaelbautista@email.com\n",
       "7  PELANGGAN-0007      Jeremy Gusto      jeremygusto@email.com\n",
       "8  PELANGGAN-0008  Vladimir Cheysev  vladimircheysev@email.com\n",
       "9  PELANGGAN-0009      Robin Powell      robinpowell@email.com"
      ]
     },
     "execution_count": 15,
     "metadata": {},
     "output_type": "execute_result"
    }
   ],
   "source": [
    "data_pelanggan = {\n",
    "    'id_pelanggan' : id_pelanggan_unik,\n",
    "    'nama_pelanggan' : nama_pelanggan_unik,\n",
    "    'email_pelanggan' : email_pelanggan_unik\n",
    "}\n",
    "\n",
    "df_pelanggan = pd.DataFrame(data_pelanggan)\n",
    "df_pelanggan"
   ]
  },
  {
   "cell_type": "markdown",
   "id": "4c00ba53",
   "metadata": {},
   "source": [
    "Kira-kira seperti di ataslah tampilan isi dari table `pelanggan`. Selanjutkan kita akan memasukan nilai di atas pada table `pelanggan` kita dengan query dan looping seperti berikut:"
   ]
  },
  {
   "cell_type": "code",
   "execution_count": 16,
   "id": "d2b5a424",
   "metadata": {},
   "outputs": [],
   "source": [
    "for i in range(len(df_pelanggan)):\n",
    "    \n",
    "    query = f'''\n",
    "        insert into pelanggan\n",
    "        values('{df_pelanggan['id_pelanggan'].loc[i]}', '{df_pelanggan['nama_pelanggan'].loc[i]}', '{df_pelanggan['email_pelanggan'].loc[i]}')\n",
    "    '''\n",
    "    \n",
    "    cursor.execute(query)\n",
    "db.commit()"
   ]
  },
  {
   "cell_type": "markdown",
   "id": "bf5b257e",
   "metadata": {},
   "source": [
    "Setelah dieksekusi, maka kita telah berhasil memasukkan nilai dalam table `pelanggan`"
   ]
  },
  {
   "cell_type": "markdown",
   "id": "8d95ae23-34d4-46d1-a189-12910e82b016",
   "metadata": {},
   "source": [
    "#### Memasukkan Nilai pada Table `barang`\n",
    "Table barang berisi beberapa kolom informasi yaitu `id_barang`, `nama_barang`, `jenis_barang`, dan `harga_barang`. Kolom `nama_barang`, `jenis_barang`, dan `harga_barang` akan diisi seperti pada tabel di bawah ini:\n",
    "\n",
    "| nama_barang | jenis_barang | harga_garang |\n",
    "| ----------- | ------------ | ------------ |\n",
    "| pasta gigi  | alat mandi   | 12000        |\n",
    "| sabun       | alat mandi   | 7000         |\n",
    "| shampoo     | alat mandi   | 5000         |\n",
    "| tepung      | bahan makan  | 10000        |\n",
    "| garam       | bahan makan  | 3000         |\n",
    "| gula        | bahan makan  | 4000         |\n",
    "| kalung      | aksesoris    | 50000        |\n",
    "| anting      | aksesoris    | 20000        |\n",
    "| gelang      | aksesoris    | 15000        |\n",
    "\n",
    "sedangkan kolom `id_barang` akan dihasilkan dengan string berpola \"BARANG-000[INT]\"."
   ]
  },
  {
   "cell_type": "code",
   "execution_count": 17,
   "id": "3c1ebfd8-83ab-469c-a2d1-28223233555b",
   "metadata": {},
   "outputs": [],
   "source": [
    "nama_barang_unik = ['pasta gigi', 'sabun', 'shampoo', 'tepung', 'garam', 'gula', 'kalung', 'anting', 'gelang']"
   ]
  },
  {
   "cell_type": "code",
   "execution_count": 18,
   "id": "069ea71a-e0e7-45db-abd3-c657527be781",
   "metadata": {},
   "outputs": [],
   "source": [
    "harga_barang_unik = [12000, 7000, 5000, 10000, 3000, 4000, 50000, 20000, 15000]"
   ]
  },
  {
   "cell_type": "code",
   "execution_count": 19,
   "id": "b0183be5-343e-4fab-a160-533aac5cc1ff",
   "metadata": {},
   "outputs": [],
   "source": [
    "jenis_barang = ['alat mandi', 'alat mandi', 'alat mandi', 'bahan makan', 'bahan makan', 'bahan makan', 'aksesoris', 'aksesoris', 'aksesoris']"
   ]
  },
  {
   "cell_type": "code",
   "execution_count": 20,
   "id": "f83a9379-47e9-4f03-9876-3a2c982ee146",
   "metadata": {},
   "outputs": [],
   "source": [
    "id_barang_unik = [f'BARANG-000{i}' for i in range(len(nama_barang_unik))]"
   ]
  },
  {
   "cell_type": "markdown",
   "id": "667d0620-6820-4ee8-9b68-8c8f7c680bfd",
   "metadata": {},
   "source": [
    "Data tersebut akan kita jadikan dictionary kemudian kita convert menjadi pandas dataframe seperti pada berikut ini:"
   ]
  },
  {
   "cell_type": "code",
   "execution_count": 21,
   "id": "491f9294-9a40-4520-834f-bcdc3c017bd9",
   "metadata": {},
   "outputs": [
    {
     "data": {
      "text/html": [
       "<div>\n",
       "<style scoped>\n",
       "    .dataframe tbody tr th:only-of-type {\n",
       "        vertical-align: middle;\n",
       "    }\n",
       "\n",
       "    .dataframe tbody tr th {\n",
       "        vertical-align: top;\n",
       "    }\n",
       "\n",
       "    .dataframe thead th {\n",
       "        text-align: right;\n",
       "    }\n",
       "</style>\n",
       "<table border=\"1\" class=\"dataframe\">\n",
       "  <thead>\n",
       "    <tr style=\"text-align: right;\">\n",
       "      <th></th>\n",
       "      <th>id_barang</th>\n",
       "      <th>nama_barang</th>\n",
       "      <th>jenis_barang</th>\n",
       "      <th>harga_barang</th>\n",
       "    </tr>\n",
       "  </thead>\n",
       "  <tbody>\n",
       "    <tr>\n",
       "      <th>0</th>\n",
       "      <td>BARANG-0000</td>\n",
       "      <td>pasta gigi</td>\n",
       "      <td>alat mandi</td>\n",
       "      <td>12000</td>\n",
       "    </tr>\n",
       "    <tr>\n",
       "      <th>1</th>\n",
       "      <td>BARANG-0001</td>\n",
       "      <td>sabun</td>\n",
       "      <td>alat mandi</td>\n",
       "      <td>7000</td>\n",
       "    </tr>\n",
       "    <tr>\n",
       "      <th>2</th>\n",
       "      <td>BARANG-0002</td>\n",
       "      <td>shampoo</td>\n",
       "      <td>alat mandi</td>\n",
       "      <td>5000</td>\n",
       "    </tr>\n",
       "    <tr>\n",
       "      <th>3</th>\n",
       "      <td>BARANG-0003</td>\n",
       "      <td>tepung</td>\n",
       "      <td>bahan makan</td>\n",
       "      <td>10000</td>\n",
       "    </tr>\n",
       "    <tr>\n",
       "      <th>4</th>\n",
       "      <td>BARANG-0004</td>\n",
       "      <td>garam</td>\n",
       "      <td>bahan makan</td>\n",
       "      <td>3000</td>\n",
       "    </tr>\n",
       "    <tr>\n",
       "      <th>5</th>\n",
       "      <td>BARANG-0005</td>\n",
       "      <td>gula</td>\n",
       "      <td>bahan makan</td>\n",
       "      <td>4000</td>\n",
       "    </tr>\n",
       "    <tr>\n",
       "      <th>6</th>\n",
       "      <td>BARANG-0006</td>\n",
       "      <td>kalung</td>\n",
       "      <td>aksesoris</td>\n",
       "      <td>50000</td>\n",
       "    </tr>\n",
       "    <tr>\n",
       "      <th>7</th>\n",
       "      <td>BARANG-0007</td>\n",
       "      <td>anting</td>\n",
       "      <td>aksesoris</td>\n",
       "      <td>20000</td>\n",
       "    </tr>\n",
       "    <tr>\n",
       "      <th>8</th>\n",
       "      <td>BARANG-0008</td>\n",
       "      <td>gelang</td>\n",
       "      <td>aksesoris</td>\n",
       "      <td>15000</td>\n",
       "    </tr>\n",
       "  </tbody>\n",
       "</table>\n",
       "</div>"
      ],
      "text/plain": [
       "     id_barang nama_barang jenis_barang  harga_barang\n",
       "0  BARANG-0000  pasta gigi   alat mandi         12000\n",
       "1  BARANG-0001       sabun   alat mandi          7000\n",
       "2  BARANG-0002     shampoo   alat mandi          5000\n",
       "3  BARANG-0003      tepung  bahan makan         10000\n",
       "4  BARANG-0004       garam  bahan makan          3000\n",
       "5  BARANG-0005        gula  bahan makan          4000\n",
       "6  BARANG-0006      kalung    aksesoris         50000\n",
       "7  BARANG-0007      anting    aksesoris         20000\n",
       "8  BARANG-0008      gelang    aksesoris         15000"
      ]
     },
     "execution_count": 21,
     "metadata": {},
     "output_type": "execute_result"
    }
   ],
   "source": [
    "data_barang = {\n",
    "    'id_barang' : id_barang_unik,\n",
    "    'nama_barang' : nama_barang_unik,\n",
    "    'jenis_barang' : jenis_barang,\n",
    "    'harga_barang' : harga_barang_unik\n",
    "}\n",
    "\n",
    "df_barang = pd.DataFrame(data_barang)\n",
    "df_barang"
   ]
  },
  {
   "cell_type": "markdown",
   "id": "2223aaa5-155e-4c46-84c2-528318604f56",
   "metadata": {},
   "source": [
    "Kira-kira seperti di ataslah tampilan isi dari table `barang`. Selanjutkan kita akan memasukan nilai di atas pada table `barang` kita dengan query dan looping seperti berikut:"
   ]
  },
  {
   "cell_type": "code",
   "execution_count": 22,
   "id": "e331895f-d2ba-4272-8d50-19c8e1a5e3ef",
   "metadata": {},
   "outputs": [],
   "source": [
    "for i in range(len(df_barang)):\n",
    "    \n",
    "    query = f'''\n",
    "        insert into barang\n",
    "        values('{df_barang['id_barang'].loc[i]}', '{df_barang['nama_barang'].loc[i]}', '{df_barang['jenis_barang'].loc[i]}', {df_barang['harga_barang'].loc[i]})\n",
    "    '''\n",
    "    \n",
    "    cursor.execute(query)\n",
    "db.commit()"
   ]
  },
  {
   "cell_type": "markdown",
   "id": "196ec158-0c8a-4403-ba4c-13473a55ace3",
   "metadata": {},
   "source": [
    "Setelah dieksekusi, maka kita telah berhasil memasukkan nilai dalam table `barang`"
   ]
  },
  {
   "cell_type": "markdown",
   "id": "acfe0a68-80bc-4224-93ad-a30f0f8e3d7b",
   "metadata": {},
   "source": [
    "#### Memasukkan Nilai pada Table `transaksi`\n",
    "Table barang berisi beberapa kolom informasi yaitu `id_transaksi`, `tanggal_transaksi`, `id_pelanggan`, `id_barang`, `jumlah_pembelian` dan `total_harga`. Kolom `tanggal_transaksi` akan dihasilkan nilai secara random dalam format YYYY-MM-DD. Kolom `id_pelanggan` dan `id_barang`, dan `jumlah_pembelian` akan dihasilkan nilai dengan pengambilan secara random dengan peletakkan kembali (with replacement) dari variable `id_pelanggan_unik` dan `id_barang_unik` di atas. Kolom `jumlah_pembelian` akan dihasilkan nilai bilangan bulat random. Kolom `total_harga` akan diisi dengan hasil perkalian jumlah pembelian dengan harga barang. Sedangkan kolom `id_barang` akan dihasilkan dengan string berpola \"TRANSAKSI-000[INT]\". Table `transaksi` akan membuat 10000 baris data."
   ]
  },
  {
   "cell_type": "code",
   "execution_count": 23,
   "id": "d343cc26-182e-4da7-9223-6877e7b8da10",
   "metadata": {},
   "outputs": [],
   "source": [
    "id_transaksi_unik = [f'TRANSAKSI-000{i}' for i in range(10000)]"
   ]
  },
  {
   "cell_type": "code",
   "execution_count": 24,
   "id": "32358f59-33df-4e55-98e9-6bfd264a1ec1",
   "metadata": {},
   "outputs": [],
   "source": [
    "import datetime as dt\n",
    "\n",
    "tanggal_transaksi = [dt.date(r.randint(2018,2023), r.randint(1,12), r.randint(1,28)) for i in range(10000)]"
   ]
  },
  {
   "cell_type": "code",
   "execution_count": 25,
   "id": "1b4e6cae-a1a1-4df4-b802-b6e03426a257",
   "metadata": {},
   "outputs": [],
   "source": [
    "id_pelanggan = [r.choice(id_pelanggan_unik) for i in range(10000)]"
   ]
  },
  {
   "cell_type": "code",
   "execution_count": 26,
   "id": "b62a4c65-ef9d-42fc-8932-ab49dc7044df",
   "metadata": {},
   "outputs": [],
   "source": [
    "id_barang = [r.choice(id_barang_unik) for i in range(10000)]"
   ]
  },
  {
   "cell_type": "code",
   "execution_count": 27,
   "id": "9520901a-6419-45ef-ac2e-8554b2b0f82e",
   "metadata": {},
   "outputs": [],
   "source": [
    "jumlah_pembelian = [r.randint(1,20) for i in range(10000)]"
   ]
  },
  {
   "cell_type": "code",
   "execution_count": 28,
   "id": "bd371585-1bf6-4fc8-8600-cbe0ad0b01c4",
   "metadata": {},
   "outputs": [],
   "source": [
    "total_harga = [jumlah_pembelian[i] *  harga_barang_unik[id_barang_unik.index(id_barang[i])] for i in range(10000)]"
   ]
  },
  {
   "cell_type": "markdown",
   "id": "fc6395e8-9c51-44c9-b83d-b431c8b8ec9b",
   "metadata": {},
   "source": [
    "Data tersebut akan kita jadikan dictionary kemudian kita convert menjadi pandas dataframe seperti pada berikut ini:"
   ]
  },
  {
   "cell_type": "code",
   "execution_count": 29,
   "id": "31832987-6b55-447e-b323-f2f4e3a37fcd",
   "metadata": {},
   "outputs": [
    {
     "data": {
      "text/html": [
       "<div>\n",
       "<style scoped>\n",
       "    .dataframe tbody tr th:only-of-type {\n",
       "        vertical-align: middle;\n",
       "    }\n",
       "\n",
       "    .dataframe tbody tr th {\n",
       "        vertical-align: top;\n",
       "    }\n",
       "\n",
       "    .dataframe thead th {\n",
       "        text-align: right;\n",
       "    }\n",
       "</style>\n",
       "<table border=\"1\" class=\"dataframe\">\n",
       "  <thead>\n",
       "    <tr style=\"text-align: right;\">\n",
       "      <th></th>\n",
       "      <th>id_transaksi</th>\n",
       "      <th>tanggal_transaksi</th>\n",
       "      <th>id_pelanggan</th>\n",
       "      <th>id_barang</th>\n",
       "      <th>jumlah_pembelian</th>\n",
       "      <th>total_harga</th>\n",
       "    </tr>\n",
       "  </thead>\n",
       "  <tbody>\n",
       "    <tr>\n",
       "      <th>0</th>\n",
       "      <td>TRANSAKSI-0000</td>\n",
       "      <td>2020-09-22</td>\n",
       "      <td>PELANGGAN-0004</td>\n",
       "      <td>BARANG-0007</td>\n",
       "      <td>4</td>\n",
       "      <td>80000</td>\n",
       "    </tr>\n",
       "    <tr>\n",
       "      <th>1</th>\n",
       "      <td>TRANSAKSI-0001</td>\n",
       "      <td>2019-08-12</td>\n",
       "      <td>PELANGGAN-0003</td>\n",
       "      <td>BARANG-0000</td>\n",
       "      <td>6</td>\n",
       "      <td>72000</td>\n",
       "    </tr>\n",
       "    <tr>\n",
       "      <th>2</th>\n",
       "      <td>TRANSAKSI-0002</td>\n",
       "      <td>2020-06-13</td>\n",
       "      <td>PELANGGAN-0002</td>\n",
       "      <td>BARANG-0000</td>\n",
       "      <td>17</td>\n",
       "      <td>204000</td>\n",
       "    </tr>\n",
       "    <tr>\n",
       "      <th>3</th>\n",
       "      <td>TRANSAKSI-0003</td>\n",
       "      <td>2018-01-24</td>\n",
       "      <td>PELANGGAN-0008</td>\n",
       "      <td>BARANG-0003</td>\n",
       "      <td>9</td>\n",
       "      <td>90000</td>\n",
       "    </tr>\n",
       "    <tr>\n",
       "      <th>4</th>\n",
       "      <td>TRANSAKSI-0004</td>\n",
       "      <td>2023-10-06</td>\n",
       "      <td>PELANGGAN-0003</td>\n",
       "      <td>BARANG-0005</td>\n",
       "      <td>8</td>\n",
       "      <td>32000</td>\n",
       "    </tr>\n",
       "    <tr>\n",
       "      <th>...</th>\n",
       "      <td>...</td>\n",
       "      <td>...</td>\n",
       "      <td>...</td>\n",
       "      <td>...</td>\n",
       "      <td>...</td>\n",
       "      <td>...</td>\n",
       "    </tr>\n",
       "    <tr>\n",
       "      <th>9995</th>\n",
       "      <td>TRANSAKSI-0009995</td>\n",
       "      <td>2019-04-14</td>\n",
       "      <td>PELANGGAN-0002</td>\n",
       "      <td>BARANG-0003</td>\n",
       "      <td>5</td>\n",
       "      <td>50000</td>\n",
       "    </tr>\n",
       "    <tr>\n",
       "      <th>9996</th>\n",
       "      <td>TRANSAKSI-0009996</td>\n",
       "      <td>2018-07-05</td>\n",
       "      <td>PELANGGAN-0003</td>\n",
       "      <td>BARANG-0005</td>\n",
       "      <td>5</td>\n",
       "      <td>20000</td>\n",
       "    </tr>\n",
       "    <tr>\n",
       "      <th>9997</th>\n",
       "      <td>TRANSAKSI-0009997</td>\n",
       "      <td>2021-08-19</td>\n",
       "      <td>PELANGGAN-0005</td>\n",
       "      <td>BARANG-0007</td>\n",
       "      <td>14</td>\n",
       "      <td>280000</td>\n",
       "    </tr>\n",
       "    <tr>\n",
       "      <th>9998</th>\n",
       "      <td>TRANSAKSI-0009998</td>\n",
       "      <td>2018-02-04</td>\n",
       "      <td>PELANGGAN-0000</td>\n",
       "      <td>BARANG-0001</td>\n",
       "      <td>14</td>\n",
       "      <td>98000</td>\n",
       "    </tr>\n",
       "    <tr>\n",
       "      <th>9999</th>\n",
       "      <td>TRANSAKSI-0009999</td>\n",
       "      <td>2022-05-10</td>\n",
       "      <td>PELANGGAN-0007</td>\n",
       "      <td>BARANG-0007</td>\n",
       "      <td>11</td>\n",
       "      <td>220000</td>\n",
       "    </tr>\n",
       "  </tbody>\n",
       "</table>\n",
       "<p>10000 rows × 6 columns</p>\n",
       "</div>"
      ],
      "text/plain": [
       "           id_transaksi tanggal_transaksi    id_pelanggan    id_barang  \\\n",
       "0        TRANSAKSI-0000        2020-09-22  PELANGGAN-0004  BARANG-0007   \n",
       "1        TRANSAKSI-0001        2019-08-12  PELANGGAN-0003  BARANG-0000   \n",
       "2        TRANSAKSI-0002        2020-06-13  PELANGGAN-0002  BARANG-0000   \n",
       "3        TRANSAKSI-0003        2018-01-24  PELANGGAN-0008  BARANG-0003   \n",
       "4        TRANSAKSI-0004        2023-10-06  PELANGGAN-0003  BARANG-0005   \n",
       "...                 ...               ...             ...          ...   \n",
       "9995  TRANSAKSI-0009995        2019-04-14  PELANGGAN-0002  BARANG-0003   \n",
       "9996  TRANSAKSI-0009996        2018-07-05  PELANGGAN-0003  BARANG-0005   \n",
       "9997  TRANSAKSI-0009997        2021-08-19  PELANGGAN-0005  BARANG-0007   \n",
       "9998  TRANSAKSI-0009998        2018-02-04  PELANGGAN-0000  BARANG-0001   \n",
       "9999  TRANSAKSI-0009999        2022-05-10  PELANGGAN-0007  BARANG-0007   \n",
       "\n",
       "      jumlah_pembelian  total_harga  \n",
       "0                    4        80000  \n",
       "1                    6        72000  \n",
       "2                   17       204000  \n",
       "3                    9        90000  \n",
       "4                    8        32000  \n",
       "...                ...          ...  \n",
       "9995                 5        50000  \n",
       "9996                 5        20000  \n",
       "9997                14       280000  \n",
       "9998                14        98000  \n",
       "9999                11       220000  \n",
       "\n",
       "[10000 rows x 6 columns]"
      ]
     },
     "execution_count": 29,
     "metadata": {},
     "output_type": "execute_result"
    }
   ],
   "source": [
    "data_transaksi = {\n",
    "    'id_transaksi' : id_transaksi_unik,\n",
    "    'tanggal_transaksi' : tanggal_transaksi,\n",
    "    'id_pelanggan' : id_pelanggan,\n",
    "    'id_barang' : id_barang,\n",
    "    'jumlah_pembelian' : jumlah_pembelian,\n",
    "    'total_harga' : total_harga\n",
    "}\n",
    "\n",
    "df_transaksi = pd.DataFrame(data_transaksi)\n",
    "df_transaksi"
   ]
  },
  {
   "cell_type": "markdown",
   "id": "6be765e2-66e0-4d79-bace-5b7c28ee494f",
   "metadata": {},
   "source": [
    "Kira-kira seperti di ataslah tampilan isi dari table `transaksi`. Selanjutkan kita akan memasukan nilai di atas pada table `transaksi` kita dengan query dan looping seperti berikut:"
   ]
  },
  {
   "cell_type": "code",
   "execution_count": 30,
   "id": "538a6cc5-e0da-4271-8a84-9e24f52c7dbe",
   "metadata": {},
   "outputs": [],
   "source": [
    "for i in range(len(df_transaksi)):\n",
    "    \n",
    "    query = f'''\n",
    "        insert into transaksi\n",
    "        values('{df_transaksi['id_transaksi'].loc[i]}', '{df_transaksi['tanggal_transaksi'].loc[i]}', '{df_transaksi['id_pelanggan'].loc[i]}', '{df_transaksi['id_barang'].loc[i]}', {df_transaksi['jumlah_pembelian'].loc[i]}, {df_transaksi['total_harga'].loc[i]})\n",
    "    '''\n",
    "    \n",
    "    cursor.execute(query)\n",
    "db.commit()"
   ]
  },
  {
   "cell_type": "markdown",
   "id": "4ff5f103-ab71-463b-8fb6-e4867c79241c",
   "metadata": {},
   "source": [
    "Setelah dieksekusi, maka kita telah berhasil memasukkan nilai dalam table `transaksi`"
   ]
  },
  {
   "cell_type": "markdown",
   "id": "1a849d0d-e86e-4ae6-9263-fa93fea5c2b1",
   "metadata": {},
   "source": [
    "## Demonstrasi Database\n",
    "Kita telah selesai membuat database beserta isi di dalamnya. Sekarang kita akan menampilkan database yang telah kita buat. Hal ini bisa dilakukan dengan bantuan `pandas`."
   ]
  },
  {
   "cell_type": "markdown",
   "id": "6b89f036-53a1-4a75-b2fe-f194aa6d37d3",
   "metadata": {},
   "source": [
    "### Menampilkan Semua Table dalam Database"
   ]
  },
  {
   "cell_type": "code",
   "execution_count": 31,
   "id": "c09d0c5c-92f4-43a9-8f51-922ba970dd9a",
   "metadata": {},
   "outputs": [
    {
     "name": "stderr",
     "output_type": "stream",
     "text": [
      "C:\\Users\\Rizzz Maooo\\AppData\\Local\\Temp\\ipykernel_2196\\2527271145.py:7: UserWarning: pandas only supports SQLAlchemy connectable (engine/connection) or database string URI or sqlite3 DBAPI2 connection. Other DBAPI2 objects are not tested. Please consider using SQLAlchemy.\n",
      "  pd.read_sql(query, db)\n"
     ]
    },
    {
     "data": {
      "text/html": [
       "<div>\n",
       "<style scoped>\n",
       "    .dataframe tbody tr th:only-of-type {\n",
       "        vertical-align: middle;\n",
       "    }\n",
       "\n",
       "    .dataframe tbody tr th {\n",
       "        vertical-align: top;\n",
       "    }\n",
       "\n",
       "    .dataframe thead th {\n",
       "        text-align: right;\n",
       "    }\n",
       "</style>\n",
       "<table border=\"1\" class=\"dataframe\">\n",
       "  <thead>\n",
       "    <tr style=\"text-align: right;\">\n",
       "      <th></th>\n",
       "      <th>Tables_in_toko_rizzz</th>\n",
       "    </tr>\n",
       "  </thead>\n",
       "  <tbody>\n",
       "    <tr>\n",
       "      <th>0</th>\n",
       "      <td>barang</td>\n",
       "    </tr>\n",
       "    <tr>\n",
       "      <th>1</th>\n",
       "      <td>pelanggan</td>\n",
       "    </tr>\n",
       "    <tr>\n",
       "      <th>2</th>\n",
       "      <td>transaksi</td>\n",
       "    </tr>\n",
       "  </tbody>\n",
       "</table>\n",
       "</div>"
      ],
      "text/plain": [
       "  Tables_in_toko_rizzz\n",
       "0               barang\n",
       "1            pelanggan\n",
       "2            transaksi"
      ]
     },
     "execution_count": 31,
     "metadata": {},
     "output_type": "execute_result"
    }
   ],
   "source": [
    "query = '''\n",
    "\n",
    "    SHOW TABLES\n",
    "    \n",
    "'''\n",
    "\n",
    "pd.read_sql(query, db)"
   ]
  },
  {
   "cell_type": "markdown",
   "id": "ea3491b0-fab0-4025-9ec1-2779a5afe266",
   "metadata": {},
   "source": [
    "### Menampilkan Isi dari Tabel `barang`"
   ]
  },
  {
   "cell_type": "code",
   "execution_count": 32,
   "id": "646e9d1c-a040-4e83-b4f0-98b8b0743b67",
   "metadata": {},
   "outputs": [
    {
     "name": "stderr",
     "output_type": "stream",
     "text": [
      "C:\\Users\\Rizzz Maooo\\AppData\\Local\\Temp\\ipykernel_2196\\3196521575.py:7: UserWarning: pandas only supports SQLAlchemy connectable (engine/connection) or database string URI or sqlite3 DBAPI2 connection. Other DBAPI2 objects are not tested. Please consider using SQLAlchemy.\n",
      "  pd.read_sql(query, db)\n"
     ]
    },
    {
     "data": {
      "text/html": [
       "<div>\n",
       "<style scoped>\n",
       "    .dataframe tbody tr th:only-of-type {\n",
       "        vertical-align: middle;\n",
       "    }\n",
       "\n",
       "    .dataframe tbody tr th {\n",
       "        vertical-align: top;\n",
       "    }\n",
       "\n",
       "    .dataframe thead th {\n",
       "        text-align: right;\n",
       "    }\n",
       "</style>\n",
       "<table border=\"1\" class=\"dataframe\">\n",
       "  <thead>\n",
       "    <tr style=\"text-align: right;\">\n",
       "      <th></th>\n",
       "      <th>id_barang</th>\n",
       "      <th>nama_barang</th>\n",
       "      <th>jenis_barang</th>\n",
       "      <th>harga_barang</th>\n",
       "    </tr>\n",
       "  </thead>\n",
       "  <tbody>\n",
       "    <tr>\n",
       "      <th>0</th>\n",
       "      <td>BARANG-0000</td>\n",
       "      <td>pasta gigi</td>\n",
       "      <td>alat mandi</td>\n",
       "      <td>12000</td>\n",
       "    </tr>\n",
       "    <tr>\n",
       "      <th>1</th>\n",
       "      <td>BARANG-0001</td>\n",
       "      <td>sabun</td>\n",
       "      <td>alat mandi</td>\n",
       "      <td>7000</td>\n",
       "    </tr>\n",
       "    <tr>\n",
       "      <th>2</th>\n",
       "      <td>BARANG-0002</td>\n",
       "      <td>shampoo</td>\n",
       "      <td>alat mandi</td>\n",
       "      <td>5000</td>\n",
       "    </tr>\n",
       "    <tr>\n",
       "      <th>3</th>\n",
       "      <td>BARANG-0003</td>\n",
       "      <td>tepung</td>\n",
       "      <td>bahan makan</td>\n",
       "      <td>10000</td>\n",
       "    </tr>\n",
       "    <tr>\n",
       "      <th>4</th>\n",
       "      <td>BARANG-0004</td>\n",
       "      <td>garam</td>\n",
       "      <td>bahan makan</td>\n",
       "      <td>3000</td>\n",
       "    </tr>\n",
       "    <tr>\n",
       "      <th>5</th>\n",
       "      <td>BARANG-0005</td>\n",
       "      <td>gula</td>\n",
       "      <td>bahan makan</td>\n",
       "      <td>4000</td>\n",
       "    </tr>\n",
       "    <tr>\n",
       "      <th>6</th>\n",
       "      <td>BARANG-0006</td>\n",
       "      <td>kalung</td>\n",
       "      <td>aksesoris</td>\n",
       "      <td>50000</td>\n",
       "    </tr>\n",
       "    <tr>\n",
       "      <th>7</th>\n",
       "      <td>BARANG-0007</td>\n",
       "      <td>anting</td>\n",
       "      <td>aksesoris</td>\n",
       "      <td>20000</td>\n",
       "    </tr>\n",
       "    <tr>\n",
       "      <th>8</th>\n",
       "      <td>BARANG-0008</td>\n",
       "      <td>gelang</td>\n",
       "      <td>aksesoris</td>\n",
       "      <td>15000</td>\n",
       "    </tr>\n",
       "  </tbody>\n",
       "</table>\n",
       "</div>"
      ],
      "text/plain": [
       "     id_barang nama_barang jenis_barang  harga_barang\n",
       "0  BARANG-0000  pasta gigi   alat mandi         12000\n",
       "1  BARANG-0001       sabun   alat mandi          7000\n",
       "2  BARANG-0002     shampoo   alat mandi          5000\n",
       "3  BARANG-0003      tepung  bahan makan         10000\n",
       "4  BARANG-0004       garam  bahan makan          3000\n",
       "5  BARANG-0005        gula  bahan makan          4000\n",
       "6  BARANG-0006      kalung    aksesoris         50000\n",
       "7  BARANG-0007      anting    aksesoris         20000\n",
       "8  BARANG-0008      gelang    aksesoris         15000"
      ]
     },
     "execution_count": 32,
     "metadata": {},
     "output_type": "execute_result"
    }
   ],
   "source": [
    "query = '''\n",
    "\n",
    "    SELECT * FROM barang\n",
    "    \n",
    "'''\n",
    "\n",
    "pd.read_sql(query, db)"
   ]
  },
  {
   "cell_type": "markdown",
   "id": "a4d23dc8-1fea-438f-89e2-7bb15547ed9f",
   "metadata": {},
   "source": [
    "## Menampilkan Isi dari Tabel `pelanggan`"
   ]
  },
  {
   "cell_type": "code",
   "execution_count": 33,
   "id": "8e13a5e1-0a7b-4855-b516-1e41313170a4",
   "metadata": {},
   "outputs": [
    {
     "name": "stderr",
     "output_type": "stream",
     "text": [
      "C:\\Users\\Rizzz Maooo\\AppData\\Local\\Temp\\ipykernel_2196\\1434194026.py:7: UserWarning: pandas only supports SQLAlchemy connectable (engine/connection) or database string URI or sqlite3 DBAPI2 connection. Other DBAPI2 objects are not tested. Please consider using SQLAlchemy.\n",
      "  pd.read_sql(query, db)\n"
     ]
    },
    {
     "data": {
      "text/html": [
       "<div>\n",
       "<style scoped>\n",
       "    .dataframe tbody tr th:only-of-type {\n",
       "        vertical-align: middle;\n",
       "    }\n",
       "\n",
       "    .dataframe tbody tr th {\n",
       "        vertical-align: top;\n",
       "    }\n",
       "\n",
       "    .dataframe thead th {\n",
       "        text-align: right;\n",
       "    }\n",
       "</style>\n",
       "<table border=\"1\" class=\"dataframe\">\n",
       "  <thead>\n",
       "    <tr style=\"text-align: right;\">\n",
       "      <th></th>\n",
       "      <th>id_pelanggan</th>\n",
       "      <th>nama_pelanggan</th>\n",
       "      <th>email_pelanggan</th>\n",
       "    </tr>\n",
       "  </thead>\n",
       "  <tbody>\n",
       "    <tr>\n",
       "      <th>0</th>\n",
       "      <td>PELANGGAN-0000</td>\n",
       "      <td>Julia Robertson</td>\n",
       "      <td>juliarobertson@email.com</td>\n",
       "    </tr>\n",
       "    <tr>\n",
       "      <th>1</th>\n",
       "      <td>PELANGGAN-0001</td>\n",
       "      <td>Michael Bow</td>\n",
       "      <td>michaelbow@email.com</td>\n",
       "    </tr>\n",
       "    <tr>\n",
       "      <th>2</th>\n",
       "      <td>PELANGGAN-0002</td>\n",
       "      <td>Sisca Johanson</td>\n",
       "      <td>siscajohanson@email.com</td>\n",
       "    </tr>\n",
       "    <tr>\n",
       "      <th>3</th>\n",
       "      <td>PELANGGAN-0003</td>\n",
       "      <td>Frank Yhou</td>\n",
       "      <td>frankyhou@email.com</td>\n",
       "    </tr>\n",
       "    <tr>\n",
       "      <th>4</th>\n",
       "      <td>PELANGGAN-0004</td>\n",
       "      <td>Stephen Lambert</td>\n",
       "      <td>stephenlambert@email.com</td>\n",
       "    </tr>\n",
       "    <tr>\n",
       "      <th>5</th>\n",
       "      <td>PELANGGAN-0005</td>\n",
       "      <td>Johnny Ward</td>\n",
       "      <td>johnnyward@email.com</td>\n",
       "    </tr>\n",
       "    <tr>\n",
       "      <th>6</th>\n",
       "      <td>PELANGGAN-0006</td>\n",
       "      <td>Rafael Bautista</td>\n",
       "      <td>rafaelbautista@email.com</td>\n",
       "    </tr>\n",
       "    <tr>\n",
       "      <th>7</th>\n",
       "      <td>PELANGGAN-0007</td>\n",
       "      <td>Jeremy Gusto</td>\n",
       "      <td>jeremygusto@email.com</td>\n",
       "    </tr>\n",
       "    <tr>\n",
       "      <th>8</th>\n",
       "      <td>PELANGGAN-0008</td>\n",
       "      <td>Vladimir Cheysev</td>\n",
       "      <td>vladimircheysev@email.com</td>\n",
       "    </tr>\n",
       "    <tr>\n",
       "      <th>9</th>\n",
       "      <td>PELANGGAN-0009</td>\n",
       "      <td>Robin Powell</td>\n",
       "      <td>robinpowell@email.com</td>\n",
       "    </tr>\n",
       "  </tbody>\n",
       "</table>\n",
       "</div>"
      ],
      "text/plain": [
       "     id_pelanggan    nama_pelanggan            email_pelanggan\n",
       "0  PELANGGAN-0000   Julia Robertson   juliarobertson@email.com\n",
       "1  PELANGGAN-0001       Michael Bow       michaelbow@email.com\n",
       "2  PELANGGAN-0002    Sisca Johanson    siscajohanson@email.com\n",
       "3  PELANGGAN-0003        Frank Yhou        frankyhou@email.com\n",
       "4  PELANGGAN-0004   Stephen Lambert   stephenlambert@email.com\n",
       "5  PELANGGAN-0005       Johnny Ward       johnnyward@email.com\n",
       "6  PELANGGAN-0006   Rafael Bautista   rafaelbautista@email.com\n",
       "7  PELANGGAN-0007      Jeremy Gusto      jeremygusto@email.com\n",
       "8  PELANGGAN-0008  Vladimir Cheysev  vladimircheysev@email.com\n",
       "9  PELANGGAN-0009      Robin Powell      robinpowell@email.com"
      ]
     },
     "execution_count": 33,
     "metadata": {},
     "output_type": "execute_result"
    }
   ],
   "source": [
    "query = '''\n",
    "\n",
    "    SELECT * FROM pelanggan\n",
    "    \n",
    "'''\n",
    "\n",
    "pd.read_sql(query, db)"
   ]
  },
  {
   "cell_type": "markdown",
   "id": "758d79cf-2ca1-4115-afb9-3655d141c980",
   "metadata": {},
   "source": [
    "### Menampilkan Isi dari Tabel `transaksi`"
   ]
  },
  {
   "cell_type": "code",
   "execution_count": 34,
   "id": "31f4cef4-07d9-4234-a8ca-a51982729e58",
   "metadata": {},
   "outputs": [
    {
     "name": "stderr",
     "output_type": "stream",
     "text": [
      "C:\\Users\\Rizzz Maooo\\AppData\\Local\\Temp\\ipykernel_2196\\1553775412.py:7: UserWarning: pandas only supports SQLAlchemy connectable (engine/connection) or database string URI or sqlite3 DBAPI2 connection. Other DBAPI2 objects are not tested. Please consider using SQLAlchemy.\n",
      "  pd.read_sql(query, db)\n"
     ]
    },
    {
     "data": {
      "text/html": [
       "<div>\n",
       "<style scoped>\n",
       "    .dataframe tbody tr th:only-of-type {\n",
       "        vertical-align: middle;\n",
       "    }\n",
       "\n",
       "    .dataframe tbody tr th {\n",
       "        vertical-align: top;\n",
       "    }\n",
       "\n",
       "    .dataframe thead th {\n",
       "        text-align: right;\n",
       "    }\n",
       "</style>\n",
       "<table border=\"1\" class=\"dataframe\">\n",
       "  <thead>\n",
       "    <tr style=\"text-align: right;\">\n",
       "      <th></th>\n",
       "      <th>id_transaksi</th>\n",
       "      <th>tanggal_transaksi</th>\n",
       "      <th>id_pelanggan</th>\n",
       "      <th>id_barang</th>\n",
       "      <th>jumlah_pembelian</th>\n",
       "      <th>total_harga</th>\n",
       "    </tr>\n",
       "  </thead>\n",
       "  <tbody>\n",
       "    <tr>\n",
       "      <th>0</th>\n",
       "      <td>TRANSAKSI-0000</td>\n",
       "      <td>2020-09-22</td>\n",
       "      <td>PELANGGAN-0004</td>\n",
       "      <td>BARANG-0007</td>\n",
       "      <td>4</td>\n",
       "      <td>80000</td>\n",
       "    </tr>\n",
       "    <tr>\n",
       "      <th>1</th>\n",
       "      <td>TRANSAKSI-0001</td>\n",
       "      <td>2019-08-12</td>\n",
       "      <td>PELANGGAN-0003</td>\n",
       "      <td>BARANG-0000</td>\n",
       "      <td>6</td>\n",
       "      <td>72000</td>\n",
       "    </tr>\n",
       "    <tr>\n",
       "      <th>2</th>\n",
       "      <td>TRANSAKSI-00010</td>\n",
       "      <td>2019-08-22</td>\n",
       "      <td>PELANGGAN-0009</td>\n",
       "      <td>BARANG-0002</td>\n",
       "      <td>18</td>\n",
       "      <td>90000</td>\n",
       "    </tr>\n",
       "    <tr>\n",
       "      <th>3</th>\n",
       "      <td>TRANSAKSI-000100</td>\n",
       "      <td>2021-06-06</td>\n",
       "      <td>PELANGGAN-0003</td>\n",
       "      <td>BARANG-0008</td>\n",
       "      <td>8</td>\n",
       "      <td>120000</td>\n",
       "    </tr>\n",
       "    <tr>\n",
       "      <th>4</th>\n",
       "      <td>TRANSAKSI-0001000</td>\n",
       "      <td>2023-01-22</td>\n",
       "      <td>PELANGGAN-0008</td>\n",
       "      <td>BARANG-0001</td>\n",
       "      <td>13</td>\n",
       "      <td>91000</td>\n",
       "    </tr>\n",
       "    <tr>\n",
       "      <th>...</th>\n",
       "      <td>...</td>\n",
       "      <td>...</td>\n",
       "      <td>...</td>\n",
       "      <td>...</td>\n",
       "      <td>...</td>\n",
       "      <td>...</td>\n",
       "    </tr>\n",
       "    <tr>\n",
       "      <th>9995</th>\n",
       "      <td>TRANSAKSI-0009995</td>\n",
       "      <td>2019-04-14</td>\n",
       "      <td>PELANGGAN-0002</td>\n",
       "      <td>BARANG-0003</td>\n",
       "      <td>5</td>\n",
       "      <td>50000</td>\n",
       "    </tr>\n",
       "    <tr>\n",
       "      <th>9996</th>\n",
       "      <td>TRANSAKSI-0009996</td>\n",
       "      <td>2018-07-05</td>\n",
       "      <td>PELANGGAN-0003</td>\n",
       "      <td>BARANG-0005</td>\n",
       "      <td>5</td>\n",
       "      <td>20000</td>\n",
       "    </tr>\n",
       "    <tr>\n",
       "      <th>9997</th>\n",
       "      <td>TRANSAKSI-0009997</td>\n",
       "      <td>2021-08-19</td>\n",
       "      <td>PELANGGAN-0005</td>\n",
       "      <td>BARANG-0007</td>\n",
       "      <td>14</td>\n",
       "      <td>280000</td>\n",
       "    </tr>\n",
       "    <tr>\n",
       "      <th>9998</th>\n",
       "      <td>TRANSAKSI-0009998</td>\n",
       "      <td>2018-02-04</td>\n",
       "      <td>PELANGGAN-0000</td>\n",
       "      <td>BARANG-0001</td>\n",
       "      <td>14</td>\n",
       "      <td>98000</td>\n",
       "    </tr>\n",
       "    <tr>\n",
       "      <th>9999</th>\n",
       "      <td>TRANSAKSI-0009999</td>\n",
       "      <td>2022-05-10</td>\n",
       "      <td>PELANGGAN-0007</td>\n",
       "      <td>BARANG-0007</td>\n",
       "      <td>11</td>\n",
       "      <td>220000</td>\n",
       "    </tr>\n",
       "  </tbody>\n",
       "</table>\n",
       "<p>10000 rows × 6 columns</p>\n",
       "</div>"
      ],
      "text/plain": [
       "           id_transaksi tanggal_transaksi    id_pelanggan    id_barang  \\\n",
       "0        TRANSAKSI-0000        2020-09-22  PELANGGAN-0004  BARANG-0007   \n",
       "1        TRANSAKSI-0001        2019-08-12  PELANGGAN-0003  BARANG-0000   \n",
       "2       TRANSAKSI-00010        2019-08-22  PELANGGAN-0009  BARANG-0002   \n",
       "3      TRANSAKSI-000100        2021-06-06  PELANGGAN-0003  BARANG-0008   \n",
       "4     TRANSAKSI-0001000        2023-01-22  PELANGGAN-0008  BARANG-0001   \n",
       "...                 ...               ...             ...          ...   \n",
       "9995  TRANSAKSI-0009995        2019-04-14  PELANGGAN-0002  BARANG-0003   \n",
       "9996  TRANSAKSI-0009996        2018-07-05  PELANGGAN-0003  BARANG-0005   \n",
       "9997  TRANSAKSI-0009997        2021-08-19  PELANGGAN-0005  BARANG-0007   \n",
       "9998  TRANSAKSI-0009998        2018-02-04  PELANGGAN-0000  BARANG-0001   \n",
       "9999  TRANSAKSI-0009999        2022-05-10  PELANGGAN-0007  BARANG-0007   \n",
       "\n",
       "      jumlah_pembelian  total_harga  \n",
       "0                    4        80000  \n",
       "1                    6        72000  \n",
       "2                   18        90000  \n",
       "3                    8       120000  \n",
       "4                   13        91000  \n",
       "...                ...          ...  \n",
       "9995                 5        50000  \n",
       "9996                 5        20000  \n",
       "9997                14       280000  \n",
       "9998                14        98000  \n",
       "9999                11       220000  \n",
       "\n",
       "[10000 rows x 6 columns]"
      ]
     },
     "execution_count": 34,
     "metadata": {},
     "output_type": "execute_result"
    }
   ],
   "source": [
    "query = '''\n",
    "\n",
    "    SELECT * FROM transaksi\n",
    "    \n",
    "'''\n",
    "\n",
    "pd.read_sql(query, db)"
   ]
  }
 ],
 "metadata": {
  "kernelspec": {
   "display_name": "Python 3 (ipykernel)",
   "language": "python",
   "name": "python3"
  },
  "language_info": {
   "codemirror_mode": {
    "name": "ipython",
    "version": 3
   },
   "file_extension": ".py",
   "mimetype": "text/x-python",
   "name": "python",
   "nbconvert_exporter": "python",
   "pygments_lexer": "ipython3",
   "version": "3.11.8"
  }
 },
 "nbformat": 4,
 "nbformat_minor": 5
}

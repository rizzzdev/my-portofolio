{
  "cells": [
    {
      "cell_type": "markdown",
      "metadata": {
        "id": "sXm1QU1c5vLt"
      },
      "source": [
        "# Assignment Chapter 3 - Machine Learning\n"
      ]
    },
    {
      "cell_type": "markdown",
      "metadata": {
        "id": "zJIiAGWr7trs"
      },
      "source": [
        "## Assignment Outcomes\n",
        "Participants can understand about machine learning and its applications.\n",
        "Participants are able to understand the concept of machine learning (supervised and unsupervised) and is able to perform various machine learning models in solving a data science problem.\n",
        "Participants are able to decipher insights and decide the feature importance from models that they created.\n",
        "Participants are able to understand the concept of machine learning (supervised and unsupervised) and is able to perform various machine learning models in solving a data science problem.\n",
        "Participants are able to boost their model evaluation through hyperparameter tuning & bootstrapping.\n",
        "Participants are able to use metric evaluation for supervised learning to diagnose supervised learning model performance.\n",
        "\n",
        "## Questions\n",
        "Berdasarkan dataset yang telah kalian pilih pada Assignment 2:\n",
        "1. Peserta mampu melakukan determinasi machine learning model mana yang relevan sesuai dengan dataset yang telah dipilih dengan problem understanding yang telah dilakukan sebelumnya.\n",
        "2. Peserta mampu menyajikan alasan penggunaan machine learning model pada poin 1.\n",
        "3. Peserta dapat melakukan eksekusi coding machine learning model yang telah ditentukan pada poin 1 dengan tepat sesuai urutan yang tepat.\n",
        "4. Peserta mampu menerapkan cross-validation basic dari machine learning model yang telah dibuat sebelumnya.\n",
        "5. Peserta dapat menjelaskan hasil dari cross-validation basic yang telah dihasilkan sebelumnya pada poin 4.\n",
        "6. Peserta mampu menerapkan learning curves dari machine learning model yang telah dibuat sebelumnya serta membuat visualisasi hasil dari learning curves yang dihasilkan.\n",
        "7. Peserta dapat menjelaskan hasil dari visualisasi learning curves yang telah dihasilkan sebelumnya pada poin 6.\n",
        "8. Peserta mampu memperbaiki akurasi machine learning modul yang telah dibuat menggunakan hyperparameter tuning dan juga bootstrapping, jika ada.\n",
        "9. Peserta dapat mengukur model yang dibuat dengan metric evaluation yang sesuai dengan machine learning model yang telah dibuat sebelumnya dan yang terbaik untuk menyelesaikan masalah.\n",
        "10. Peserta dapat memberikan interpretasi dari hasil metric evaluation serta alasan pemilihan metric yang dipilih pada poin 9."
      ]
    },
    {
      "cell_type": "markdown",
      "metadata": {
        "id": "aHvLUzNq7jfX"
      },
      "source": [
        "# Penyelesaian Assignment\n",
        "\n",
        "Sebelumnya telah dipilih dataset yang digunakan yaitu dataset `Housing Price`. Dataset tersebut merupakan dataset yang digunakan untuk kasus Regression karena memiliki data target bertipe numerik (continuous). Maka dari itu, di sini akan dilakukan proses Regression dengan dataset tersebut menggunakan algoritma untuk kasus Regression. Sebagai algoritma utama, di sini akan menggunakan algoritma K-Neighbors Regressor karena algoritma ini mudah digunakan, cara kerjanya mudah dipahami (memprediksi nilai target dengan cara melihat jarak data dengan tetangga terdekat), dan waktu perhitungannya relatif cepat. Selain algoritma utama, disini juga akan digunakan dua algoritma lain yaitu Linear Regression dan Random Forest Regressor sebagai algoritma untuk hyperparameter tuning. Beberapa hal yang akan dilakukan adalah:\n",
        "- Import Modules dan Load Dataset\n",
        "- Data Preprocessing\n",
        "- Modelling dengan Linear Regression\n",
        "- Mengevaluasi Performa Model\n",
        "- Upaya Meningkatkan Performa Model\n",
        "- Mengevaluasi Kemabli Performa Model"
      ]
    },
    {
      "cell_type": "markdown",
      "metadata": {
        "id": "8K-O03Kb787r"
      },
      "source": [
        "## Import Modules dan Load Dataset\n",
        "\n",
        "Hal pertama yang akan dilakukan adalah meng-import beberapa modules dan me-load dataset yang akan digunakan."
      ]
    },
    {
      "cell_type": "markdown",
      "metadata": {
        "id": "h7R2wbbCYSdQ"
      },
      "source": [
        "Beberapa modules yang akan digunakan adalah:\n",
        "- pandas, untuk me-load dan mengolah dataset\n",
        "- numpy, untuk melakukan operasi matematika dan transformasi data\n",
        "- seaborn & pyplot, untuk melakukan visualisasi data\n",
        "- LabelEncoder, untuk melakukan encoding terhadap data kategorik\n",
        "- MinMaxScaler, untuk melakukan normalization terhadap data numerik\n",
        "- train_test_split, untuk memisahkan dataset menjadi training dan testing data\n",
        "- LinearRegression, sebagai algoritma utama untuk melakukan proses Regression\n",
        "- KNeighborsRegressor & RandomForestRegressor sebagai algoritma untuk hyperparameter tuning\n",
        "- cross_val_score, ntuk melakukan cross validation\n",
        "- mean_absolute_error & accuracy_score, sebagai media untuk melakukan evaluasi performa model\n",
        "- GridSearchCV & Pipeline, untuk melakukan hyperparameter tuning"
      ]
    },
    {
      "cell_type": "code",
      "execution_count": 34,
      "metadata": {
        "id": "5XQhqHyV57CY"
      },
      "outputs": [],
      "source": [
        "import pandas as pd\n",
        "import numpy as np\n",
        "import seaborn as sb\n",
        "import matplotlib.pyplot as plt\n",
        "from sklearn.preprocessing import LabelEncoder, MinMaxScaler\n",
        "from sklearn.model_selection import train_test_split, cross_val_score, GridSearchCV\n",
        "from sklearn.linear_model import LinearRegression\n",
        "from sklearn.neighbors import KNeighborsRegressor\n",
        "from sklearn.ensemble import RandomForestRegressor\n",
        "from sklearn.metrics import mean_absolute_error, r2_score\n",
        "from sklearn.pipeline import Pipeline"
      ]
    },
    {
      "cell_type": "markdown",
      "metadata": {
        "id": "UBIpDkg9YSdT"
      },
      "source": [
        "Sedangkan dataset yang akan digunakan adalah `Dataset Housing Price` yang sebelumnya telah digunakan untuk Data Preprocessing. Kolom `Id` pada dataset tidak akan digunakan dalam proses Regression, sehingga kolom tersebut akan dibuang (dropped). Dataset akan di-load menggunakan pandas dengan variable `df` dan akan dibuat dataset backup dengan variable `df_backup`."
      ]
    },
    {
      "cell_type": "code",
      "execution_count": 35,
      "metadata": {
        "id": "cXgw51xJ8Wgf"
      },
      "outputs": [],
      "source": [
        "df = pd.read_csv(\"https://raw.githubusercontent.com/rizzzmaooo05/my-portofolio/main/msib-startup-campus/dataset/housing-price/train.csv\")\n",
        "df.drop(columns = 'Id', inplace = True)\n",
        "\n",
        "df_backup = df.copy(deep = True)"
      ]
    },
    {
      "cell_type": "markdown",
      "metadata": {
        "id": "bYcgaAAoYSdT"
      },
      "source": [
        "Untuk melihat sekilas dataset yang digunakan, jalankan perintah di bawah ini."
      ]
    },
    {
      "cell_type": "code",
      "execution_count": 36,
      "metadata": {
        "colab": {
          "base_uri": "https://localhost:8080/",
          "height": 256
        },
        "id": "3OAsmmsuYSdT",
        "outputId": "d530b5a6-9a08-4ccc-cb04-e967d72c4ad0"
      },
      "outputs": [
        {
          "output_type": "execute_result",
          "data": {
            "text/plain": [
              "   MSSubClass MSZoning  LotFrontage  LotArea Street Alley LotShape  \\\n",
              "0          60       RL         65.0     8450   Pave   NaN      Reg   \n",
              "1          20       RL         80.0     9600   Pave   NaN      Reg   \n",
              "2          60       RL         68.0    11250   Pave   NaN      IR1   \n",
              "3          70       RL         60.0     9550   Pave   NaN      IR1   \n",
              "4          60       RL         84.0    14260   Pave   NaN      IR1   \n",
              "\n",
              "  LandContour Utilities LotConfig  ... PoolArea PoolQC Fence MiscFeature  \\\n",
              "0         Lvl    AllPub    Inside  ...        0    NaN   NaN         NaN   \n",
              "1         Lvl    AllPub       FR2  ...        0    NaN   NaN         NaN   \n",
              "2         Lvl    AllPub    Inside  ...        0    NaN   NaN         NaN   \n",
              "3         Lvl    AllPub    Corner  ...        0    NaN   NaN         NaN   \n",
              "4         Lvl    AllPub       FR2  ...        0    NaN   NaN         NaN   \n",
              "\n",
              "  MiscVal MoSold  YrSold  SaleType  SaleCondition  SalePrice  \n",
              "0       0      2    2008        WD         Normal     208500  \n",
              "1       0      5    2007        WD         Normal     181500  \n",
              "2       0      9    2008        WD         Normal     223500  \n",
              "3       0      2    2006        WD        Abnorml     140000  \n",
              "4       0     12    2008        WD         Normal     250000  \n",
              "\n",
              "[5 rows x 80 columns]"
            ],
            "text/html": [
              "\n",
              "  <div id=\"df-045467cb-adc4-4970-b53e-0a5d7dce5a5e\" class=\"colab-df-container\">\n",
              "    <div>\n",
              "<style scoped>\n",
              "    .dataframe tbody tr th:only-of-type {\n",
              "        vertical-align: middle;\n",
              "    }\n",
              "\n",
              "    .dataframe tbody tr th {\n",
              "        vertical-align: top;\n",
              "    }\n",
              "\n",
              "    .dataframe thead th {\n",
              "        text-align: right;\n",
              "    }\n",
              "</style>\n",
              "<table border=\"1\" class=\"dataframe\">\n",
              "  <thead>\n",
              "    <tr style=\"text-align: right;\">\n",
              "      <th></th>\n",
              "      <th>MSSubClass</th>\n",
              "      <th>MSZoning</th>\n",
              "      <th>LotFrontage</th>\n",
              "      <th>LotArea</th>\n",
              "      <th>Street</th>\n",
              "      <th>Alley</th>\n",
              "      <th>LotShape</th>\n",
              "      <th>LandContour</th>\n",
              "      <th>Utilities</th>\n",
              "      <th>LotConfig</th>\n",
              "      <th>...</th>\n",
              "      <th>PoolArea</th>\n",
              "      <th>PoolQC</th>\n",
              "      <th>Fence</th>\n",
              "      <th>MiscFeature</th>\n",
              "      <th>MiscVal</th>\n",
              "      <th>MoSold</th>\n",
              "      <th>YrSold</th>\n",
              "      <th>SaleType</th>\n",
              "      <th>SaleCondition</th>\n",
              "      <th>SalePrice</th>\n",
              "    </tr>\n",
              "  </thead>\n",
              "  <tbody>\n",
              "    <tr>\n",
              "      <th>0</th>\n",
              "      <td>60</td>\n",
              "      <td>RL</td>\n",
              "      <td>65.0</td>\n",
              "      <td>8450</td>\n",
              "      <td>Pave</td>\n",
              "      <td>NaN</td>\n",
              "      <td>Reg</td>\n",
              "      <td>Lvl</td>\n",
              "      <td>AllPub</td>\n",
              "      <td>Inside</td>\n",
              "      <td>...</td>\n",
              "      <td>0</td>\n",
              "      <td>NaN</td>\n",
              "      <td>NaN</td>\n",
              "      <td>NaN</td>\n",
              "      <td>0</td>\n",
              "      <td>2</td>\n",
              "      <td>2008</td>\n",
              "      <td>WD</td>\n",
              "      <td>Normal</td>\n",
              "      <td>208500</td>\n",
              "    </tr>\n",
              "    <tr>\n",
              "      <th>1</th>\n",
              "      <td>20</td>\n",
              "      <td>RL</td>\n",
              "      <td>80.0</td>\n",
              "      <td>9600</td>\n",
              "      <td>Pave</td>\n",
              "      <td>NaN</td>\n",
              "      <td>Reg</td>\n",
              "      <td>Lvl</td>\n",
              "      <td>AllPub</td>\n",
              "      <td>FR2</td>\n",
              "      <td>...</td>\n",
              "      <td>0</td>\n",
              "      <td>NaN</td>\n",
              "      <td>NaN</td>\n",
              "      <td>NaN</td>\n",
              "      <td>0</td>\n",
              "      <td>5</td>\n",
              "      <td>2007</td>\n",
              "      <td>WD</td>\n",
              "      <td>Normal</td>\n",
              "      <td>181500</td>\n",
              "    </tr>\n",
              "    <tr>\n",
              "      <th>2</th>\n",
              "      <td>60</td>\n",
              "      <td>RL</td>\n",
              "      <td>68.0</td>\n",
              "      <td>11250</td>\n",
              "      <td>Pave</td>\n",
              "      <td>NaN</td>\n",
              "      <td>IR1</td>\n",
              "      <td>Lvl</td>\n",
              "      <td>AllPub</td>\n",
              "      <td>Inside</td>\n",
              "      <td>...</td>\n",
              "      <td>0</td>\n",
              "      <td>NaN</td>\n",
              "      <td>NaN</td>\n",
              "      <td>NaN</td>\n",
              "      <td>0</td>\n",
              "      <td>9</td>\n",
              "      <td>2008</td>\n",
              "      <td>WD</td>\n",
              "      <td>Normal</td>\n",
              "      <td>223500</td>\n",
              "    </tr>\n",
              "    <tr>\n",
              "      <th>3</th>\n",
              "      <td>70</td>\n",
              "      <td>RL</td>\n",
              "      <td>60.0</td>\n",
              "      <td>9550</td>\n",
              "      <td>Pave</td>\n",
              "      <td>NaN</td>\n",
              "      <td>IR1</td>\n",
              "      <td>Lvl</td>\n",
              "      <td>AllPub</td>\n",
              "      <td>Corner</td>\n",
              "      <td>...</td>\n",
              "      <td>0</td>\n",
              "      <td>NaN</td>\n",
              "      <td>NaN</td>\n",
              "      <td>NaN</td>\n",
              "      <td>0</td>\n",
              "      <td>2</td>\n",
              "      <td>2006</td>\n",
              "      <td>WD</td>\n",
              "      <td>Abnorml</td>\n",
              "      <td>140000</td>\n",
              "    </tr>\n",
              "    <tr>\n",
              "      <th>4</th>\n",
              "      <td>60</td>\n",
              "      <td>RL</td>\n",
              "      <td>84.0</td>\n",
              "      <td>14260</td>\n",
              "      <td>Pave</td>\n",
              "      <td>NaN</td>\n",
              "      <td>IR1</td>\n",
              "      <td>Lvl</td>\n",
              "      <td>AllPub</td>\n",
              "      <td>FR2</td>\n",
              "      <td>...</td>\n",
              "      <td>0</td>\n",
              "      <td>NaN</td>\n",
              "      <td>NaN</td>\n",
              "      <td>NaN</td>\n",
              "      <td>0</td>\n",
              "      <td>12</td>\n",
              "      <td>2008</td>\n",
              "      <td>WD</td>\n",
              "      <td>Normal</td>\n",
              "      <td>250000</td>\n",
              "    </tr>\n",
              "  </tbody>\n",
              "</table>\n",
              "<p>5 rows × 80 columns</p>\n",
              "</div>\n",
              "    <div class=\"colab-df-buttons\">\n",
              "\n",
              "  <div class=\"colab-df-container\">\n",
              "    <button class=\"colab-df-convert\" onclick=\"convertToInteractive('df-045467cb-adc4-4970-b53e-0a5d7dce5a5e')\"\n",
              "            title=\"Convert this dataframe to an interactive table.\"\n",
              "            style=\"display:none;\">\n",
              "\n",
              "  <svg xmlns=\"http://www.w3.org/2000/svg\" height=\"24px\" viewBox=\"0 -960 960 960\">\n",
              "    <path d=\"M120-120v-720h720v720H120Zm60-500h600v-160H180v160Zm220 220h160v-160H400v160Zm0 220h160v-160H400v160ZM180-400h160v-160H180v160Zm440 0h160v-160H620v160ZM180-180h160v-160H180v160Zm440 0h160v-160H620v160Z\"/>\n",
              "  </svg>\n",
              "    </button>\n",
              "\n",
              "  <style>\n",
              "    .colab-df-container {\n",
              "      display:flex;\n",
              "      gap: 12px;\n",
              "    }\n",
              "\n",
              "    .colab-df-convert {\n",
              "      background-color: #E8F0FE;\n",
              "      border: none;\n",
              "      border-radius: 50%;\n",
              "      cursor: pointer;\n",
              "      display: none;\n",
              "      fill: #1967D2;\n",
              "      height: 32px;\n",
              "      padding: 0 0 0 0;\n",
              "      width: 32px;\n",
              "    }\n",
              "\n",
              "    .colab-df-convert:hover {\n",
              "      background-color: #E2EBFA;\n",
              "      box-shadow: 0px 1px 2px rgba(60, 64, 67, 0.3), 0px 1px 3px 1px rgba(60, 64, 67, 0.15);\n",
              "      fill: #174EA6;\n",
              "    }\n",
              "\n",
              "    .colab-df-buttons div {\n",
              "      margin-bottom: 4px;\n",
              "    }\n",
              "\n",
              "    [theme=dark] .colab-df-convert {\n",
              "      background-color: #3B4455;\n",
              "      fill: #D2E3FC;\n",
              "    }\n",
              "\n",
              "    [theme=dark] .colab-df-convert:hover {\n",
              "      background-color: #434B5C;\n",
              "      box-shadow: 0px 1px 3px 1px rgba(0, 0, 0, 0.15);\n",
              "      filter: drop-shadow(0px 1px 2px rgba(0, 0, 0, 0.3));\n",
              "      fill: #FFFFFF;\n",
              "    }\n",
              "  </style>\n",
              "\n",
              "    <script>\n",
              "      const buttonEl =\n",
              "        document.querySelector('#df-045467cb-adc4-4970-b53e-0a5d7dce5a5e button.colab-df-convert');\n",
              "      buttonEl.style.display =\n",
              "        google.colab.kernel.accessAllowed ? 'block' : 'none';\n",
              "\n",
              "      async function convertToInteractive(key) {\n",
              "        const element = document.querySelector('#df-045467cb-adc4-4970-b53e-0a5d7dce5a5e');\n",
              "        const dataTable =\n",
              "          await google.colab.kernel.invokeFunction('convertToInteractive',\n",
              "                                                    [key], {});\n",
              "        if (!dataTable) return;\n",
              "\n",
              "        const docLinkHtml = 'Like what you see? Visit the ' +\n",
              "          '<a target=\"_blank\" href=https://colab.research.google.com/notebooks/data_table.ipynb>data table notebook</a>'\n",
              "          + ' to learn more about interactive tables.';\n",
              "        element.innerHTML = '';\n",
              "        dataTable['output_type'] = 'display_data';\n",
              "        await google.colab.output.renderOutput(dataTable, element);\n",
              "        const docLink = document.createElement('div');\n",
              "        docLink.innerHTML = docLinkHtml;\n",
              "        element.appendChild(docLink);\n",
              "      }\n",
              "    </script>\n",
              "  </div>\n",
              "\n",
              "\n",
              "<div id=\"df-9782546f-0dfa-4775-93ce-22821396fe8e\">\n",
              "  <button class=\"colab-df-quickchart\" onclick=\"quickchart('df-9782546f-0dfa-4775-93ce-22821396fe8e')\"\n",
              "            title=\"Suggest charts\"\n",
              "            style=\"display:none;\">\n",
              "\n",
              "<svg xmlns=\"http://www.w3.org/2000/svg\" height=\"24px\"viewBox=\"0 0 24 24\"\n",
              "     width=\"24px\">\n",
              "    <g>\n",
              "        <path d=\"M19 3H5c-1.1 0-2 .9-2 2v14c0 1.1.9 2 2 2h14c1.1 0 2-.9 2-2V5c0-1.1-.9-2-2-2zM9 17H7v-7h2v7zm4 0h-2V7h2v10zm4 0h-2v-4h2v4z\"/>\n",
              "    </g>\n",
              "</svg>\n",
              "  </button>\n",
              "\n",
              "<style>\n",
              "  .colab-df-quickchart {\n",
              "      --bg-color: #E8F0FE;\n",
              "      --fill-color: #1967D2;\n",
              "      --hover-bg-color: #E2EBFA;\n",
              "      --hover-fill-color: #174EA6;\n",
              "      --disabled-fill-color: #AAA;\n",
              "      --disabled-bg-color: #DDD;\n",
              "  }\n",
              "\n",
              "  [theme=dark] .colab-df-quickchart {\n",
              "      --bg-color: #3B4455;\n",
              "      --fill-color: #D2E3FC;\n",
              "      --hover-bg-color: #434B5C;\n",
              "      --hover-fill-color: #FFFFFF;\n",
              "      --disabled-bg-color: #3B4455;\n",
              "      --disabled-fill-color: #666;\n",
              "  }\n",
              "\n",
              "  .colab-df-quickchart {\n",
              "    background-color: var(--bg-color);\n",
              "    border: none;\n",
              "    border-radius: 50%;\n",
              "    cursor: pointer;\n",
              "    display: none;\n",
              "    fill: var(--fill-color);\n",
              "    height: 32px;\n",
              "    padding: 0;\n",
              "    width: 32px;\n",
              "  }\n",
              "\n",
              "  .colab-df-quickchart:hover {\n",
              "    background-color: var(--hover-bg-color);\n",
              "    box-shadow: 0 1px 2px rgba(60, 64, 67, 0.3), 0 1px 3px 1px rgba(60, 64, 67, 0.15);\n",
              "    fill: var(--button-hover-fill-color);\n",
              "  }\n",
              "\n",
              "  .colab-df-quickchart-complete:disabled,\n",
              "  .colab-df-quickchart-complete:disabled:hover {\n",
              "    background-color: var(--disabled-bg-color);\n",
              "    fill: var(--disabled-fill-color);\n",
              "    box-shadow: none;\n",
              "  }\n",
              "\n",
              "  .colab-df-spinner {\n",
              "    border: 2px solid var(--fill-color);\n",
              "    border-color: transparent;\n",
              "    border-bottom-color: var(--fill-color);\n",
              "    animation:\n",
              "      spin 1s steps(1) infinite;\n",
              "  }\n",
              "\n",
              "  @keyframes spin {\n",
              "    0% {\n",
              "      border-color: transparent;\n",
              "      border-bottom-color: var(--fill-color);\n",
              "      border-left-color: var(--fill-color);\n",
              "    }\n",
              "    20% {\n",
              "      border-color: transparent;\n",
              "      border-left-color: var(--fill-color);\n",
              "      border-top-color: var(--fill-color);\n",
              "    }\n",
              "    30% {\n",
              "      border-color: transparent;\n",
              "      border-left-color: var(--fill-color);\n",
              "      border-top-color: var(--fill-color);\n",
              "      border-right-color: var(--fill-color);\n",
              "    }\n",
              "    40% {\n",
              "      border-color: transparent;\n",
              "      border-right-color: var(--fill-color);\n",
              "      border-top-color: var(--fill-color);\n",
              "    }\n",
              "    60% {\n",
              "      border-color: transparent;\n",
              "      border-right-color: var(--fill-color);\n",
              "    }\n",
              "    80% {\n",
              "      border-color: transparent;\n",
              "      border-right-color: var(--fill-color);\n",
              "      border-bottom-color: var(--fill-color);\n",
              "    }\n",
              "    90% {\n",
              "      border-color: transparent;\n",
              "      border-bottom-color: var(--fill-color);\n",
              "    }\n",
              "  }\n",
              "</style>\n",
              "\n",
              "  <script>\n",
              "    async function quickchart(key) {\n",
              "      const quickchartButtonEl =\n",
              "        document.querySelector('#' + key + ' button');\n",
              "      quickchartButtonEl.disabled = true;  // To prevent multiple clicks.\n",
              "      quickchartButtonEl.classList.add('colab-df-spinner');\n",
              "      try {\n",
              "        const charts = await google.colab.kernel.invokeFunction(\n",
              "            'suggestCharts', [key], {});\n",
              "      } catch (error) {\n",
              "        console.error('Error during call to suggestCharts:', error);\n",
              "      }\n",
              "      quickchartButtonEl.classList.remove('colab-df-spinner');\n",
              "      quickchartButtonEl.classList.add('colab-df-quickchart-complete');\n",
              "    }\n",
              "    (() => {\n",
              "      let quickchartButtonEl =\n",
              "        document.querySelector('#df-9782546f-0dfa-4775-93ce-22821396fe8e button');\n",
              "      quickchartButtonEl.style.display =\n",
              "        google.colab.kernel.accessAllowed ? 'block' : 'none';\n",
              "    })();\n",
              "  </script>\n",
              "</div>\n",
              "    </div>\n",
              "  </div>\n"
            ],
            "application/vnd.google.colaboratory.intrinsic+json": {
              "type": "dataframe",
              "variable_name": "df"
            }
          },
          "metadata": {},
          "execution_count": 36
        }
      ],
      "source": [
        "df.head()"
      ]
    },
    {
      "cell_type": "markdown",
      "metadata": {
        "id": "aKCABaKIYSdU"
      },
      "source": [
        "## Data Preprocessing\n",
        "\n",
        "Proses selanjutnya yaitu data preprocessing. Dataset yang telah di-load perlu melalui serangkaian proses terlebih dahulu sebelum digunakan untuk proses Regression. Serangkaian proses yang akan dilakukan adalah:\n",
        "- Deteksi dan Handle Missing Values\n",
        "- Deteksi dan Handle Outlier\n",
        "- Deteksi dan Handle Duplicated Data\n",
        "- Encoding Data Kategorik\n",
        "- Normalization Data Numerik\n",
        "- Splitting Training dan Testing Data"
      ]
    },
    {
      "cell_type": "markdown",
      "metadata": {
        "id": "iaoawNO-YSdU"
      },
      "source": [
        "### Deteksi dan Handling Missing Values\n",
        "\n",
        "Tahap pertama yang perlu dilakukan adalah melakukan deteksi atau pengecekkan dan peng-handle-an missing values terhadap dataset. Missing values perlu dihandle karena dapat berpengaruh terhadap performa model Machine Learning. Missing Values dapat dihandle dalam dua cara, yaitu dengan membuang kolom yang mengandung missing values (dropping) atau mengisi kolom kolom yang mengandung missing values dengan teknik tertentu (imputation).\n"
      ]
    },
    {
      "cell_type": "markdown",
      "metadata": {
        "id": "lImB7_FSYSdV"
      },
      "source": [
        "Pertama-tama jalankan `df.info()`."
      ]
    },
    {
      "cell_type": "code",
      "execution_count": 37,
      "metadata": {
        "colab": {
          "base_uri": "https://localhost:8080/"
        },
        "id": "Z63EGrt3YSdV",
        "outputId": "3481965b-2ec1-403b-ceea-f8cd593dab94"
      },
      "outputs": [
        {
          "output_type": "stream",
          "name": "stdout",
          "text": [
            "<class 'pandas.core.frame.DataFrame'>\n",
            "RangeIndex: 1460 entries, 0 to 1459\n",
            "Data columns (total 80 columns):\n",
            " #   Column         Non-Null Count  Dtype  \n",
            "---  ------         --------------  -----  \n",
            " 0   MSSubClass     1460 non-null   int64  \n",
            " 1   MSZoning       1460 non-null   object \n",
            " 2   LotFrontage    1201 non-null   float64\n",
            " 3   LotArea        1460 non-null   int64  \n",
            " 4   Street         1460 non-null   object \n",
            " 5   Alley          91 non-null     object \n",
            " 6   LotShape       1460 non-null   object \n",
            " 7   LandContour    1460 non-null   object \n",
            " 8   Utilities      1460 non-null   object \n",
            " 9   LotConfig      1460 non-null   object \n",
            " 10  LandSlope      1460 non-null   object \n",
            " 11  Neighborhood   1460 non-null   object \n",
            " 12  Condition1     1460 non-null   object \n",
            " 13  Condition2     1460 non-null   object \n",
            " 14  BldgType       1460 non-null   object \n",
            " 15  HouseStyle     1460 non-null   object \n",
            " 16  OverallQual    1460 non-null   int64  \n",
            " 17  OverallCond    1460 non-null   int64  \n",
            " 18  YearBuilt      1460 non-null   int64  \n",
            " 19  YearRemodAdd   1460 non-null   int64  \n",
            " 20  RoofStyle      1460 non-null   object \n",
            " 21  RoofMatl       1460 non-null   object \n",
            " 22  Exterior1st    1460 non-null   object \n",
            " 23  Exterior2nd    1460 non-null   object \n",
            " 24  MasVnrType     1452 non-null   object \n",
            " 25  MasVnrArea     1452 non-null   float64\n",
            " 26  ExterQual      1460 non-null   object \n",
            " 27  ExterCond      1460 non-null   object \n",
            " 28  Foundation     1460 non-null   object \n",
            " 29  BsmtQual       1423 non-null   object \n",
            " 30  BsmtCond       1423 non-null   object \n",
            " 31  BsmtExposure   1422 non-null   object \n",
            " 32  BsmtFinType1   1423 non-null   object \n",
            " 33  BsmtFinSF1     1460 non-null   int64  \n",
            " 34  BsmtFinType2   1422 non-null   object \n",
            " 35  BsmtFinSF2     1460 non-null   int64  \n",
            " 36  BsmtUnfSF      1460 non-null   int64  \n",
            " 37  TotalBsmtSF    1460 non-null   int64  \n",
            " 38  Heating        1460 non-null   object \n",
            " 39  HeatingQC      1460 non-null   object \n",
            " 40  CentralAir     1460 non-null   object \n",
            " 41  Electrical     1459 non-null   object \n",
            " 42  1stFlrSF       1460 non-null   int64  \n",
            " 43  2ndFlrSF       1460 non-null   int64  \n",
            " 44  LowQualFinSF   1460 non-null   int64  \n",
            " 45  GrLivArea      1460 non-null   int64  \n",
            " 46  BsmtFullBath   1460 non-null   int64  \n",
            " 47  BsmtHalfBath   1460 non-null   int64  \n",
            " 48  FullBath       1460 non-null   int64  \n",
            " 49  HalfBath       1460 non-null   int64  \n",
            " 50  BedroomAbvGr   1460 non-null   int64  \n",
            " 51  KitchenAbvGr   1460 non-null   int64  \n",
            " 52  KitchenQual    1460 non-null   object \n",
            " 53  TotRmsAbvGrd   1460 non-null   int64  \n",
            " 54  Functional     1460 non-null   object \n",
            " 55  Fireplaces     1460 non-null   int64  \n",
            " 56  FireplaceQu    770 non-null    object \n",
            " 57  GarageType     1379 non-null   object \n",
            " 58  GarageYrBlt    1379 non-null   float64\n",
            " 59  GarageFinish   1379 non-null   object \n",
            " 60  GarageCars     1460 non-null   int64  \n",
            " 61  GarageArea     1460 non-null   int64  \n",
            " 62  GarageQual     1379 non-null   object \n",
            " 63  GarageCond     1379 non-null   object \n",
            " 64  PavedDrive     1460 non-null   object \n",
            " 65  WoodDeckSF     1460 non-null   int64  \n",
            " 66  OpenPorchSF    1460 non-null   int64  \n",
            " 67  EnclosedPorch  1460 non-null   int64  \n",
            " 68  3SsnPorch      1460 non-null   int64  \n",
            " 69  ScreenPorch    1460 non-null   int64  \n",
            " 70  PoolArea       1460 non-null   int64  \n",
            " 71  PoolQC         7 non-null      object \n",
            " 72  Fence          281 non-null    object \n",
            " 73  MiscFeature    54 non-null     object \n",
            " 74  MiscVal        1460 non-null   int64  \n",
            " 75  MoSold         1460 non-null   int64  \n",
            " 76  YrSold         1460 non-null   int64  \n",
            " 77  SaleType       1460 non-null   object \n",
            " 78  SaleCondition  1460 non-null   object \n",
            " 79  SalePrice      1460 non-null   int64  \n",
            "dtypes: float64(3), int64(34), object(43)\n",
            "memory usage: 912.6+ KB\n"
          ]
        }
      ],
      "source": [
        "df.info()"
      ]
    },
    {
      "cell_type": "markdown",
      "metadata": {
        "id": "yGNdkx_lYSdV"
      },
      "source": [
        "Dapat terlihat bahwa jumlah entri data dalam dataset tersebut adalah 1460, namun terdapat beberapa kolom yang jumlah entri data-nya kurang dari 1460. Ini menandakan adanya missing values pada beberapa kolom. Missing values ini akan dihandle di proses selanjutnya di bawah ini.\n",
        "\n",
        "Missing values perlu dihandle karena dapat berpengaruh terhadap performa model Machine Learning. Missing Values dapat dihandle dalam dua cara, yaitu dengan membuang kolom yang mengandung missing values (dropping) atau mengisi kolom kolom yang mengandung missing values dengan teknik tertentu (imputation).\n",
        "\n",
        "Terlihat bahwa terdapat kolom yang mengandung missing values. Seperti yang sempat disinggung di atas, cara meng-handle missing values ada dua, yaitu dropping dan imputation. Kedua cara tersebut digunakan untuk kondisi yang berbeda.\n",
        "\n",
        "Agar suatu features dalam dataset dapat digunakan untuk Machine Learning, features tersebut haruslah memiliki nilai, tidak kosong. Dari informasi yang didapat dari mengeksekusi `df.info()` nampak bahwa beberapa features hanya sedikit mengandung missing values, features ini masih mungkin untuk digunakan dengan cara imputation. Namun, ada juga beberapa features yang mengandung missing values yang sangat ekstrem, features ini sebaiknya di-handle dengan dropping.\n",
        "\n",
        "Misalnya di sini diterapkan syarat ambang batas agar suatu features dapat digunakan untuk proses selanjutnya, yaitu mengandung missing values kurang dari 20% dri keseluruhan data (sekitar 292 data). Features yang tidak memenuhi syarat ambang batas akan didrop. Untuk melakukan proses tersebut, dapat mengeksekusi perintah berikut ini."
      ]
    },
    {
      "cell_type": "code",
      "execution_count": 38,
      "metadata": {
        "id": "WGUulMQKYSdV"
      },
      "outputs": [],
      "source": [
        "for col in df.columns:\n",
        "  if df[col].isna().sum() >= 0.2 * df.shape[0]:\n",
        "    df.drop(columns = col, inplace = True)"
      ]
    },
    {
      "cell_type": "markdown",
      "metadata": {
        "id": "MkIhSdMZYSdV"
      },
      "source": [
        "Setelah dilakukan proses dropping features, features yang tersisa dapat dicek dengan mengeksekusi `df.shape[1]`."
      ]
    },
    {
      "cell_type": "code",
      "execution_count": 39,
      "metadata": {
        "colab": {
          "base_uri": "https://localhost:8080/"
        },
        "id": "SquiZJaEYSdW",
        "outputId": "131b083c-30a9-4bf7-d984-f366508eab41"
      },
      "outputs": [
        {
          "output_type": "execute_result",
          "data": {
            "text/plain": [
              "75"
            ]
          },
          "metadata": {},
          "execution_count": 39
        }
      ],
      "source": [
        "df.shape[1]"
      ]
    },
    {
      "cell_type": "markdown",
      "metadata": {
        "id": "u3P380oZYSdW"
      },
      "source": [
        "Terlihat features yang tersisa yaitu 74. Selanjutnya features yang masih mengandung missing values akan di-impute.\n",
        "- Untuk data numerik, terdapat beberapa teknik imputation, salah satunya adalah teknik interpolate. Kelebihan teknik ini adalah nilai yang dihasilkan tidak seragam dan bergantung pada data sebelum atau sesudahnya, sehingga distribusi data bisa lebih merata, tidak bertumpuk pada suatu nilai.\n",
        "- Untuk data kategorik, akan di-impute dengan menggunakan modus (mode).\n",
        "\n",
        "Untuk melakukannya dapat mengeksekusi perintah berikut ini.\n"
      ]
    },
    {
      "cell_type": "code",
      "execution_count": 40,
      "metadata": {
        "id": "gEuDWPfZYSdW"
      },
      "outputs": [],
      "source": [
        "num_cols = df.select_dtypes(include = ['int64', 'float64']).drop(columns = ['MSSubClass', 'OverallQual', 'OverallCond']).columns\n",
        "cat_cols = df.drop(columns = num_cols).columns\n",
        "\n",
        "# imputation for categorical data\n",
        "for col in cat_cols:\n",
        "  df[col] = df[col].fillna(df[col].mode()[0])\n",
        "\n",
        "# imputation for numerical data\n",
        "for col in num_cols:\n",
        "  df[col] = df[col].fillna(df[col].interpolate())"
      ]
    },
    {
      "cell_type": "markdown",
      "metadata": {
        "id": "zVp3lz-AYSdW"
      },
      "source": [
        "Dengan ini, proses handling missing values telah selesai. Untuk mengcek apakah proses handling ini berhasil, jalankan kembali `df.info()`."
      ]
    },
    {
      "cell_type": "code",
      "execution_count": 41,
      "metadata": {
        "colab": {
          "base_uri": "https://localhost:8080/"
        },
        "id": "rpg0-6HrYSdW",
        "outputId": "d73d0d59-65a7-4e6d-ba81-a53633cdacc0"
      },
      "outputs": [
        {
          "output_type": "stream",
          "name": "stdout",
          "text": [
            "<class 'pandas.core.frame.DataFrame'>\n",
            "RangeIndex: 1460 entries, 0 to 1459\n",
            "Data columns (total 75 columns):\n",
            " #   Column         Non-Null Count  Dtype  \n",
            "---  ------         --------------  -----  \n",
            " 0   MSSubClass     1460 non-null   int64  \n",
            " 1   MSZoning       1460 non-null   object \n",
            " 2   LotFrontage    1460 non-null   float64\n",
            " 3   LotArea        1460 non-null   int64  \n",
            " 4   Street         1460 non-null   object \n",
            " 5   LotShape       1460 non-null   object \n",
            " 6   LandContour    1460 non-null   object \n",
            " 7   Utilities      1460 non-null   object \n",
            " 8   LotConfig      1460 non-null   object \n",
            " 9   LandSlope      1460 non-null   object \n",
            " 10  Neighborhood   1460 non-null   object \n",
            " 11  Condition1     1460 non-null   object \n",
            " 12  Condition2     1460 non-null   object \n",
            " 13  BldgType       1460 non-null   object \n",
            " 14  HouseStyle     1460 non-null   object \n",
            " 15  OverallQual    1460 non-null   int64  \n",
            " 16  OverallCond    1460 non-null   int64  \n",
            " 17  YearBuilt      1460 non-null   int64  \n",
            " 18  YearRemodAdd   1460 non-null   int64  \n",
            " 19  RoofStyle      1460 non-null   object \n",
            " 20  RoofMatl       1460 non-null   object \n",
            " 21  Exterior1st    1460 non-null   object \n",
            " 22  Exterior2nd    1460 non-null   object \n",
            " 23  MasVnrType     1460 non-null   object \n",
            " 24  MasVnrArea     1460 non-null   float64\n",
            " 25  ExterQual      1460 non-null   object \n",
            " 26  ExterCond      1460 non-null   object \n",
            " 27  Foundation     1460 non-null   object \n",
            " 28  BsmtQual       1460 non-null   object \n",
            " 29  BsmtCond       1460 non-null   object \n",
            " 30  BsmtExposure   1460 non-null   object \n",
            " 31  BsmtFinType1   1460 non-null   object \n",
            " 32  BsmtFinSF1     1460 non-null   int64  \n",
            " 33  BsmtFinType2   1460 non-null   object \n",
            " 34  BsmtFinSF2     1460 non-null   int64  \n",
            " 35  BsmtUnfSF      1460 non-null   int64  \n",
            " 36  TotalBsmtSF    1460 non-null   int64  \n",
            " 37  Heating        1460 non-null   object \n",
            " 38  HeatingQC      1460 non-null   object \n",
            " 39  CentralAir     1460 non-null   object \n",
            " 40  Electrical     1460 non-null   object \n",
            " 41  1stFlrSF       1460 non-null   int64  \n",
            " 42  2ndFlrSF       1460 non-null   int64  \n",
            " 43  LowQualFinSF   1460 non-null   int64  \n",
            " 44  GrLivArea      1460 non-null   int64  \n",
            " 45  BsmtFullBath   1460 non-null   int64  \n",
            " 46  BsmtHalfBath   1460 non-null   int64  \n",
            " 47  FullBath       1460 non-null   int64  \n",
            " 48  HalfBath       1460 non-null   int64  \n",
            " 49  BedroomAbvGr   1460 non-null   int64  \n",
            " 50  KitchenAbvGr   1460 non-null   int64  \n",
            " 51  KitchenQual    1460 non-null   object \n",
            " 52  TotRmsAbvGrd   1460 non-null   int64  \n",
            " 53  Functional     1460 non-null   object \n",
            " 54  Fireplaces     1460 non-null   int64  \n",
            " 55  GarageType     1460 non-null   object \n",
            " 56  GarageYrBlt    1460 non-null   float64\n",
            " 57  GarageFinish   1460 non-null   object \n",
            " 58  GarageCars     1460 non-null   int64  \n",
            " 59  GarageArea     1460 non-null   int64  \n",
            " 60  GarageQual     1460 non-null   object \n",
            " 61  GarageCond     1460 non-null   object \n",
            " 62  PavedDrive     1460 non-null   object \n",
            " 63  WoodDeckSF     1460 non-null   int64  \n",
            " 64  OpenPorchSF    1460 non-null   int64  \n",
            " 65  EnclosedPorch  1460 non-null   int64  \n",
            " 66  3SsnPorch      1460 non-null   int64  \n",
            " 67  ScreenPorch    1460 non-null   int64  \n",
            " 68  PoolArea       1460 non-null   int64  \n",
            " 69  MiscVal        1460 non-null   int64  \n",
            " 70  MoSold         1460 non-null   int64  \n",
            " 71  YrSold         1460 non-null   int64  \n",
            " 72  SaleType       1460 non-null   object \n",
            " 73  SaleCondition  1460 non-null   object \n",
            " 74  SalePrice      1460 non-null   int64  \n",
            "dtypes: float64(3), int64(34), object(38)\n",
            "memory usage: 855.6+ KB\n"
          ]
        }
      ],
      "source": [
        "df.info()"
      ]
    },
    {
      "cell_type": "markdown",
      "metadata": {
        "id": "wAAsuXWvYSdX"
      },
      "source": [
        "Terlihat bahwa seluruh features sudah tidak mengandung missing values yang menandakan bahwa proses handling terhadap missing values telah berhasil."
      ]
    },
    {
      "cell_type": "markdown",
      "metadata": {
        "id": "_6o9W7VRYSdX"
      },
      "source": [
        "### Deteksi dan Handle Outlier\n",
        "\n",
        "Data outlier perlu dihandle karena dapat berpengaruh buruk terhadap performa model Regression. Deteksi dan peng-handle-an terhadap data outlier hanya dilakukan untuk data numerik. Pada dataset yang digunakan, terdapat beberapa data kategorik yang telah di-encode menjadi numerik, yaitu kolom `MSSubClass`, `OverallQual`, dan `OverallCond`. Kolom tersebut tidak akan disertakan dalam proses peng-handle-an outlier. Peng-handle-an data outlier dilakukan dengan cara mengganti data outlier dengan suatu nilai tertentu."
      ]
    },
    {
      "cell_type": "markdown",
      "metadata": {
        "id": "hUis-tSDYSdX"
      },
      "source": [
        "Untuk melakukan deteksi terhadap outlier, dapat dilakukan dengan cara mem-plot data numerik ke dalam boxplot. Data outlier akan terlihat sebagai titik-titik pada boxplot. Untuk melakukannya dapat dengan mengeksekusi perintah berikut ini."
      ]
    },
    {
      "cell_type": "code",
      "execution_count": 42,
      "metadata": {
        "colab": {
          "base_uri": "https://localhost:8080/",
          "height": 465
        },
        "id": "5tqEztWLYSdX",
        "outputId": "63c83f1f-c434-45b8-b241-e1329465ea13"
      },
      "outputs": [
        {
          "output_type": "display_data",
          "data": {
            "text/plain": [
              "<Figure size 700x500 with 35 Axes>"
            ],
            "image/png": "[encoded data removed]"
          },
          "metadata": {}
        }
      ],
      "source": [
        "fig, ax = plt.subplots(7, 5, figsize = (7, 5))\n",
        "for col, ax in zip([col for col in df.columns if col in num_cols], ax.flatten()):\n",
        "    sb.boxplot(data = df, x = col, ax = ax, )"
      ]
    },
    {
      "cell_type": "markdown",
      "metadata": {
        "id": "r3T0wzzJYSdX"
      },
      "source": [
        "Terlihat bahwa terdapat titik-titik pada boxplot di beberapa kolom. Artinya data yang digunakan telah belum bebas dari data outlier. Maka perlu dilakukan peng-handle-an terhadap data outlier. Peng-handle-an dapat dilakukan dengan Inter Quartile Range (IQR).\n",
        "- Batas bawah data adalah Q1 - 1.5 * IQR, data dengan nilai di bawah batas bawah tersebut akan diganti dengan nilai batas bawah.\n",
        "- Batas atas data adalah Q3 + 1.5 * IQR, data dengan nilai di atas batas atas tersebut akan diganti dengan nilai batas atas.\n",
        "\n",
        "Untuk melakukannya, dapat mengeksekusi perintah berikut ini:"
      ]
    },
    {
      "cell_type": "code",
      "execution_count": 43,
      "metadata": {
        "colab": {
          "base_uri": "https://localhost:8080/"
        },
        "id": "gxS1Gop5YSdY",
        "outputId": "0b2a533c-6c49-4540-a02d-92e419a5147f"
      },
      "outputs": [
        {
          "output_type": "stream",
          "name": "stderr",
          "text": [
            "<ipython-input-43-8c650ab8bdcd>:11: SettingWithCopyWarning: \n",
            "A value is trying to be set on a copy of a slice from a DataFrame\n",
            "\n",
            "See the caveats in the documentation: https://pandas.pydata.org/pandas-docs/stable/user_guide/indexing.html#returning-a-view-versus-a-copy\n",
            "  df[col][i] = upper\n",
            "<ipython-input-43-8c650ab8bdcd>:9: SettingWithCopyWarning: \n",
            "A value is trying to be set on a copy of a slice from a DataFrame\n",
            "\n",
            "See the caveats in the documentation: https://pandas.pydata.org/pandas-docs/stable/user_guide/indexing.html#returning-a-view-versus-a-copy\n",
            "  df[col][i] = lower\n"
          ]
        }
      ],
      "source": [
        "for col in [col for col in df.columns if col in num_cols]:\n",
        "    q1 = np.quantile(df[col], 0.25)\n",
        "    q3 = np.quantile(df[col], 0.75)\n",
        "    iqr = q3 - q1\n",
        "    lower = q1 - 1.5  * iqr\n",
        "    upper = q3 + 1.5  * iqr\n",
        "    for i in range(len(df[col])):\n",
        "        if df[col][i] < lower:\n",
        "            df[col][i] = lower\n",
        "        elif df[col][i] > upper:\n",
        "            df[col][i] = upper"
      ]
    },
    {
      "cell_type": "markdown",
      "metadata": {
        "id": "xAOCTYQQYSdY"
      },
      "source": [
        "Untuk mengcek apakah proses handling terhadap outlier berhasil dilakukan, jalankan perintah di bawah ini."
      ]
    },
    {
      "cell_type": "code",
      "execution_count": 44,
      "metadata": {
        "colab": {
          "base_uri": "https://localhost:8080/",
          "height": 465
        },
        "id": "Zpl6HhysYSdY",
        "outputId": "2c67b639-20bc-433e-90d5-9a67c56e6621"
      },
      "outputs": [
        {
          "output_type": "display_data",
          "data": {
            "text/plain": [
              "<Figure size 700x500 with 35 Axes>"
            ],
            "image/png": "[encoded data removed]"
          },
          "metadata": {}
        }
      ],
      "source": [
        "fig, ax = plt.subplots(7, 5, figsize = (7, 5))\n",
        "for col, ax in zip(df_backup.drop(columns = ['MSSubClass', 'OverallQual', 'OverallCond']).select_dtypes(['int', 'float']).columns, ax.flatten()):\n",
        "    sb.boxplot(data = df, x = col, ax = ax, )"
      ]
    },
    {
      "cell_type": "markdown",
      "metadata": {
        "id": "wMehmyreYSdY"
      },
      "source": [
        "### Deteksi dan Handle Duplicated Data\n",
        "\n",
        "Duplicated data juga dapat berpengaruh buruk terhadap performa model Regression sehingga perlu dihandle. Peng-handle-an terhadap duplicated data dilakukan dengan cara membuang baris yang terindikasi sebagai duplicated data."
      ]
    },
    {
      "cell_type": "markdown",
      "metadata": {
        "id": "skR92sFgYSdY"
      },
      "source": [
        "Untuk melakukan deteksi terhadap duplicated data, dapat mengeksekusi perintah berikut ini."
      ]
    },
    {
      "cell_type": "code",
      "execution_count": 45,
      "metadata": {
        "colab": {
          "base_uri": "https://localhost:8080/"
        },
        "id": "E33YpbufYSdZ",
        "outputId": "bb9c17f5-8778-4037-a761-0732d68a936b"
      },
      "outputs": [
        {
          "output_type": "execute_result",
          "data": {
            "text/plain": [
              "False    1460\n",
              "dtype: int64"
            ]
          },
          "metadata": {},
          "execution_count": 45
        }
      ],
      "source": [
        "df.duplicated().value_counts()"
      ]
    },
    {
      "cell_type": "markdown",
      "metadata": {
        "id": "GKUTkzQbYSdZ"
      },
      "source": [
        "Index `False` di atas menyatakan jumlah baris yang tidak terindikasi sebagai duplicated data. Dalam kasus ini, tidak diperlukan peng-handle-an duplicated data."
      ]
    },
    {
      "cell_type": "markdown",
      "metadata": {
        "id": "9l6iQzUPYSdZ"
      },
      "source": [
        "### Encoding Data Kategorik\n",
        "\n",
        "Algoritma Machine Learning hanya dapat memproses data yang bertipe numerik. Oleh karena itu, data dengan tipe kategorik harus dilakukan proses encoding terlebih dahulu untuk mengubah tipe data kategorik tersebut menjadi numerik."
      ]
    },
    {
      "cell_type": "markdown",
      "metadata": {
        "id": "eaKFqU4GYSdZ"
      },
      "source": [
        "Pada kesempatan ini, data kategorik akan diencode dengan Label Encoder. Untuk melakukannya dapat mengeksekusi perintah di bawah ini."
      ]
    },
    {
      "cell_type": "code",
      "execution_count": 46,
      "metadata": {
        "id": "sQ2ujB38YSdZ"
      },
      "outputs": [],
      "source": [
        "encoder = LabelEncoder()\n",
        "for col in [col for col in df.drop(columns = 'SalePrice').columns if col in cat_cols]:\n",
        "    df[col] = encoder.fit_transform(df[col])"
      ]
    },
    {
      "cell_type": "markdown",
      "metadata": {
        "id": "PCKXZcVSYSdZ"
      },
      "source": [
        "Untuk melihat apakah proses encoding berhasil, jalankan perintah berikut ini."
      ]
    },
    {
      "cell_type": "code",
      "execution_count": 47,
      "metadata": {
        "colab": {
          "base_uri": "https://localhost:8080/",
          "height": 256
        },
        "id": "qZ1m3vkRYSda",
        "outputId": "08fe496e-f927-4e45-e0ad-00a2261860c0"
      },
      "outputs": [
        {
          "output_type": "execute_result",
          "data": {
            "text/plain": [
              "   MSSubClass  MSZoning  LotFrontage  LotArea  Street  LotShape  LandContour  \\\n",
              "0           5         3         65.0   8450.0       1         3            3   \n",
              "1           0         3         80.0   9600.0       1         3            3   \n",
              "2           5         3         68.0  11250.0       1         0            3   \n",
              "3           6         3         60.0   9550.0       1         0            3   \n",
              "4           5         3         84.0  14260.0       1         0            3   \n",
              "\n",
              "   Utilities  LotConfig  LandSlope  ...  EnclosedPorch  3SsnPorch  \\\n",
              "0          0          4          0  ...              0          0   \n",
              "1          0          2          0  ...              0          0   \n",
              "2          0          4          0  ...              0          0   \n",
              "3          0          0          0  ...              0          0   \n",
              "4          0          2          0  ...              0          0   \n",
              "\n",
              "   ScreenPorch  PoolArea  MiscVal  MoSold  YrSold  SaleType  SaleCondition  \\\n",
              "0            0         0        0       2    2008         8              4   \n",
              "1            0         0        0       5    2007         8              4   \n",
              "2            0         0        0       9    2008         8              4   \n",
              "3            0         0        0       2    2006         8              0   \n",
              "4            0         0        0      12    2008         8              4   \n",
              "\n",
              "   SalePrice  \n",
              "0   208500.0  \n",
              "1   181500.0  \n",
              "2   223500.0  \n",
              "3   140000.0  \n",
              "4   250000.0  \n",
              "\n",
              "[5 rows x 75 columns]"
            ],
            "text/html": [
              "\n",
              "  <div id=\"df-a8a8327a-d8e7-4cb4-8cd2-e5a12546d228\" class=\"colab-df-container\">\n",
              "    <div>\n",
              "<style scoped>\n",
              "    .dataframe tbody tr th:only-of-type {\n",
              "        vertical-align: middle;\n",
              "    }\n",
              "\n",
              "    .dataframe tbody tr th {\n",
              "        vertical-align: top;\n",
              "    }\n",
              "\n",
              "    .dataframe thead th {\n",
              "        text-align: right;\n",
              "    }\n",
              "</style>\n",
              "<table border=\"1\" class=\"dataframe\">\n",
              "  <thead>\n",
              "    <tr style=\"text-align: right;\">\n",
              "      <th></th>\n",
              "      <th>MSSubClass</th>\n",
              "      <th>MSZoning</th>\n",
              "      <th>LotFrontage</th>\n",
              "      <th>LotArea</th>\n",
              "      <th>Street</th>\n",
              "      <th>LotShape</th>\n",
              "      <th>LandContour</th>\n",
              "      <th>Utilities</th>\n",
              "      <th>LotConfig</th>\n",
              "      <th>LandSlope</th>\n",
              "      <th>...</th>\n",
              "      <th>EnclosedPorch</th>\n",
              "      <th>3SsnPorch</th>\n",
              "      <th>ScreenPorch</th>\n",
              "      <th>PoolArea</th>\n",
              "      <th>MiscVal</th>\n",
              "      <th>MoSold</th>\n",
              "      <th>YrSold</th>\n",
              "      <th>SaleType</th>\n",
              "      <th>SaleCondition</th>\n",
              "      <th>SalePrice</th>\n",
              "    </tr>\n",
              "  </thead>\n",
              "  <tbody>\n",
              "    <tr>\n",
              "      <th>0</th>\n",
              "      <td>5</td>\n",
              "      <td>3</td>\n",
              "      <td>65.0</td>\n",
              "      <td>8450.0</td>\n",
              "      <td>1</td>\n",
              "      <td>3</td>\n",
              "      <td>3</td>\n",
              "      <td>0</td>\n",
              "      <td>4</td>\n",
              "      <td>0</td>\n",
              "      <td>...</td>\n",
              "      <td>0</td>\n",
              "      <td>0</td>\n",
              "      <td>0</td>\n",
              "      <td>0</td>\n",
              "      <td>0</td>\n",
              "      <td>2</td>\n",
              "      <td>2008</td>\n",
              "      <td>8</td>\n",
              "      <td>4</td>\n",
              "      <td>208500.0</td>\n",
              "    </tr>\n",
              "    <tr>\n",
              "      <th>1</th>\n",
              "      <td>0</td>\n",
              "      <td>3</td>\n",
              "      <td>80.0</td>\n",
              "      <td>9600.0</td>\n",
              "      <td>1</td>\n",
              "      <td>3</td>\n",
              "      <td>3</td>\n",
              "      <td>0</td>\n",
              "      <td>2</td>\n",
              "      <td>0</td>\n",
              "      <td>...</td>\n",
              "      <td>0</td>\n",
              "      <td>0</td>\n",
              "      <td>0</td>\n",
              "      <td>0</td>\n",
              "      <td>0</td>\n",
              "      <td>5</td>\n",
              "      <td>2007</td>\n",
              "      <td>8</td>\n",
              "      <td>4</td>\n",
              "      <td>181500.0</td>\n",
              "    </tr>\n",
              "    <tr>\n",
              "      <th>2</th>\n",
              "      <td>5</td>\n",
              "      <td>3</td>\n",
              "      <td>68.0</td>\n",
              "      <td>11250.0</td>\n",
              "      <td>1</td>\n",
              "      <td>0</td>\n",
              "      <td>3</td>\n",
              "      <td>0</td>\n",
              "      <td>4</td>\n",
              "      <td>0</td>\n",
              "      <td>...</td>\n",
              "      <td>0</td>\n",
              "      <td>0</td>\n",
              "      <td>0</td>\n",
              "      <td>0</td>\n",
              "      <td>0</td>\n",
              "      <td>9</td>\n",
              "      <td>2008</td>\n",
              "      <td>8</td>\n",
              "      <td>4</td>\n",
              "      <td>223500.0</td>\n",
              "    </tr>\n",
              "    <tr>\n",
              "      <th>3</th>\n",
              "      <td>6</td>\n",
              "      <td>3</td>\n",
              "      <td>60.0</td>\n",
              "      <td>9550.0</td>\n",
              "      <td>1</td>\n",
              "      <td>0</td>\n",
              "      <td>3</td>\n",
              "      <td>0</td>\n",
              "      <td>0</td>\n",
              "      <td>0</td>\n",
              "      <td>...</td>\n",
              "      <td>0</td>\n",
              "      <td>0</td>\n",
              "      <td>0</td>\n",
              "      <td>0</td>\n",
              "      <td>0</td>\n",
              "      <td>2</td>\n",
              "      <td>2006</td>\n",
              "      <td>8</td>\n",
              "      <td>0</td>\n",
              "      <td>140000.0</td>\n",
              "    </tr>\n",
              "    <tr>\n",
              "      <th>4</th>\n",
              "      <td>5</td>\n",
              "      <td>3</td>\n",
              "      <td>84.0</td>\n",
              "      <td>14260.0</td>\n",
              "      <td>1</td>\n",
              "      <td>0</td>\n",
              "      <td>3</td>\n",
              "      <td>0</td>\n",
              "      <td>2</td>\n",
              "      <td>0</td>\n",
              "      <td>...</td>\n",
              "      <td>0</td>\n",
              "      <td>0</td>\n",
              "      <td>0</td>\n",
              "      <td>0</td>\n",
              "      <td>0</td>\n",
              "      <td>12</td>\n",
              "      <td>2008</td>\n",
              "      <td>8</td>\n",
              "      <td>4</td>\n",
              "      <td>250000.0</td>\n",
              "    </tr>\n",
              "  </tbody>\n",
              "</table>\n",
              "<p>5 rows × 75 columns</p>\n",
              "</div>\n",
              "    <div class=\"colab-df-buttons\">\n",
              "\n",
              "  <div class=\"colab-df-container\">\n",
              "    <button class=\"colab-df-convert\" onclick=\"convertToInteractive('df-a8a8327a-d8e7-4cb4-8cd2-e5a12546d228')\"\n",
              "            title=\"Convert this dataframe to an interactive table.\"\n",
              "            style=\"display:none;\">\n",
              "\n",
              "  <svg xmlns=\"http://www.w3.org/2000/svg\" height=\"24px\" viewBox=\"0 -960 960 960\">\n",
              "    <path d=\"M120-120v-720h720v720H120Zm60-500h600v-160H180v160Zm220 220h160v-160H400v160Zm0 220h160v-160H400v160ZM180-400h160v-160H180v160Zm440 0h160v-160H620v160ZM180-180h160v-160H180v160Zm440 0h160v-160H620v160Z\"/>\n",
              "  </svg>\n",
              "    </button>\n",
              "\n",
              "  <style>\n",
              "    .colab-df-container {\n",
              "      display:flex;\n",
              "      gap: 12px;\n",
              "    }\n",
              "\n",
              "    .colab-df-convert {\n",
              "      background-color: #E8F0FE;\n",
              "      border: none;\n",
              "      border-radius: 50%;\n",
              "      cursor: pointer;\n",
              "      display: none;\n",
              "      fill: #1967D2;\n",
              "      height: 32px;\n",
              "      padding: 0 0 0 0;\n",
              "      width: 32px;\n",
              "    }\n",
              "\n",
              "    .colab-df-convert:hover {\n",
              "      background-color: #E2EBFA;\n",
              "      box-shadow: 0px 1px 2px rgba(60, 64, 67, 0.3), 0px 1px 3px 1px rgba(60, 64, 67, 0.15);\n",
              "      fill: #174EA6;\n",
              "    }\n",
              "\n",
              "    .colab-df-buttons div {\n",
              "      margin-bottom: 4px;\n",
              "    }\n",
              "\n",
              "    [theme=dark] .colab-df-convert {\n",
              "      background-color: #3B4455;\n",
              "      fill: #D2E3FC;\n",
              "    }\n",
              "\n",
              "    [theme=dark] .colab-df-convert:hover {\n",
              "      background-color: #434B5C;\n",
              "      box-shadow: 0px 1px 3px 1px rgba(0, 0, 0, 0.15);\n",
              "      filter: drop-shadow(0px 1px 2px rgba(0, 0, 0, 0.3));\n",
              "      fill: #FFFFFF;\n",
              "    }\n",
              "  </style>\n",
              "\n",
              "    <script>\n",
              "      const buttonEl =\n",
              "        document.querySelector('#df-a8a8327a-d8e7-4cb4-8cd2-e5a12546d228 button.colab-df-convert');\n",
              "      buttonEl.style.display =\n",
              "        google.colab.kernel.accessAllowed ? 'block' : 'none';\n",
              "\n",
              "      async function convertToInteractive(key) {\n",
              "        const element = document.querySelector('#df-a8a8327a-d8e7-4cb4-8cd2-e5a12546d228');\n",
              "        const dataTable =\n",
              "          await google.colab.kernel.invokeFunction('convertToInteractive',\n",
              "                                                    [key], {});\n",
              "        if (!dataTable) return;\n",
              "\n",
              "        const docLinkHtml = 'Like what you see? Visit the ' +\n",
              "          '<a target=\"_blank\" href=https://colab.research.google.com/notebooks/data_table.ipynb>data table notebook</a>'\n",
              "          + ' to learn more about interactive tables.';\n",
              "        element.innerHTML = '';\n",
              "        dataTable['output_type'] = 'display_data';\n",
              "        await google.colab.output.renderOutput(dataTable, element);\n",
              "        const docLink = document.createElement('div');\n",
              "        docLink.innerHTML = docLinkHtml;\n",
              "        element.appendChild(docLink);\n",
              "      }\n",
              "    </script>\n",
              "  </div>\n",
              "\n",
              "\n",
              "<div id=\"df-daba907d-fbdf-4862-9f58-6533eaa86c38\">\n",
              "  <button class=\"colab-df-quickchart\" onclick=\"quickchart('df-daba907d-fbdf-4862-9f58-6533eaa86c38')\"\n",
              "            title=\"Suggest charts\"\n",
              "            style=\"display:none;\">\n",
              "\n",
              "<svg xmlns=\"http://www.w3.org/2000/svg\" height=\"24px\"viewBox=\"0 0 24 24\"\n",
              "     width=\"24px\">\n",
              "    <g>\n",
              "        <path d=\"M19 3H5c-1.1 0-2 .9-2 2v14c0 1.1.9 2 2 2h14c1.1 0 2-.9 2-2V5c0-1.1-.9-2-2-2zM9 17H7v-7h2v7zm4 0h-2V7h2v10zm4 0h-2v-4h2v4z\"/>\n",
              "    </g>\n",
              "</svg>\n",
              "  </button>\n",
              "\n",
              "<style>\n",
              "  .colab-df-quickchart {\n",
              "      --bg-color: #E8F0FE;\n",
              "      --fill-color: #1967D2;\n",
              "      --hover-bg-color: #E2EBFA;\n",
              "      --hover-fill-color: #174EA6;\n",
              "      --disabled-fill-color: #AAA;\n",
              "      --disabled-bg-color: #DDD;\n",
              "  }\n",
              "\n",
              "  [theme=dark] .colab-df-quickchart {\n",
              "      --bg-color: #3B4455;\n",
              "      --fill-color: #D2E3FC;\n",
              "      --hover-bg-color: #434B5C;\n",
              "      --hover-fill-color: #FFFFFF;\n",
              "      --disabled-bg-color: #3B4455;\n",
              "      --disabled-fill-color: #666;\n",
              "  }\n",
              "\n",
              "  .colab-df-quickchart {\n",
              "    background-color: var(--bg-color);\n",
              "    border: none;\n",
              "    border-radius: 50%;\n",
              "    cursor: pointer;\n",
              "    display: none;\n",
              "    fill: var(--fill-color);\n",
              "    height: 32px;\n",
              "    padding: 0;\n",
              "    width: 32px;\n",
              "  }\n",
              "\n",
              "  .colab-df-quickchart:hover {\n",
              "    background-color: var(--hover-bg-color);\n",
              "    box-shadow: 0 1px 2px rgba(60, 64, 67, 0.3), 0 1px 3px 1px rgba(60, 64, 67, 0.15);\n",
              "    fill: var(--button-hover-fill-color);\n",
              "  }\n",
              "\n",
              "  .colab-df-quickchart-complete:disabled,\n",
              "  .colab-df-quickchart-complete:disabled:hover {\n",
              "    background-color: var(--disabled-bg-color);\n",
              "    fill: var(--disabled-fill-color);\n",
              "    box-shadow: none;\n",
              "  }\n",
              "\n",
              "  .colab-df-spinner {\n",
              "    border: 2px solid var(--fill-color);\n",
              "    border-color: transparent;\n",
              "    border-bottom-color: var(--fill-color);\n",
              "    animation:\n",
              "      spin 1s steps(1) infinite;\n",
              "  }\n",
              "\n",
              "  @keyframes spin {\n",
              "    0% {\n",
              "      border-color: transparent;\n",
              "      border-bottom-color: var(--fill-color);\n",
              "      border-left-color: var(--fill-color);\n",
              "    }\n",
              "    20% {\n",
              "      border-color: transparent;\n",
              "      border-left-color: var(--fill-color);\n",
              "      border-top-color: var(--fill-color);\n",
              "    }\n",
              "    30% {\n",
              "      border-color: transparent;\n",
              "      border-left-color: var(--fill-color);\n",
              "      border-top-color: var(--fill-color);\n",
              "      border-right-color: var(--fill-color);\n",
              "    }\n",
              "    40% {\n",
              "      border-color: transparent;\n",
              "      border-right-color: var(--fill-color);\n",
              "      border-top-color: var(--fill-color);\n",
              "    }\n",
              "    60% {\n",
              "      border-color: transparent;\n",
              "      border-right-color: var(--fill-color);\n",
              "    }\n",
              "    80% {\n",
              "      border-color: transparent;\n",
              "      border-right-color: var(--fill-color);\n",
              "      border-bottom-color: var(--fill-color);\n",
              "    }\n",
              "    90% {\n",
              "      border-color: transparent;\n",
              "      border-bottom-color: var(--fill-color);\n",
              "    }\n",
              "  }\n",
              "</style>\n",
              "\n",
              "  <script>\n",
              "    async function quickchart(key) {\n",
              "      const quickchartButtonEl =\n",
              "        document.querySelector('#' + key + ' button');\n",
              "      quickchartButtonEl.disabled = true;  // To prevent multiple clicks.\n",
              "      quickchartButtonEl.classList.add('colab-df-spinner');\n",
              "      try {\n",
              "        const charts = await google.colab.kernel.invokeFunction(\n",
              "            'suggestCharts', [key], {});\n",
              "      } catch (error) {\n",
              "        console.error('Error during call to suggestCharts:', error);\n",
              "      }\n",
              "      quickchartButtonEl.classList.remove('colab-df-spinner');\n",
              "      quickchartButtonEl.classList.add('colab-df-quickchart-complete');\n",
              "    }\n",
              "    (() => {\n",
              "      let quickchartButtonEl =\n",
              "        document.querySelector('#df-daba907d-fbdf-4862-9f58-6533eaa86c38 button');\n",
              "      quickchartButtonEl.style.display =\n",
              "        google.colab.kernel.accessAllowed ? 'block' : 'none';\n",
              "    })();\n",
              "  </script>\n",
              "</div>\n",
              "    </div>\n",
              "  </div>\n"
            ],
            "application/vnd.google.colaboratory.intrinsic+json": {
              "type": "dataframe",
              "variable_name": "df"
            }
          },
          "metadata": {},
          "execution_count": 47
        }
      ],
      "source": [
        "df.head()"
      ]
    },
    {
      "cell_type": "markdown",
      "metadata": {
        "id": "Eh3kcl8LYSdb"
      },
      "source": [
        "### Splitting Training dan Testing Data\n",
        "\n",
        "Untuk melakukan proses Regression, sebuah data harus dipecah menjadi dua, yaitu training data dan testing data. Training data digunakan untuk melatih model Regression agar dapat melakukan prediksi terhadap data lain. Testing data digunakan untuk menguji dan mengevaluasi performa model Regression."
      ]
    },
    {
      "cell_type": "markdown",
      "metadata": {
        "id": "ES4u5ZKcYSdb"
      },
      "source": [
        "Untuk melakukan proses ini, dapat menjalankan perintah di bawah ini."
      ]
    },
    {
      "cell_type": "code",
      "execution_count": 48,
      "metadata": {
        "id": "pzxaEQZmYSdb"
      },
      "outputs": [],
      "source": [
        "X = df.drop(columns = 'SalePrice')\n",
        "y = df['SalePrice']\n",
        "\n",
        "X_train, X_test, y_train, y_test = train_test_split(\n",
        "    X, y,\n",
        "    test_size = 0.2,\n",
        "    random_state = 42\n",
        ")"
      ]
    },
    {
      "cell_type": "markdown",
      "metadata": {
        "id": "TbymCFxDYSdb"
      },
      "source": [
        "## Modelling dengan K-Neighbors Regressor\n",
        "\n",
        "Di sinilah proses Regression dimulai. Model yang akan digunakan adalah K-Neighbors Regressor. Model akan dilatih menggunakan training data dan diuji serta dievaluasi menggunakan testing data."
      ]
    },
    {
      "cell_type": "markdown",
      "metadata": {
        "id": "4D01-XXQYSdb"
      },
      "source": [
        "Proses modelling dapat dilakukan dengan mengeksekusi perintah di bawah ini."
      ]
    },
    {
      "cell_type": "code",
      "execution_count": 49,
      "metadata": {
        "colab": {
          "base_uri": "https://localhost:8080/",
          "height": 75
        },
        "id": "7_oVxPslYSdc",
        "outputId": "926b9f7f-e52a-44a5-e75b-1ae013534a30"
      },
      "outputs": [
        {
          "output_type": "execute_result",
          "data": {
            "text/plain": [
              "KNeighborsRegressor()"
            ],
            "text/html": [
              "<style>#sk-container-id-4 {color: black;background-color: white;}#sk-container-id-4 pre{padding: 0;}#sk-container-id-4 div.sk-toggleable {background-color: white;}#sk-container-id-4 label.sk-toggleable__label {cursor: pointer;display: block;width: 100%;margin-bottom: 0;padding: 0.3em;box-sizing: border-box;text-align: center;}#sk-container-id-4 label.sk-toggleable__label-arrow:before {content: \"▸\";float: left;margin-right: 0.25em;color: #696969;}#sk-container-id-4 label.sk-toggleable__label-arrow:hover:before {color: black;}#sk-container-id-4 div.sk-estimator:hover label.sk-toggleable__label-arrow:before {color: black;}#sk-container-id-4 div.sk-toggleable__content {max-height: 0;max-width: 0;overflow: hidden;text-align: left;background-color: #f0f8ff;}#sk-container-id-4 div.sk-toggleable__content pre {margin: 0.2em;color: black;border-radius: 0.25em;background-color: #f0f8ff;}#sk-container-id-4 input.sk-toggleable__control:checked~div.sk-toggleable__content {max-height: 200px;max-width: 100%;overflow: auto;}#sk-container-id-4 input.sk-toggleable__control:checked~label.sk-toggleable__label-arrow:before {content: \"▾\";}#sk-container-id-4 div.sk-estimator input.sk-toggleable__control:checked~label.sk-toggleable__label {background-color: #d4ebff;}#sk-container-id-4 div.sk-label input.sk-toggleable__control:checked~label.sk-toggleable__label {background-color: #d4ebff;}#sk-container-id-4 input.sk-hidden--visually {border: 0;clip: rect(1px 1px 1px 1px);clip: rect(1px, 1px, 1px, 1px);height: 1px;margin: -1px;overflow: hidden;padding: 0;position: absolute;width: 1px;}#sk-container-id-4 div.sk-estimator {font-family: monospace;background-color: #f0f8ff;border: 1px dotted black;border-radius: 0.25em;box-sizing: border-box;margin-bottom: 0.5em;}#sk-container-id-4 div.sk-estimator:hover {background-color: #d4ebff;}#sk-container-id-4 div.sk-parallel-item::after {content: \"\";width: 100%;border-bottom: 1px solid gray;flex-grow: 1;}#sk-container-id-4 div.sk-label:hover label.sk-toggleable__label {background-color: #d4ebff;}#sk-container-id-4 div.sk-serial::before {content: \"\";position: absolute;border-left: 1px solid gray;box-sizing: border-box;top: 0;bottom: 0;left: 50%;z-index: 0;}#sk-container-id-4 div.sk-serial {display: flex;flex-direction: column;align-items: center;background-color: white;padding-right: 0.2em;padding-left: 0.2em;position: relative;}#sk-container-id-4 div.sk-item {position: relative;z-index: 1;}#sk-container-id-4 div.sk-parallel {display: flex;align-items: stretch;justify-content: center;background-color: white;position: relative;}#sk-container-id-4 div.sk-item::before, #sk-container-id-4 div.sk-parallel-item::before {content: \"\";position: absolute;border-left: 1px solid gray;box-sizing: border-box;top: 0;bottom: 0;left: 50%;z-index: -1;}#sk-container-id-4 div.sk-parallel-item {display: flex;flex-direction: column;z-index: 1;position: relative;background-color: white;}#sk-container-id-4 div.sk-parallel-item:first-child::after {align-self: flex-end;width: 50%;}#sk-container-id-4 div.sk-parallel-item:last-child::after {align-self: flex-start;width: 50%;}#sk-container-id-4 div.sk-parallel-item:only-child::after {width: 0;}#sk-container-id-4 div.sk-dashed-wrapped {border: 1px dashed gray;margin: 0 0.4em 0.5em 0.4em;box-sizing: border-box;padding-bottom: 0.4em;background-color: white;}#sk-container-id-4 div.sk-label label {font-family: monospace;font-weight: bold;display: inline-block;line-height: 1.2em;}#sk-container-id-4 div.sk-label-container {text-align: center;}#sk-container-id-4 div.sk-container {/* jupyter's `normalize.less` sets `[hidden] { display: none; }` but bootstrap.min.css set `[hidden] { display: none !important; }` so we also need the `!important` here to be able to override the default hidden behavior on the sphinx rendered scikit-learn.org. See: https://github.com/scikit-learn/scikit-learn/issues/21755 */display: inline-block !important;position: relative;}#sk-container-id-4 div.sk-text-repr-fallback {display: none;}</style><div id=\"sk-container-id-4\" class=\"sk-top-container\"><div class=\"sk-text-repr-fallback\"><pre>KNeighborsRegressor()</pre><b>In a Jupyter environment, please rerun this cell to show the HTML representation or trust the notebook. <br />On GitHub, the HTML representation is unable to render, please try loading this page with nbviewer.org.</b></div><div class=\"sk-container\" hidden><div class=\"sk-item\"><div class=\"sk-estimator sk-toggleable\"><input class=\"sk-toggleable__control sk-hidden--visually\" id=\"sk-estimator-id-6\" type=\"checkbox\" checked><label for=\"sk-estimator-id-6\" class=\"sk-toggleable__label sk-toggleable__label-arrow\">KNeighborsRegressor</label><div class=\"sk-toggleable__content\"><pre>KNeighborsRegressor()</pre></div></div></div></div></div>"
            ]
          },
          "metadata": {},
          "execution_count": 49
        }
      ],
      "source": [
        "model_1 = KNeighborsRegressor()\n",
        "model_1.fit(X_train, y_train)"
      ]
    },
    {
      "cell_type": "markdown",
      "metadata": {
        "id": "_fHpGPRRYSdc"
      },
      "source": [
        "Tampilan di atas mengindikasikan proses modelling telah berhasil dilakukan. Model yang digunakan disimpan dalam variable `model_1`."
      ]
    },
    {
      "cell_type": "markdown",
      "metadata": {
        "id": "6BBrTlxdYSdc"
      },
      "source": [
        "## Evaluasi Performa Model\n",
        "\n",
        "Setelah dilakukan proses modelling, selanjutnya model tersebut harus diukur dan dievaluasi performanya. Hal tersebut dilakukan agar memperoleh informasi terkait seberapa baik model sebelum digunakan untuk melakukan prediksi terhadap data lain. Di sini akan dilakukan beberapa hal untuk mengukur dan mengevaluasi performa model, di antaranya adalah:\n",
        "- Cross Validation\n",
        "- Learning Curves\n",
        "- Evaluasi dengan Mean Absolute Error (MAE)\n",
        "- Evaluasi dengan Coefficient of Determination ($R^2$ Score)"
      ]
    },
    {
      "cell_type": "markdown",
      "metadata": {
        "id": "8DbZP-riYSdc"
      },
      "source": [
        "### Cross Validation\n",
        "\n",
        "Sebelumnya telah dilakukan data splitting yang membagi data menjadi training data dan testing data. Data tersebut digunakan untuk fitting model dan model tersebut sudah dapat diukur performanya dan digunakan untuk melakukan prediksi terhadap data lain.\n",
        "\n",
        "Namun proses splitting data di atas hanya dilakukan sekali saja sehingga walaupun performa suatu model sudah terbilang cukup baik, bisa jadi performa yang cukup baik tersebut masih dipengaruhi efek kebetulan. Agar performa model dapat lebih dipercayai, maka perlu dilakukan Cross Validation. Cross validation merupakan proses statistik dimana model akan dilatih dengan kombinasi training data dan score hasil latihan ini akan di rata-rata sehingga performa model lebih dapat dipercaya dan meminimalisir efek kebetulan."
      ]
    },
    {
      "cell_type": "markdown",
      "metadata": {
        "id": "un1Gz6W2YSdc"
      },
      "source": [
        "Untuk mengukur performa model sebelum dilakukan Cross Validation, dapat menjalankan perintah berikut ini."
      ]
    },
    {
      "cell_type": "code",
      "execution_count": 50,
      "metadata": {
        "colab": {
          "base_uri": "https://localhost:8080/"
        },
        "id": "vTsGFN07YSdd",
        "outputId": "fa443932-3a5d-41e4-ea99-bf1ba11bdf47"
      },
      "outputs": [
        {
          "output_type": "execute_result",
          "data": {
            "text/plain": [
              "0.8122573815492782"
            ]
          },
          "metadata": {},
          "execution_count": 50
        }
      ],
      "source": [
        "model_1.score(X_train, y_train)"
      ]
    },
    {
      "cell_type": "markdown",
      "metadata": {
        "id": "KgXRERvzYSdd"
      },
      "source": [
        "Terlihat bahwa performa model sekitar 0.81 atau 81%. Apakah performa model tersebut dipengaruhi efek kebetulan? Untuk mengetahuinya, harus dilakukan proses Cross Validation. Misalnya di sini akan dilakukan proses Cross Validation sebanyak 3 kali (3-Fold Cross Validation), nilai performa model dari proses Cross Validation akan diambil rata-ratanya, kemudian hasil tersebut akan dibandingkan dengan nilai performa model sebelum dilakukan proses Cross Validation. Untuk melakukannya, dapat mengeksekusi perintah di bawah ini."
      ]
    },
    {
      "cell_type": "code",
      "execution_count": 51,
      "metadata": {
        "colab": {
          "base_uri": "https://localhost:8080/"
        },
        "id": "Kh9yEbnyYSdd",
        "outputId": "56adb96e-ac25-454c-b03e-95d14fcec853"
      },
      "outputs": [
        {
          "output_type": "execute_result",
          "data": {
            "text/plain": [
              "0.6799344213401656"
            ]
          },
          "metadata": {},
          "execution_count": 51
        }
      ],
      "source": [
        "cross_val_score(model_1, X_train, y_train, cv = 3).mean()"
      ]
    },
    {
      "cell_type": "markdown",
      "metadata": {
        "id": "UW94rZo3YSdd"
      },
      "source": [
        "Terlihat bahwa nilai performa model hasil 3-Fold Cross Validation sekitar 0.68 atau 68%. Hasil ini berbeda dan memiliki selisih sekitar 13%. Hal ini mengindikasikan bahwa performa model sebelum dilakukan proses Cross Validation masih dipengaruhi efek kebetulan. Performa model hasil Cross Validation lebih merepresentasikan performa model yang sebenarnya."
      ]
    },
    {
      "cell_type": "markdown",
      "metadata": {
        "id": "mq8xuHbTYSde"
      },
      "source": [
        "### Learning Curves\n",
        "\n",
        "Learning curves dalam machine learning merupakan gambaran dari performa model yang dilihat dari nilai akurasi atau kesalahan (error) dari data training dan data testing seiring dengan jumlah data atau iterasi yang dilakukan. Learning curves dapat diinterpretasikan dengan 3 tipe, yaitu:\n",
        "- Good Fit adalah keadaan di mana performa model sangat baik, baik saat diuji dengan training data maupun testing data. Model dengan tipe inilah yang diinginkan.\n",
        "- Over Fit adalah keadaan di mana performa suatu model sangat bagus saat diuji dengan training data, namun performa model turun dengan signifikan ketika diuji dengan testing data. Overfitting dapat dianalogikan seperti saat ada suatu ujian hanya menghapal soal, bukan memahami, sehingga performa dalam mengerjakan soal-soal yang telah dihapal sangat bagus, namun performa saat diuji dengan soal ujian yang sesungguhnya turun drastis.\n",
        "- Under Fit adalah keadaan di mana performa suatu model sangat jelek saat diuji dengan training data, sehingga tidak dapat digunakan untuk melakukan generalisasi terhadap data lain. Underfitting dapat dianalogikan seperti saat ada suatu ujian tidak belajar sehingga saat ujian tidak dapat mengerjakan.\n",
        "\n",
        "Over Fit dan Under Fit perlu dihindari karena tentunya model yang diinginkan adalah model yang memiliki performa bagus (Good Fit) sehingga dapat digunakan untuk melakukan generalisasi pada data lain."
      ]
    },
    {
      "cell_type": "markdown",
      "metadata": {
        "id": "zKrPpaZgYSde"
      },
      "source": [
        "Untuk melakukan visualisasi terhadap learning curves, dapat mengeksekusi perintah di bawah ini."
      ]
    },
    {
      "cell_type": "code",
      "execution_count": 87,
      "metadata": {
        "colab": {
          "base_uri": "https://localhost:8080/",
          "height": 472
        },
        "id": "PoCh1z9uYSde",
        "outputId": "fb1daa03-6bb5-4fb8-ef5e-d3e2e39c5ed6"
      },
      "outputs": [
        {
          "output_type": "display_data",
          "data": {
            "text/plain": [
              "<Figure size 640x480 with 1 Axes>"
            ],
            "image/png": "[encoded data removed]"
          },
          "metadata": {}
        }
      ],
      "source": [
        "persentase_jumlah_data = np.linspace(0.1, 1, 200)\n",
        "\n",
        "learning_curves_train = []\n",
        "learning_curves_test  = []\n",
        "\n",
        "for persentase in persentase_jumlah_data:\n",
        "    X_train_subset = X_train[0 : int(len(X_train) * persentase)]\n",
        "    y_train_subset = y_train[0 : int(len(y_train) * persentase)]\n",
        "\n",
        "    X_test_subset = X_test[0 : int(len(X_test) * persentase)]\n",
        "    y_test_subset = y_test[0 : int(len(y_test) * persentase)]\n",
        "\n",
        "    model_1.fit(X_train_subset, y_train_subset)\n",
        "\n",
        "    score = model_1.score(X_train_subset, y_train_subset)\n",
        "    learning_curves_train.append(score)\n",
        "\n",
        "    score = model_1.score(X_test_subset, y_test_subset)\n",
        "    learning_curves_test.append(score)\n",
        "\n",
        "plt.plot(persentase_jumlah_data * 100, np.array(learning_curves_train) * 100, label = 'training data')\n",
        "plt.plot(persentase_jumlah_data * 100, np.array(learning_curves_test) * 100, label = 'testing data')\n",
        "plt.legend()\n",
        "plt.xlabel('Persentase Sample Data yang Digunakan')\n",
        "plt.ylabel('Persentase Nilai Akurasi Model')\n",
        "plt.title('Learning Curves Model')\n",
        "plt.xlim(0, 110)\n",
        "plt.ylim(0, 110)\n",
        "plt.show()"
      ]
    },
    {
      "cell_type": "markdown",
      "metadata": {
        "id": "ZsJNbejdYSdf"
      },
      "source": [
        "Terlihat bahwa seiring dengan banyaknya sample data yang digunakan, learning curves dari training data dan testing data semakin berdekatan dengan akurasi berkisar di angka 80%. Ini mengindikasikan bahwa model yang digunakan mendekati Good Fit."
      ]
    },
    {
      "cell_type": "markdown",
      "metadata": {
        "id": "iq96fSKZYSdf"
      },
      "source": [
        "### Evaluasi dengan Mean Absolute Error (MAE)\n",
        "\n",
        "Terdapat beberapa metrik evaluasi yang digunakan untuk mengevaluasi performa model, salah satunya yaitu Mean Absolute Error (MAE). Sebagus apapun model yang digunakan, selalu ada selisih nilai antara nilai sebenarnya (actual value) dengan nilai hasil prediksi model (prediction value). Selisih tersebut disebut dengan error. Pada MAE, error pada setiap data akan diambil nilai absolutnya, kemudian dihitung rata-rata dari semua nilai absolut errornya, dapat dirumuskan dengan:\n",
        "\n",
        "$MAE=\\frac {\\sum^n_{i = 1} |y_{actual} - y_{prediction}|} {n}$\n",
        "\n",
        "Evaluasi model dengan MAE memberikan penjelasan mengenai performa model yang cukup mudah dipahami (nilai MAE adalah rata-rata selisih antara actual data dengan prediction data). Semakin kecil nilai MAE mengindikasikan performa model yang semakin baik."
      ]
    },
    {
      "cell_type": "markdown",
      "metadata": {
        "id": "A8-eptJ2YSdf"
      },
      "source": [
        "Untuk melakukan evaluasi dengan MAE, dapat menjalankan perintah di bawah ini."
      ]
    },
    {
      "cell_type": "code",
      "execution_count": 53,
      "metadata": {
        "colab": {
          "base_uri": "https://localhost:8080/"
        },
        "id": "l0thBQpDYSdf",
        "outputId": "ce77b380-ea70-4ce7-ba31-49a59a02959c"
      },
      "outputs": [
        {
          "output_type": "execute_result",
          "data": {
            "text/plain": [
              "24785.073630136987"
            ]
          },
          "metadata": {},
          "execution_count": 53
        }
      ],
      "source": [
        "y_pred = model_1.predict(X_test)\n",
        "mean_absolute_error(y_test, y_pred)"
      ]
    },
    {
      "cell_type": "markdown",
      "metadata": {
        "id": "AcYIut39YSdf"
      },
      "source": [
        "Didapat nilai MAE sekitar 24800. Dapat diinterpretasikan dengan \"Secara rata-rata, nilai `SalePrice` hasil prediksi memiliki selisih (error) terhadap nilai sebenarnya sebesar kurang lebih 24800\"."
      ]
    },
    {
      "cell_type": "markdown",
      "metadata": {
        "id": "1rSsbbYjYSdf"
      },
      "source": [
        "### Evaluasi dengan Coefficient of Determination ($R^2$ Score)\n",
        "\n",
        "Selain MAE, terdapat juga metrik evaluasi lain yaitu $R^2$ Score. Metrik evaluasi ini akan mengukur seberapa baik suatu model untuk memprediksi nilai sebenarnya dari suatu data. $R^2$ Score dinyatakan dalam bilangan desimal atau dapat juga dinyatakan dalam peresentasi sehingga kesimpulan dari evaluasi dengan metrik ini bisa langsung dipahami. $R^2$ Score yang semakin mendekati 1 atau 100% mengindikasikan model yang baik."
      ]
    },
    {
      "cell_type": "markdown",
      "metadata": {
        "id": "jTOlVI11YSdg"
      },
      "source": [
        "Untuk melakukan evaluasi dengan $R^2$ Score, dapat menjalankan perintah di bawah ini."
      ]
    },
    {
      "cell_type": "code",
      "execution_count": 54,
      "metadata": {
        "colab": {
          "base_uri": "https://localhost:8080/"
        },
        "id": "_Fmk1BA0YSdg",
        "outputId": "892bc035-d8dc-4a8f-a393-3931757e54cd"
      },
      "outputs": [
        {
          "output_type": "execute_result",
          "data": {
            "text/plain": [
              "0.7625769145543062"
            ]
          },
          "metadata": {},
          "execution_count": 54
        }
      ],
      "source": [
        "y_pred = model_1.predict(X_test)\n",
        "r2_score(y_test, y_pred)"
      ]
    },
    {
      "cell_type": "markdown",
      "metadata": {
        "id": "dYf_I-pAYSdg"
      },
      "source": [
        "Didapat nilai $R^2$ Score adalah sekitar 0.76 atau 76%. Dapat diinterpretasikan dengan \"Model mampu melakukan prediksi terhadap nilai sebenarnya dari `SalePrice` dengan ketepatan sekitar 76%\"."
      ]
    },
    {
      "cell_type": "markdown",
      "metadata": {
        "id": "JC-uI29DYSdg"
      },
      "source": [
        "## Upaya Meningkatkan Performa Model\n",
        "\n",
        "Upaya yang dapat dilakukan untuk meningkatkan performa model dapat dilakukan dengan dua cara, yaitu:\n",
        "- Meningkatkan performa model melalui data, contohnya adalah features engineering.\n",
        "- Meningkatkan performa model melalui model, contohnya dengan hyperparameter tuning.\n",
        "\n",
        "Perlu menjadi catatan bahwa upaya-upaya di atas tidak menjamin akan meningkatkan performa model. Upaya di atas bisa saja meningkatkan performa model, performa model tidak berubah, bahkan menurunkan performa model."
      ]
    },
    {
      "cell_type": "markdown",
      "metadata": {
        "id": "5jgN_zymYSdg"
      },
      "source": [
        "### Upaya Meningkatkan Performa Model Melalui Data\n",
        "\n",
        "Upaya pertama yang dapat dilakukan untuk meningkatkan performa model adalah melalui data yang digunakan. Upaya ini dapat dilakukan dengan features engineering seperti melakukan standardization, normalization atau membuat feature baru. Di sini features engineering yang dilakukan adalah normalization menggunakan Min Max Scaler."
      ]
    },
    {
      "cell_type": "markdown",
      "metadata": {
        "id": "Hd7qu-a8YSdg"
      },
      "source": [
        "Untuk melakukan proses tersebut dapat mengeksekusi perintah di bawah ini."
      ]
    },
    {
      "cell_type": "code",
      "execution_count": 55,
      "metadata": {
        "id": "6ZX6XPGGYSdh"
      },
      "outputs": [],
      "source": [
        "df_for_model_2 = df.copy(deep = True)\n",
        "\n",
        "scaler = MinMaxScaler()\n",
        "for col in [col for col in df_for_model_2.drop(columns = 'SalePrice').columns if col in num_cols]:\n",
        "    df_for_model_2[col] = scaler.fit_transform(np.array(df_for_model_2[col]).reshape(-1, 1))"
      ]
    },
    {
      "cell_type": "markdown",
      "metadata": {
        "id": "haKvyOyoYSdh"
      },
      "source": [
        "Untuk melihat performa model setelah proses normalization dapat menjalankan perintah berikut ini."
      ]
    },
    {
      "cell_type": "code",
      "execution_count": 56,
      "metadata": {
        "colab": {
          "base_uri": "https://localhost:8080/"
        },
        "id": "n2y2n-r6YSdh",
        "outputId": "b919fa0f-e0e2-4fe8-d8a1-033ee649d0cc"
      },
      "outputs": [
        {
          "output_type": "execute_result",
          "data": {
            "text/plain": [
              "0.7903229488105695"
            ]
          },
          "metadata": {},
          "execution_count": 56
        }
      ],
      "source": [
        "X_for_model_2 = df_for_model_2.drop(columns = 'SalePrice')\n",
        "y_for_model_2 = df_for_model_2['SalePrice']\n",
        "\n",
        "X_train_for_model_2, X_test_for_model_2, y_train_for_model_2, y_test_for_model_2 = train_test_split(\n",
        "    X_for_model_2, y_for_model_2,\n",
        "    test_size = 0.2,\n",
        "    random_state = 42\n",
        ")\n",
        "\n",
        "model_2 = KNeighborsRegressor()\n",
        "model_2.fit(X_train_for_model_2, y_train_for_model_2)\n",
        "\n",
        "model_2.score(X_train_for_model_2, y_train_for_model_2)"
      ]
    },
    {
      "cell_type": "markdown",
      "metadata": {
        "id": "MDlFmjDeYSdh"
      },
      "source": [
        "Terlihat bahwa setelah dilakukan normalization, didapatkan nilai performa model yang disimpan dalam variable `model_2` adalah sekitar 0.79 atau 79%. Hasil ini menunjukkan penurunan performa model dari model yang sebelumnya yaitu `model_1` yang memiliki nilai performa model 81%."
      ]
    },
    {
      "cell_type": "markdown",
      "metadata": {
        "id": "A1LsojCeYSdi"
      },
      "source": [
        "### Upaya meningkatkan Performa Model Melalui Model\n",
        "\n",
        "Upaya pertama yang dapat dilakukan untuk meningkatkan performa model adalah melalui data yang digunakan. Upaya ini dapat dilakukan dengan hyperparameter tuning. Hyperparameter tuning merupakan proses mencari kombinasi parameter dari algoritma yang digunakan. Karena di sini menggunakan algoritma K-Neighbors Regressor, parameter yang dapat di-tuning di antaranya adalah:\n",
        "- `n_neighbors`\n",
        "- `weights`\n",
        "- `p`\n",
        "\n",
        "Di sini akan dilakukan hyperparameter tuning menggunakan bantuan module `GridSearchCV`. Module tersebut juga mendukung proses Cross Validation sehingga performa model yang dihasilkan lebih dapat dipercaya karena efek kebetulan telah diminimalisir."
      ]
    },
    {
      "cell_type": "markdown",
      "metadata": {
        "id": "1E7ahUtMYSdi"
      },
      "source": [
        "#### Proses Hyperparameter Tuning dan Cross Validation dengan GridSearchCV\n",
        "\n",
        "Di sini akan dilakukan Hyperparameter Tuning untuk algoritma K-Neighbors Regressor. Selain dilakukan proses tuning terhadap parameter, di sini juga akan dilakukan tuning terhadap algortima regression-nya. Bisa jadi algoritma yang digunakan sekarang yaitu K-Neighbors Regressor bukanlah algoritma terbaik, melainkan algortima lainnya. Di sini juga akan dilakukan Cross Validation sebanyak 3 kali. <b>Harap diperhatikan bahwa proses ini akan cukup memakan waktu. Proses ini dapat diskip dan langsung menuju ke proses \"Membangun Model dari Kombinasi Parameter Terbaik\" di bawah ini.</b>"
      ]
    },
    {
      "cell_type": "code",
      "execution_count": 57,
      "metadata": {
        "colab": {
          "base_uri": "https://localhost:8080/",
          "height": 135
        },
        "id": "Qo23t3i0YSdi",
        "outputId": "056ff826-7833-4516-bc28-6821f591596f"
      },
      "outputs": [
        {
          "output_type": "stream",
          "name": "stdout",
          "text": [
            "Fitting 3 folds for each of 237 candidates, totalling 711 fits\n"
          ]
        },
        {
          "output_type": "execute_result",
          "data": {
            "text/plain": [
              "GridSearchCV(cv=3,\n",
              "             estimator=Pipeline(steps=[('regressor', KNeighborsRegressor())]),\n",
              "             n_jobs=-1,\n",
              "             param_grid=[{'regressor': [KNeighborsRegressor()],\n",
              "                          'regressor__n_neighbors': [1, 3, 5, 7, 9],\n",
              "                          'regressor__p': [1, 2],\n",
              "                          'regressor__weights': ['uniform', 'distance']},\n",
              "                         {'regressor': [LinearRegression()],\n",
              "                          'regressor__fit_intercept': [True]},\n",
              "                         {'regressor': [RandomForestRegressor(b...e,\n",
              "                                                              criterion='absolute_error',\n",
              "                                                              max_depth=50,\n",
              "                                                              max_features='sqrt',\n",
              "                                                              n_estimators=200,\n",
              "                                                              random_state=42)],\n",
              "                          'regressor__bootstrap': [True, False],\n",
              "                          'regressor__criterion': ['squared_error',\n",
              "                                                   'absolute_error',\n",
              "                                                   'friedman_mse', 'poisson'],\n",
              "                          'regressor__max_depth': [50, 100, None],\n",
              "                          'regressor__max_features': ['sqrt', 'log2', 1.0],\n",
              "                          'regressor__n_estimators': [50, 100, 200]}],\n",
              "             verbose=1)"
            ],
            "text/html": [
              "<style>#sk-container-id-5 {color: black;background-color: white;}#sk-container-id-5 pre{padding: 0;}#sk-container-id-5 div.sk-toggleable {background-color: white;}#sk-container-id-5 label.sk-toggleable__label {cursor: pointer;display: block;width: 100%;margin-bottom: 0;padding: 0.3em;box-sizing: border-box;text-align: center;}#sk-container-id-5 label.sk-toggleable__label-arrow:before {content: \"▸\";float: left;margin-right: 0.25em;color: #696969;}#sk-container-id-5 label.sk-toggleable__label-arrow:hover:before {color: black;}#sk-container-id-5 div.sk-estimator:hover label.sk-toggleable__label-arrow:before {color: black;}#sk-container-id-5 div.sk-toggleable__content {max-height: 0;max-width: 0;overflow: hidden;text-align: left;background-color: #f0f8ff;}#sk-container-id-5 div.sk-toggleable__content pre {margin: 0.2em;color: black;border-radius: 0.25em;background-color: #f0f8ff;}#sk-container-id-5 input.sk-toggleable__control:checked~div.sk-toggleable__content {max-height: 200px;max-width: 100%;overflow: auto;}#sk-container-id-5 input.sk-toggleable__control:checked~label.sk-toggleable__label-arrow:before {content: \"▾\";}#sk-container-id-5 div.sk-estimator input.sk-toggleable__control:checked~label.sk-toggleable__label {background-color: #d4ebff;}#sk-container-id-5 div.sk-label input.sk-toggleable__control:checked~label.sk-toggleable__label {background-color: #d4ebff;}#sk-container-id-5 input.sk-hidden--visually {border: 0;clip: rect(1px 1px 1px 1px);clip: rect(1px, 1px, 1px, 1px);height: 1px;margin: -1px;overflow: hidden;padding: 0;position: absolute;width: 1px;}#sk-container-id-5 div.sk-estimator {font-family: monospace;background-color: #f0f8ff;border: 1px dotted black;border-radius: 0.25em;box-sizing: border-box;margin-bottom: 0.5em;}#sk-container-id-5 div.sk-estimator:hover {background-color: #d4ebff;}#sk-container-id-5 div.sk-parallel-item::after {content: \"\";width: 100%;border-bottom: 1px solid gray;flex-grow: 1;}#sk-container-id-5 div.sk-label:hover label.sk-toggleable__label {background-color: #d4ebff;}#sk-container-id-5 div.sk-serial::before {content: \"\";position: absolute;border-left: 1px solid gray;box-sizing: border-box;top: 0;bottom: 0;left: 50%;z-index: 0;}#sk-container-id-5 div.sk-serial {display: flex;flex-direction: column;align-items: center;background-color: white;padding-right: 0.2em;padding-left: 0.2em;position: relative;}#sk-container-id-5 div.sk-item {position: relative;z-index: 1;}#sk-container-id-5 div.sk-parallel {display: flex;align-items: stretch;justify-content: center;background-color: white;position: relative;}#sk-container-id-5 div.sk-item::before, #sk-container-id-5 div.sk-parallel-item::before {content: \"\";position: absolute;border-left: 1px solid gray;box-sizing: border-box;top: 0;bottom: 0;left: 50%;z-index: -1;}#sk-container-id-5 div.sk-parallel-item {display: flex;flex-direction: column;z-index: 1;position: relative;background-color: white;}#sk-container-id-5 div.sk-parallel-item:first-child::after {align-self: flex-end;width: 50%;}#sk-container-id-5 div.sk-parallel-item:last-child::after {align-self: flex-start;width: 50%;}#sk-container-id-5 div.sk-parallel-item:only-child::after {width: 0;}#sk-container-id-5 div.sk-dashed-wrapped {border: 1px dashed gray;margin: 0 0.4em 0.5em 0.4em;box-sizing: border-box;padding-bottom: 0.4em;background-color: white;}#sk-container-id-5 div.sk-label label {font-family: monospace;font-weight: bold;display: inline-block;line-height: 1.2em;}#sk-container-id-5 div.sk-label-container {text-align: center;}#sk-container-id-5 div.sk-container {/* jupyter's `normalize.less` sets `[hidden] { display: none; }` but bootstrap.min.css set `[hidden] { display: none !important; }` so we also need the `!important` here to be able to override the default hidden behavior on the sphinx rendered scikit-learn.org. See: https://github.com/scikit-learn/scikit-learn/issues/21755 */display: inline-block !important;position: relative;}#sk-container-id-5 div.sk-text-repr-fallback {display: none;}</style><div id=\"sk-container-id-5\" class=\"sk-top-container\"><div class=\"sk-text-repr-fallback\"><pre>GridSearchCV(cv=3,\n",
              "             estimator=Pipeline(steps=[(&#x27;regressor&#x27;, KNeighborsRegressor())]),\n",
              "             n_jobs=-1,\n",
              "             param_grid=[{&#x27;regressor&#x27;: [KNeighborsRegressor()],\n",
              "                          &#x27;regressor__n_neighbors&#x27;: [1, 3, 5, 7, 9],\n",
              "                          &#x27;regressor__p&#x27;: [1, 2],\n",
              "                          &#x27;regressor__weights&#x27;: [&#x27;uniform&#x27;, &#x27;distance&#x27;]},\n",
              "                         {&#x27;regressor&#x27;: [LinearRegression()],\n",
              "                          &#x27;regressor__fit_intercept&#x27;: [True]},\n",
              "                         {&#x27;regressor&#x27;: [RandomForestRegressor(b...e,\n",
              "                                                              criterion=&#x27;absolute_error&#x27;,\n",
              "                                                              max_depth=50,\n",
              "                                                              max_features=&#x27;sqrt&#x27;,\n",
              "                                                              n_estimators=200,\n",
              "                                                              random_state=42)],\n",
              "                          &#x27;regressor__bootstrap&#x27;: [True, False],\n",
              "                          &#x27;regressor__criterion&#x27;: [&#x27;squared_error&#x27;,\n",
              "                                                   &#x27;absolute_error&#x27;,\n",
              "                                                   &#x27;friedman_mse&#x27;, &#x27;poisson&#x27;],\n",
              "                          &#x27;regressor__max_depth&#x27;: [50, 100, None],\n",
              "                          &#x27;regressor__max_features&#x27;: [&#x27;sqrt&#x27;, &#x27;log2&#x27;, 1.0],\n",
              "                          &#x27;regressor__n_estimators&#x27;: [50, 100, 200]}],\n",
              "             verbose=1)</pre><b>In a Jupyter environment, please rerun this cell to show the HTML representation or trust the notebook. <br />On GitHub, the HTML representation is unable to render, please try loading this page with nbviewer.org.</b></div><div class=\"sk-container\" hidden><div class=\"sk-item sk-dashed-wrapped\"><div class=\"sk-label-container\"><div class=\"sk-label sk-toggleable\"><input class=\"sk-toggleable__control sk-hidden--visually\" id=\"sk-estimator-id-7\" type=\"checkbox\" ><label for=\"sk-estimator-id-7\" class=\"sk-toggleable__label sk-toggleable__label-arrow\">GridSearchCV</label><div class=\"sk-toggleable__content\"><pre>GridSearchCV(cv=3,\n",
              "             estimator=Pipeline(steps=[(&#x27;regressor&#x27;, KNeighborsRegressor())]),\n",
              "             n_jobs=-1,\n",
              "             param_grid=[{&#x27;regressor&#x27;: [KNeighborsRegressor()],\n",
              "                          &#x27;regressor__n_neighbors&#x27;: [1, 3, 5, 7, 9],\n",
              "                          &#x27;regressor__p&#x27;: [1, 2],\n",
              "                          &#x27;regressor__weights&#x27;: [&#x27;uniform&#x27;, &#x27;distance&#x27;]},\n",
              "                         {&#x27;regressor&#x27;: [LinearRegression()],\n",
              "                          &#x27;regressor__fit_intercept&#x27;: [True]},\n",
              "                         {&#x27;regressor&#x27;: [RandomForestRegressor(b...e,\n",
              "                                                              criterion=&#x27;absolute_error&#x27;,\n",
              "                                                              max_depth=50,\n",
              "                                                              max_features=&#x27;sqrt&#x27;,\n",
              "                                                              n_estimators=200,\n",
              "                                                              random_state=42)],\n",
              "                          &#x27;regressor__bootstrap&#x27;: [True, False],\n",
              "                          &#x27;regressor__criterion&#x27;: [&#x27;squared_error&#x27;,\n",
              "                                                   &#x27;absolute_error&#x27;,\n",
              "                                                   &#x27;friedman_mse&#x27;, &#x27;poisson&#x27;],\n",
              "                          &#x27;regressor__max_depth&#x27;: [50, 100, None],\n",
              "                          &#x27;regressor__max_features&#x27;: [&#x27;sqrt&#x27;, &#x27;log2&#x27;, 1.0],\n",
              "                          &#x27;regressor__n_estimators&#x27;: [50, 100, 200]}],\n",
              "             verbose=1)</pre></div></div></div><div class=\"sk-parallel\"><div class=\"sk-parallel-item\"><div class=\"sk-item\"><div class=\"sk-label-container\"><div class=\"sk-label sk-toggleable\"><input class=\"sk-toggleable__control sk-hidden--visually\" id=\"sk-estimator-id-8\" type=\"checkbox\" ><label for=\"sk-estimator-id-8\" class=\"sk-toggleable__label sk-toggleable__label-arrow\">estimator: Pipeline</label><div class=\"sk-toggleable__content\"><pre>Pipeline(steps=[(&#x27;regressor&#x27;, KNeighborsRegressor())])</pre></div></div></div><div class=\"sk-serial\"><div class=\"sk-item\"><div class=\"sk-serial\"><div class=\"sk-item\"><div class=\"sk-estimator sk-toggleable\"><input class=\"sk-toggleable__control sk-hidden--visually\" id=\"sk-estimator-id-9\" type=\"checkbox\" ><label for=\"sk-estimator-id-9\" class=\"sk-toggleable__label sk-toggleable__label-arrow\">KNeighborsRegressor</label><div class=\"sk-toggleable__content\"><pre>KNeighborsRegressor()</pre></div></div></div></div></div></div></div></div></div></div></div></div>"
            ]
          },
          "metadata": {},
          "execution_count": 57
        }
      ],
      "source": [
        "regressor = Pipeline([\n",
        "    ('regressor', KNeighborsRegressor())\n",
        "])\n",
        "\n",
        "param_grid = [\n",
        "    {'regressor' : [KNeighborsRegressor()],\n",
        "     'regressor__n_neighbors' : [x for x in range(1, 10, 2)],\n",
        "     'regressor__weights' : ['uniform', 'distance'],\n",
        "     'regressor__p' : [1,2]\n",
        "},\n",
        "    {'regressor' : [LinearRegression()],\n",
        "     'regressor__fit_intercept' : [True]\n",
        "},\n",
        "    {'regressor' : [RandomForestRegressor(random_state = 42)],\n",
        "     'regressor__max_depth' : [50, 100, None],\n",
        "     'regressor__bootstrap' : [True, False],\n",
        "     'regressor__n_estimators' : [50, 100, 200],\n",
        "     'regressor__criterion' : [\"squared_error\", \"absolute_error\", \"friedman_mse\", \"poisson\"],\n",
        "     'regressor__max_features' : ['sqrt', 'log2', 1.0]\n",
        "\n",
        "}\n",
        "]\n",
        "\n",
        "model_3 = GridSearchCV(\n",
        "    regressor,\n",
        "    param_grid,\n",
        "    cv = 3,\n",
        "    n_jobs = -1,\n",
        "    verbose = 1\n",
        ")\n",
        "\n",
        "model_3.fit(X_train, y_train)"
      ]
    },
    {
      "cell_type": "markdown",
      "metadata": {
        "id": "wIUp7GdZYSdi"
      },
      "source": [
        "Untuk mengetahui kombinasi parameter terbaik, jalankan perintah di bawah ini."
      ]
    },
    {
      "cell_type": "code",
      "execution_count": 82,
      "metadata": {
        "colab": {
          "base_uri": "https://localhost:8080/"
        },
        "id": "EHRP-bCpYSdi",
        "outputId": "12600df3-68bb-448a-cdee-44f5427493e6"
      },
      "outputs": [
        {
          "output_type": "execute_result",
          "data": {
            "text/plain": [
              "{'regressor': RandomForestRegressor(bootstrap=False, criterion='absolute_error', max_depth=50,\n",
              "                       max_features='sqrt', n_estimators=200, random_state=42),\n",
              " 'regressor__bootstrap': False,\n",
              " 'regressor__criterion': 'absolute_error',\n",
              " 'regressor__max_depth': 50,\n",
              " 'regressor__max_features': 'sqrt',\n",
              " 'regressor__n_estimators': 200}"
            ]
          },
          "metadata": {},
          "execution_count": 82
        }
      ],
      "source": [
        "model_3.best_params_"
      ]
    },
    {
      "cell_type": "markdown",
      "metadata": {
        "id": "yCippl1oYSdj"
      },
      "source": [
        "Untuk melihat laporan mengenai hasil Cross Validation dan Hyperparameter Tuning, jalankan perintah di bawah ini."
      ]
    },
    {
      "cell_type": "code",
      "execution_count": 83,
      "metadata": {
        "colab": {
          "base_uri": "https://localhost:8080/",
          "height": 342
        },
        "id": "gx2RWNsFYSdj",
        "outputId": "656085cd-8054-4212-be41-988cb0a51d6d"
      },
      "outputs": [
        {
          "output_type": "execute_result",
          "data": {
            "text/plain": [
              "   index  mean_fit_time  std_fit_time  mean_score_time  std_score_time  \\\n",
              "0    176       7.716955      0.600866         0.038856        0.010014   \n",
              "1    167       7.633591      0.358120         0.040172        0.010935   \n",
              "2    158       7.720424      0.415752         0.050423        0.025359   \n",
              "3    140       0.998423      0.005115         0.035191        0.002505   \n",
              "4    149       1.497518      0.190748         0.069441        0.008872   \n",
              "\n",
              "                                     param_regressor  \\\n",
              "0  RandomForestRegressor(bootstrap=False, criteri...   \n",
              "1  RandomForestRegressor(bootstrap=False, criteri...   \n",
              "2  RandomForestRegressor(bootstrap=False, criteri...   \n",
              "3  RandomForestRegressor(bootstrap=False, criteri...   \n",
              "4  RandomForestRegressor(bootstrap=False, criteri...   \n",
              "\n",
              "  param_regressor__n_neighbors param_regressor__p param_regressor__weights  \\\n",
              "0                          NaN                NaN                      NaN   \n",
              "1                          NaN                NaN                      NaN   \n",
              "2                          NaN                NaN                      NaN   \n",
              "3                          NaN                NaN                      NaN   \n",
              "4                          NaN                NaN                      NaN   \n",
              "\n",
              "  param_regressor__fit_intercept  ... param_regressor__max_depth  \\\n",
              "0                            NaN  ...                       None   \n",
              "1                            NaN  ...                        100   \n",
              "2                            NaN  ...                         50   \n",
              "3                            NaN  ...                        100   \n",
              "4                            NaN  ...                       None   \n",
              "\n",
              "  param_regressor__max_features param_regressor__n_estimators  \\\n",
              "0                          sqrt                           200   \n",
              "1                          sqrt                           200   \n",
              "2                          sqrt                           200   \n",
              "3                          sqrt                           200   \n",
              "4                          sqrt                           200   \n",
              "\n",
              "                                              params split0_test_score  \\\n",
              "0  {'regressor': RandomForestRegressor(bootstrap=...          0.902752   \n",
              "1  {'regressor': RandomForestRegressor(bootstrap=...          0.902752   \n",
              "2  {'regressor': RandomForestRegressor(bootstrap=...          0.902752   \n",
              "3  {'regressor': RandomForestRegressor(bootstrap=...          0.902235   \n",
              "4  {'regressor': RandomForestRegressor(bootstrap=...          0.902235   \n",
              "\n",
              "  split1_test_score  split2_test_score  mean_test_score  std_test_score  \\\n",
              "0          0.871230           0.894648         0.889543        0.013365   \n",
              "1          0.871230           0.894648         0.889543        0.013365   \n",
              "2          0.871230           0.894648         0.889543        0.013365   \n",
              "3          0.871349           0.894801         0.889461        0.013162   \n",
              "4          0.871349           0.894801         0.889461        0.013162   \n",
              "\n",
              "   rank_test_score  \n",
              "0                1  \n",
              "1                1  \n",
              "2                1  \n",
              "3                4  \n",
              "4                4  \n",
              "\n",
              "[5 rows x 22 columns]"
            ],
            "text/html": [
              "\n",
              "  <div id=\"df-429c0d30-7124-4649-b1d1-b95418b2800e\" class=\"colab-df-container\">\n",
              "    <div>\n",
              "<style scoped>\n",
              "    .dataframe tbody tr th:only-of-type {\n",
              "        vertical-align: middle;\n",
              "    }\n",
              "\n",
              "    .dataframe tbody tr th {\n",
              "        vertical-align: top;\n",
              "    }\n",
              "\n",
              "    .dataframe thead th {\n",
              "        text-align: right;\n",
              "    }\n",
              "</style>\n",
              "<table border=\"1\" class=\"dataframe\">\n",
              "  <thead>\n",
              "    <tr style=\"text-align: right;\">\n",
              "      <th></th>\n",
              "      <th>index</th>\n",
              "      <th>mean_fit_time</th>\n",
              "      <th>std_fit_time</th>\n",
              "      <th>mean_score_time</th>\n",
              "      <th>std_score_time</th>\n",
              "      <th>param_regressor</th>\n",
              "      <th>param_regressor__n_neighbors</th>\n",
              "      <th>param_regressor__p</th>\n",
              "      <th>param_regressor__weights</th>\n",
              "      <th>param_regressor__fit_intercept</th>\n",
              "      <th>...</th>\n",
              "      <th>param_regressor__max_depth</th>\n",
              "      <th>param_regressor__max_features</th>\n",
              "      <th>param_regressor__n_estimators</th>\n",
              "      <th>params</th>\n",
              "      <th>split0_test_score</th>\n",
              "      <th>split1_test_score</th>\n",
              "      <th>split2_test_score</th>\n",
              "      <th>mean_test_score</th>\n",
              "      <th>std_test_score</th>\n",
              "      <th>rank_test_score</th>\n",
              "    </tr>\n",
              "  </thead>\n",
              "  <tbody>\n",
              "    <tr>\n",
              "      <th>0</th>\n",
              "      <td>176</td>\n",
              "      <td>7.716955</td>\n",
              "      <td>0.600866</td>\n",
              "      <td>0.038856</td>\n",
              "      <td>0.010014</td>\n",
              "      <td>RandomForestRegressor(bootstrap=False, criteri...</td>\n",
              "      <td>NaN</td>\n",
              "      <td>NaN</td>\n",
              "      <td>NaN</td>\n",
              "      <td>NaN</td>\n",
              "      <td>...</td>\n",
              "      <td>None</td>\n",
              "      <td>sqrt</td>\n",
              "      <td>200</td>\n",
              "      <td>{'regressor': RandomForestRegressor(bootstrap=...</td>\n",
              "      <td>0.902752</td>\n",
              "      <td>0.871230</td>\n",
              "      <td>0.894648</td>\n",
              "      <td>0.889543</td>\n",
              "      <td>0.013365</td>\n",
              "      <td>1</td>\n",
              "    </tr>\n",
              "    <tr>\n",
              "      <th>1</th>\n",
              "      <td>167</td>\n",
              "      <td>7.633591</td>\n",
              "      <td>0.358120</td>\n",
              "      <td>0.040172</td>\n",
              "      <td>0.010935</td>\n",
              "      <td>RandomForestRegressor(bootstrap=False, criteri...</td>\n",
              "      <td>NaN</td>\n",
              "      <td>NaN</td>\n",
              "      <td>NaN</td>\n",
              "      <td>NaN</td>\n",
              "      <td>...</td>\n",
              "      <td>100</td>\n",
              "      <td>sqrt</td>\n",
              "      <td>200</td>\n",
              "      <td>{'regressor': RandomForestRegressor(bootstrap=...</td>\n",
              "      <td>0.902752</td>\n",
              "      <td>0.871230</td>\n",
              "      <td>0.894648</td>\n",
              "      <td>0.889543</td>\n",
              "      <td>0.013365</td>\n",
              "      <td>1</td>\n",
              "    </tr>\n",
              "    <tr>\n",
              "      <th>2</th>\n",
              "      <td>158</td>\n",
              "      <td>7.720424</td>\n",
              "      <td>0.415752</td>\n",
              "      <td>0.050423</td>\n",
              "      <td>0.025359</td>\n",
              "      <td>RandomForestRegressor(bootstrap=False, criteri...</td>\n",
              "      <td>NaN</td>\n",
              "      <td>NaN</td>\n",
              "      <td>NaN</td>\n",
              "      <td>NaN</td>\n",
              "      <td>...</td>\n",
              "      <td>50</td>\n",
              "      <td>sqrt</td>\n",
              "      <td>200</td>\n",
              "      <td>{'regressor': RandomForestRegressor(bootstrap=...</td>\n",
              "      <td>0.902752</td>\n",
              "      <td>0.871230</td>\n",
              "      <td>0.894648</td>\n",
              "      <td>0.889543</td>\n",
              "      <td>0.013365</td>\n",
              "      <td>1</td>\n",
              "    </tr>\n",
              "    <tr>\n",
              "      <th>3</th>\n",
              "      <td>140</td>\n",
              "      <td>0.998423</td>\n",
              "      <td>0.005115</td>\n",
              "      <td>0.035191</td>\n",
              "      <td>0.002505</td>\n",
              "      <td>RandomForestRegressor(bootstrap=False, criteri...</td>\n",
              "      <td>NaN</td>\n",
              "      <td>NaN</td>\n",
              "      <td>NaN</td>\n",
              "      <td>NaN</td>\n",
              "      <td>...</td>\n",
              "      <td>100</td>\n",
              "      <td>sqrt</td>\n",
              "      <td>200</td>\n",
              "      <td>{'regressor': RandomForestRegressor(bootstrap=...</td>\n",
              "      <td>0.902235</td>\n",
              "      <td>0.871349</td>\n",
              "      <td>0.894801</td>\n",
              "      <td>0.889461</td>\n",
              "      <td>0.013162</td>\n",
              "      <td>4</td>\n",
              "    </tr>\n",
              "    <tr>\n",
              "      <th>4</th>\n",
              "      <td>149</td>\n",
              "      <td>1.497518</td>\n",
              "      <td>0.190748</td>\n",
              "      <td>0.069441</td>\n",
              "      <td>0.008872</td>\n",
              "      <td>RandomForestRegressor(bootstrap=False, criteri...</td>\n",
              "      <td>NaN</td>\n",
              "      <td>NaN</td>\n",
              "      <td>NaN</td>\n",
              "      <td>NaN</td>\n",
              "      <td>...</td>\n",
              "      <td>None</td>\n",
              "      <td>sqrt</td>\n",
              "      <td>200</td>\n",
              "      <td>{'regressor': RandomForestRegressor(bootstrap=...</td>\n",
              "      <td>0.902235</td>\n",
              "      <td>0.871349</td>\n",
              "      <td>0.894801</td>\n",
              "      <td>0.889461</td>\n",
              "      <td>0.013162</td>\n",
              "      <td>4</td>\n",
              "    </tr>\n",
              "  </tbody>\n",
              "</table>\n",
              "<p>5 rows × 22 columns</p>\n",
              "</div>\n",
              "    <div class=\"colab-df-buttons\">\n",
              "\n",
              "  <div class=\"colab-df-container\">\n",
              "    <button class=\"colab-df-convert\" onclick=\"convertToInteractive('df-429c0d30-7124-4649-b1d1-b95418b2800e')\"\n",
              "            title=\"Convert this dataframe to an interactive table.\"\n",
              "            style=\"display:none;\">\n",
              "\n",
              "  <svg xmlns=\"http://www.w3.org/2000/svg\" height=\"24px\" viewBox=\"0 -960 960 960\">\n",
              "    <path d=\"M120-120v-720h720v720H120Zm60-500h600v-160H180v160Zm220 220h160v-160H400v160Zm0 220h160v-160H400v160ZM180-400h160v-160H180v160Zm440 0h160v-160H620v160ZM180-180h160v-160H180v160Zm440 0h160v-160H620v160Z\"/>\n",
              "  </svg>\n",
              "    </button>\n",
              "\n",
              "  <style>\n",
              "    .colab-df-container {\n",
              "      display:flex;\n",
              "      gap: 12px;\n",
              "    }\n",
              "\n",
              "    .colab-df-convert {\n",
              "      background-color: #E8F0FE;\n",
              "      border: none;\n",
              "      border-radius: 50%;\n",
              "      cursor: pointer;\n",
              "      display: none;\n",
              "      fill: #1967D2;\n",
              "      height: 32px;\n",
              "      padding: 0 0 0 0;\n",
              "      width: 32px;\n",
              "    }\n",
              "\n",
              "    .colab-df-convert:hover {\n",
              "      background-color: #E2EBFA;\n",
              "      box-shadow: 0px 1px 2px rgba(60, 64, 67, 0.3), 0px 1px 3px 1px rgba(60, 64, 67, 0.15);\n",
              "      fill: #174EA6;\n",
              "    }\n",
              "\n",
              "    .colab-df-buttons div {\n",
              "      margin-bottom: 4px;\n",
              "    }\n",
              "\n",
              "    [theme=dark] .colab-df-convert {\n",
              "      background-color: #3B4455;\n",
              "      fill: #D2E3FC;\n",
              "    }\n",
              "\n",
              "    [theme=dark] .colab-df-convert:hover {\n",
              "      background-color: #434B5C;\n",
              "      box-shadow: 0px 1px 3px 1px rgba(0, 0, 0, 0.15);\n",
              "      filter: drop-shadow(0px 1px 2px rgba(0, 0, 0, 0.3));\n",
              "      fill: #FFFFFF;\n",
              "    }\n",
              "  </style>\n",
              "\n",
              "    <script>\n",
              "      const buttonEl =\n",
              "        document.querySelector('#df-429c0d30-7124-4649-b1d1-b95418b2800e button.colab-df-convert');\n",
              "      buttonEl.style.display =\n",
              "        google.colab.kernel.accessAllowed ? 'block' : 'none';\n",
              "\n",
              "      async function convertToInteractive(key) {\n",
              "        const element = document.querySelector('#df-429c0d30-7124-4649-b1d1-b95418b2800e');\n",
              "        const dataTable =\n",
              "          await google.colab.kernel.invokeFunction('convertToInteractive',\n",
              "                                                    [key], {});\n",
              "        if (!dataTable) return;\n",
              "\n",
              "        const docLinkHtml = 'Like what you see? Visit the ' +\n",
              "          '<a target=\"_blank\" href=https://colab.research.google.com/notebooks/data_table.ipynb>data table notebook</a>'\n",
              "          + ' to learn more about interactive tables.';\n",
              "        element.innerHTML = '';\n",
              "        dataTable['output_type'] = 'display_data';\n",
              "        await google.colab.output.renderOutput(dataTable, element);\n",
              "        const docLink = document.createElement('div');\n",
              "        docLink.innerHTML = docLinkHtml;\n",
              "        element.appendChild(docLink);\n",
              "      }\n",
              "    </script>\n",
              "  </div>\n",
              "\n",
              "\n",
              "<div id=\"df-1989d758-0d71-4ccc-a34c-6110783382e4\">\n",
              "  <button class=\"colab-df-quickchart\" onclick=\"quickchart('df-1989d758-0d71-4ccc-a34c-6110783382e4')\"\n",
              "            title=\"Suggest charts\"\n",
              "            style=\"display:none;\">\n",
              "\n",
              "<svg xmlns=\"http://www.w3.org/2000/svg\" height=\"24px\"viewBox=\"0 0 24 24\"\n",
              "     width=\"24px\">\n",
              "    <g>\n",
              "        <path d=\"M19 3H5c-1.1 0-2 .9-2 2v14c0 1.1.9 2 2 2h14c1.1 0 2-.9 2-2V5c0-1.1-.9-2-2-2zM9 17H7v-7h2v7zm4 0h-2V7h2v10zm4 0h-2v-4h2v4z\"/>\n",
              "    </g>\n",
              "</svg>\n",
              "  </button>\n",
              "\n",
              "<style>\n",
              "  .colab-df-quickchart {\n",
              "      --bg-color: #E8F0FE;\n",
              "      --fill-color: #1967D2;\n",
              "      --hover-bg-color: #E2EBFA;\n",
              "      --hover-fill-color: #174EA6;\n",
              "      --disabled-fill-color: #AAA;\n",
              "      --disabled-bg-color: #DDD;\n",
              "  }\n",
              "\n",
              "  [theme=dark] .colab-df-quickchart {\n",
              "      --bg-color: #3B4455;\n",
              "      --fill-color: #D2E3FC;\n",
              "      --hover-bg-color: #434B5C;\n",
              "      --hover-fill-color: #FFFFFF;\n",
              "      --disabled-bg-color: #3B4455;\n",
              "      --disabled-fill-color: #666;\n",
              "  }\n",
              "\n",
              "  .colab-df-quickchart {\n",
              "    background-color: var(--bg-color);\n",
              "    border: none;\n",
              "    border-radius: 50%;\n",
              "    cursor: pointer;\n",
              "    display: none;\n",
              "    fill: var(--fill-color);\n",
              "    height: 32px;\n",
              "    padding: 0;\n",
              "    width: 32px;\n",
              "  }\n",
              "\n",
              "  .colab-df-quickchart:hover {\n",
              "    background-color: var(--hover-bg-color);\n",
              "    box-shadow: 0 1px 2px rgba(60, 64, 67, 0.3), 0 1px 3px 1px rgba(60, 64, 67, 0.15);\n",
              "    fill: var(--button-hover-fill-color);\n",
              "  }\n",
              "\n",
              "  .colab-df-quickchart-complete:disabled,\n",
              "  .colab-df-quickchart-complete:disabled:hover {\n",
              "    background-color: var(--disabled-bg-color);\n",
              "    fill: var(--disabled-fill-color);\n",
              "    box-shadow: none;\n",
              "  }\n",
              "\n",
              "  .colab-df-spinner {\n",
              "    border: 2px solid var(--fill-color);\n",
              "    border-color: transparent;\n",
              "    border-bottom-color: var(--fill-color);\n",
              "    animation:\n",
              "      spin 1s steps(1) infinite;\n",
              "  }\n",
              "\n",
              "  @keyframes spin {\n",
              "    0% {\n",
              "      border-color: transparent;\n",
              "      border-bottom-color: var(--fill-color);\n",
              "      border-left-color: var(--fill-color);\n",
              "    }\n",
              "    20% {\n",
              "      border-color: transparent;\n",
              "      border-left-color: var(--fill-color);\n",
              "      border-top-color: var(--fill-color);\n",
              "    }\n",
              "    30% {\n",
              "      border-color: transparent;\n",
              "      border-left-color: var(--fill-color);\n",
              "      border-top-color: var(--fill-color);\n",
              "      border-right-color: var(--fill-color);\n",
              "    }\n",
              "    40% {\n",
              "      border-color: transparent;\n",
              "      border-right-color: var(--fill-color);\n",
              "      border-top-color: var(--fill-color);\n",
              "    }\n",
              "    60% {\n",
              "      border-color: transparent;\n",
              "      border-right-color: var(--fill-color);\n",
              "    }\n",
              "    80% {\n",
              "      border-color: transparent;\n",
              "      border-right-color: var(--fill-color);\n",
              "      border-bottom-color: var(--fill-color);\n",
              "    }\n",
              "    90% {\n",
              "      border-color: transparent;\n",
              "      border-bottom-color: var(--fill-color);\n",
              "    }\n",
              "  }\n",
              "</style>\n",
              "\n",
              "  <script>\n",
              "    async function quickchart(key) {\n",
              "      const quickchartButtonEl =\n",
              "        document.querySelector('#' + key + ' button');\n",
              "      quickchartButtonEl.disabled = true;  // To prevent multiple clicks.\n",
              "      quickchartButtonEl.classList.add('colab-df-spinner');\n",
              "      try {\n",
              "        const charts = await google.colab.kernel.invokeFunction(\n",
              "            'suggestCharts', [key], {});\n",
              "      } catch (error) {\n",
              "        console.error('Error during call to suggestCharts:', error);\n",
              "      }\n",
              "      quickchartButtonEl.classList.remove('colab-df-spinner');\n",
              "      quickchartButtonEl.classList.add('colab-df-quickchart-complete');\n",
              "    }\n",
              "    (() => {\n",
              "      let quickchartButtonEl =\n",
              "        document.querySelector('#df-1989d758-0d71-4ccc-a34c-6110783382e4 button');\n",
              "      quickchartButtonEl.style.display =\n",
              "        google.colab.kernel.accessAllowed ? 'block' : 'none';\n",
              "    })();\n",
              "  </script>\n",
              "</div>\n",
              "    </div>\n",
              "  </div>\n"
            ],
            "application/vnd.google.colaboratory.intrinsic+json": {
              "type": "dataframe",
              "variable_name": "report"
            }
          },
          "metadata": {},
          "execution_count": 83
        }
      ],
      "source": [
        "report = pd.DataFrame(model_3.cv_results_).sort_values('rank_test_score').reset_index()\n",
        "report.head()\n"
      ]
    },
    {
      "cell_type": "markdown",
      "metadata": {
        "id": "nEgMREEAYSdj"
      },
      "source": [
        "Terlihat bahwa kombinasi parameter yang menghasilkan model terbaik adalah sebagai berikut:\n",
        "\n",
        "|parameter|nilai|\n",
        "|--|--|\n",
        "|regressor|RandomForestRegressor(random_state = 42)|\n",
        "|max_depth|50|\n",
        "|bootstrap|False|\n",
        "|n_estimators|200|\n",
        "|criterion|'absolute_error'|\n",
        "|max_features|'sqrt'|\n",
        "\n",
        "Model dari kombinasi parameter tersebut disimpan dalam variable `model_3`, menghasilkan rata-rata test score yaitu sekitar 0.89 atau 89% dan sudah dilakukan cross validation sebanyak 3 kali, sehingga hasil prediksi dari model lebih dapat dipercaya dan kemungkinan terhadap kebetulan sudah diminimalisir. Hasil tersebut juga lebih baik dari model-model sebelumnya yaitu `model_1` yang memiliki nilai performa 81% dan `model_2` yang memiliki nilai performa 79%"
      ]
    },
    {
      "cell_type": "markdown",
      "metadata": {
        "id": "ljJr0WYsYSdj"
      },
      "source": [
        "#### Membangun Model dari Kombinasi Parameter Terbaik\n",
        "\n",
        "Sebenarnya model dari kombinasi parameter terbaik di atas yang disimpan pada variable `model_3` hasil dari proses cross validation dan hyperparameter tuning menggunakan GridSearchCV dapat langsung digunakan untuk memprediksi nilai data dengan mengeksekusi `model_3.predict(X_test)`, tidak perlu membangun ulang model. Proses ini dilakukan dalam rangka mendokumentasikan hasil dari GridSearchCV yang mana memerlukan waktu yang cukup lama jika dilakukan pengeksekusian kembali."
      ]
    },
    {
      "cell_type": "markdown",
      "metadata": {
        "id": "KiEruCLzYSdj"
      },
      "source": [
        "Untuk membangun model dari kombinasi parameter terbaik GridSearchCV, dapat mengeksekusi perintah berikut ini."
      ]
    },
    {
      "cell_type": "code",
      "execution_count": 84,
      "metadata": {
        "colab": {
          "base_uri": "https://localhost:8080/",
          "height": 92
        },
        "id": "XW5Fs3uJYSdk",
        "outputId": "75a29fe2-829c-49e1-bf0c-f491541e6878"
      },
      "outputs": [
        {
          "output_type": "execute_result",
          "data": {
            "text/plain": [
              "RandomForestRegressor(bootstrap=False, criterion='absolute_error', max_depth=50,\n",
              "                      max_features='sqrt', n_estimators=200, random_state=42)"
            ],
            "text/html": [
              "<style>#sk-container-id-9 {color: black;background-color: white;}#sk-container-id-9 pre{padding: 0;}#sk-container-id-9 div.sk-toggleable {background-color: white;}#sk-container-id-9 label.sk-toggleable__label {cursor: pointer;display: block;width: 100%;margin-bottom: 0;padding: 0.3em;box-sizing: border-box;text-align: center;}#sk-container-id-9 label.sk-toggleable__label-arrow:before {content: \"▸\";float: left;margin-right: 0.25em;color: #696969;}#sk-container-id-9 label.sk-toggleable__label-arrow:hover:before {color: black;}#sk-container-id-9 div.sk-estimator:hover label.sk-toggleable__label-arrow:before {color: black;}#sk-container-id-9 div.sk-toggleable__content {max-height: 0;max-width: 0;overflow: hidden;text-align: left;background-color: #f0f8ff;}#sk-container-id-9 div.sk-toggleable__content pre {margin: 0.2em;color: black;border-radius: 0.25em;background-color: #f0f8ff;}#sk-container-id-9 input.sk-toggleable__control:checked~div.sk-toggleable__content {max-height: 200px;max-width: 100%;overflow: auto;}#sk-container-id-9 input.sk-toggleable__control:checked~label.sk-toggleable__label-arrow:before {content: \"▾\";}#sk-container-id-9 div.sk-estimator input.sk-toggleable__control:checked~label.sk-toggleable__label {background-color: #d4ebff;}#sk-container-id-9 div.sk-label input.sk-toggleable__control:checked~label.sk-toggleable__label {background-color: #d4ebff;}#sk-container-id-9 input.sk-hidden--visually {border: 0;clip: rect(1px 1px 1px 1px);clip: rect(1px, 1px, 1px, 1px);height: 1px;margin: -1px;overflow: hidden;padding: 0;position: absolute;width: 1px;}#sk-container-id-9 div.sk-estimator {font-family: monospace;background-color: #f0f8ff;border: 1px dotted black;border-radius: 0.25em;box-sizing: border-box;margin-bottom: 0.5em;}#sk-container-id-9 div.sk-estimator:hover {background-color: #d4ebff;}#sk-container-id-9 div.sk-parallel-item::after {content: \"\";width: 100%;border-bottom: 1px solid gray;flex-grow: 1;}#sk-container-id-9 div.sk-label:hover label.sk-toggleable__label {background-color: #d4ebff;}#sk-container-id-9 div.sk-serial::before {content: \"\";position: absolute;border-left: 1px solid gray;box-sizing: border-box;top: 0;bottom: 0;left: 50%;z-index: 0;}#sk-container-id-9 div.sk-serial {display: flex;flex-direction: column;align-items: center;background-color: white;padding-right: 0.2em;padding-left: 0.2em;position: relative;}#sk-container-id-9 div.sk-item {position: relative;z-index: 1;}#sk-container-id-9 div.sk-parallel {display: flex;align-items: stretch;justify-content: center;background-color: white;position: relative;}#sk-container-id-9 div.sk-item::before, #sk-container-id-9 div.sk-parallel-item::before {content: \"\";position: absolute;border-left: 1px solid gray;box-sizing: border-box;top: 0;bottom: 0;left: 50%;z-index: -1;}#sk-container-id-9 div.sk-parallel-item {display: flex;flex-direction: column;z-index: 1;position: relative;background-color: white;}#sk-container-id-9 div.sk-parallel-item:first-child::after {align-self: flex-end;width: 50%;}#sk-container-id-9 div.sk-parallel-item:last-child::after {align-self: flex-start;width: 50%;}#sk-container-id-9 div.sk-parallel-item:only-child::after {width: 0;}#sk-container-id-9 div.sk-dashed-wrapped {border: 1px dashed gray;margin: 0 0.4em 0.5em 0.4em;box-sizing: border-box;padding-bottom: 0.4em;background-color: white;}#sk-container-id-9 div.sk-label label {font-family: monospace;font-weight: bold;display: inline-block;line-height: 1.2em;}#sk-container-id-9 div.sk-label-container {text-align: center;}#sk-container-id-9 div.sk-container {/* jupyter's `normalize.less` sets `[hidden] { display: none; }` but bootstrap.min.css set `[hidden] { display: none !important; }` so we also need the `!important` here to be able to override the default hidden behavior on the sphinx rendered scikit-learn.org. See: https://github.com/scikit-learn/scikit-learn/issues/21755 */display: inline-block !important;position: relative;}#sk-container-id-9 div.sk-text-repr-fallback {display: none;}</style><div id=\"sk-container-id-9\" class=\"sk-top-container\"><div class=\"sk-text-repr-fallback\"><pre>RandomForestRegressor(bootstrap=False, criterion=&#x27;absolute_error&#x27;, max_depth=50,\n",
              "                      max_features=&#x27;sqrt&#x27;, n_estimators=200, random_state=42)</pre><b>In a Jupyter environment, please rerun this cell to show the HTML representation or trust the notebook. <br />On GitHub, the HTML representation is unable to render, please try loading this page with nbviewer.org.</b></div><div class=\"sk-container\" hidden><div class=\"sk-item\"><div class=\"sk-estimator sk-toggleable\"><input class=\"sk-toggleable__control sk-hidden--visually\" id=\"sk-estimator-id-13\" type=\"checkbox\" checked><label for=\"sk-estimator-id-13\" class=\"sk-toggleable__label sk-toggleable__label-arrow\">RandomForestRegressor</label><div class=\"sk-toggleable__content\"><pre>RandomForestRegressor(bootstrap=False, criterion=&#x27;absolute_error&#x27;, max_depth=50,\n",
              "                      max_features=&#x27;sqrt&#x27;, n_estimators=200, random_state=42)</pre></div></div></div></div></div>"
            ]
          },
          "metadata": {},
          "execution_count": 84
        }
      ],
      "source": [
        "model_3_docs = RandomForestRegressor(\n",
        "    max_depth = 50,\n",
        "    n_estimators = 200,\n",
        "    bootstrap = False,\n",
        "    max_features = 'sqrt',\n",
        "    criterion = 'absolute_error',\n",
        "    random_state = 42\n",
        ")\n",
        "\n",
        "model_3_docs.fit(X_train, y_train)"
      ]
    },
    {
      "cell_type": "markdown",
      "metadata": {
        "id": "of9NDWE_YSdk"
      },
      "source": [
        "## Mengevaluasi Kembali Performa Model\n",
        "\n",
        "Dari upaya meningkatkan performa model di atas, didapatkan nilai performa terbaik yaitu pada `model_3_docs`. Di sini model dari kombinasi parameter terbaik akan di evaluasi kembali dengan cara yang sama seperti sebelumnya yaitu:\n",
        "- Learning Curves\n",
        "- Evaluasi dengan Mean Absolute Error (MAE)\n",
        "- Evaluasi dengan Coefficient of Determination ($R^2$ Score)"
      ]
    },
    {
      "cell_type": "markdown",
      "metadata": {
        "id": "yVn4UTyFYSdk"
      },
      "source": [
        "### Learning Curves\n",
        "\n",
        "Untuk melakukan visualisasi terhadap learning curves, dapat mengeksekusi perintah di bawah ini."
      ]
    },
    {
      "cell_type": "code",
      "execution_count": 69,
      "metadata": {
        "colab": {
          "base_uri": "https://localhost:8080/",
          "height": 472
        },
        "id": "ZI8BDea9YSdk",
        "outputId": "7a2426c8-0c78-4d91-c6bf-39f8756618a1"
      },
      "outputs": [
        {
          "output_type": "display_data",
          "data": {
            "text/plain": [
              "<Figure size 640x480 with 1 Axes>"
            ],
            "image/png": "[encoded data removed]"
          },
          "metadata": {}
        }
      ],
      "source": [
        "persentase_jumlah_data = np.linspace(0.1, 1, 200)\n",
        "\n",
        "learning_curves_train = []\n",
        "learning_curves_test  = []\n",
        "\n",
        "for persentase in persentase_jumlah_data:\n",
        "    X_train_subset = X_train[0 : int(len(X_train) * persentase)]\n",
        "    y_train_subset = y_train[0 : int(len(y_train) * persentase)]\n",
        "\n",
        "    X_test_subset = X_test[0 : int(len(X_test) * persentase)]\n",
        "    y_test_subset = y_test[0 : int(len(y_test) * persentase)]\n",
        "\n",
        "    model_3_docs.fit(X_train_subset, y_train_subset)\n",
        "\n",
        "    score = model_3_docs.score(X_train_subset, y_train_subset)\n",
        "    learning_curves_train.append(score)\n",
        "\n",
        "    score = model_3_docs.score(X_test_subset, y_test_subset)\n",
        "    learning_curves_test.append(score)\n",
        "\n",
        "plt.plot(persentase_jumlah_data * 100, np.array(learning_curves_train) * 100, label = 'training data')\n",
        "plt.plot(persentase_jumlah_data * 100, np.array(learning_curves_test) * 100, label = 'testing data')\n",
        "plt.legend()\n",
        "plt.xlabel('Persentase Sample Data yang Digunakan')\n",
        "plt.ylabel('Persentase Nilai Akurasi Model')\n",
        "plt.title('Learning Curves Model')\n",
        "plt.xlim(0, 110)\n",
        "plt.ylim(0, 110)\n",
        "plt.show()"
      ]
    },
    {
      "cell_type": "markdown",
      "metadata": {
        "id": "1I80FxX8YSdl"
      },
      "source": [
        "Terlihat bahwa seiring dengan banyaknya sample data yang digunakan, learning curves dari training data dan testing data semakin berdekatan dengan akurasi sekitar 90%. Ini mengindikasikan bahwa model yang digunakan mendekati Good Fit."
      ]
    },
    {
      "cell_type": "markdown",
      "metadata": {
        "id": "1KkjuTZqYSdl"
      },
      "source": [
        "### Evaluasi dengan Mean Absolute Error (MAE)\n",
        "\n",
        "Selanjutnya untuk melakukan evaluasi dengan MAE, dapat mengeksekusi perintah di bawah ini."
      ]
    },
    {
      "cell_type": "code",
      "execution_count": 85,
      "metadata": {
        "colab": {
          "base_uri": "https://localhost:8080/"
        },
        "id": "b8qfd9g5YSdl",
        "outputId": "445fc77b-49fd-4826-a56f-96890258c1f7"
      },
      "outputs": [
        {
          "output_type": "execute_result",
          "data": {
            "text/plain": [
              "14291.657328767124"
            ]
          },
          "metadata": {},
          "execution_count": 85
        }
      ],
      "source": [
        "y_pred = model_3_docs.predict(X_test)\n",
        "\n",
        "mean_absolute_error(y_test, y_pred)"
      ]
    },
    {
      "cell_type": "markdown",
      "metadata": {
        "id": "EZ-5U_LQYSdl"
      },
      "source": [
        "Didapat nilai MAE sekitar 14300 yang mana hasil tersebut lebih kecil dari hasil sebelumnya pada `model_1` yaitu sekitar 24800. Dapat dikatakan bahwa performa model mengalami peningkatan dan hasil prediksi dari model lebih dapat dipercaya karena telah dilakukan 3 kali Cross Validation. Dengan model yang baru dapat diinterpretasikan dengan \"Secara rata-rata, nilai `SalePrice` hasil prediksi memiliki selisih (error) terhadap nilai sebenarnya sebesar kurang lebih 14300\"."
      ]
    },
    {
      "cell_type": "markdown",
      "metadata": {
        "id": "P1clo7yAYSdl"
      },
      "source": [
        "### Evaluasi dengan Coefficient of Determination ($R^2$ Score)\n",
        "\n",
        "Terakhir untuk melakukan evaluasi dengan $R^2$ Score, dapat mengeksekusi perintah di bawah ini."
      ]
    },
    {
      "cell_type": "code",
      "execution_count": 86,
      "metadata": {
        "colab": {
          "base_uri": "https://localhost:8080/"
        },
        "id": "vI8UjU5oYSdl",
        "outputId": "27a98f6b-bf0e-4aaa-beeb-06478b11fe5b"
      },
      "outputs": [
        {
          "output_type": "execute_result",
          "data": {
            "text/plain": [
              "0.9151466657508682"
            ]
          },
          "metadata": {},
          "execution_count": 86
        }
      ],
      "source": [
        "y_pred = model_3_docs.predict(X_test)\n",
        "r2_score(y_test, y_pred)"
      ]
    },
    {
      "cell_type": "markdown",
      "metadata": {
        "id": "0xtpnVzmYSdm"
      },
      "source": [
        "Didapat nilai $R^2$ Score adalah sekitar 0.92 atau 92% yang mana hasil tersebut lebih besar dari hasil sebelumnya pada `model_1` yaitu sekitar 0.76 atau 76%. Dapat dikatakan bahwa performa model mengalami peningkatan dan hasil prediksi dari model lebih dapat dipercaya karena telah dilakukan 3 kali Cross Validation. Dengan model yang baru dapat diinterpretasikan dengan \"Model mampu melakukan prediksi terhadap nilai sebenarnya dari `SalePrice` dengan ketepatan sekitar 92%\"."
      ]
    }
  ],
  "metadata": {
    "colab": {
      "provenance": [],
      "collapsed_sections": [
        "8K-O03Kb787r",
        "aKCABaKIYSdU",
        "iaoawNO-YSdU",
        "_6o9W7VRYSdX",
        "wMehmyreYSdY",
        "9l6iQzUPYSdZ",
        "Eh3kcl8LYSdb",
        "TbymCFxDYSdb",
        "6BBrTlxdYSdc",
        "8DbZP-riYSdc",
        "mq8xuHbTYSde",
        "iq96fSKZYSdf",
        "1rSsbbYjYSdf",
        "JC-uI29DYSdg",
        "5jgN_zymYSdg",
        "A1LsojCeYSdi",
        "of9NDWE_YSdk",
        "yVn4UTyFYSdk",
        "1KkjuTZqYSdl",
        "P1clo7yAYSdl"
      ]
    },
    "kernelspec": {
      "display_name": "Python 3",
      "name": "python3"
    },
    "language_info": {
      "codemirror_mode": {
        "name": "ipython",
        "version": 3
      },
      "file_extension": ".py",
      "mimetype": "text/x-python",
      "name": "python",
      "nbconvert_exporter": "python",
      "pygments_lexer": "ipython3",
      "version": "3.11.8"
    }
  },
  "nbformat": 4,
  "nbformat_minor": 0
}